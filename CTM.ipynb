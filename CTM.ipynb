{
 "cells": [
  {
   "cell_type": "code",
   "execution_count": 1,
   "metadata": {
    "collapsed": false
   },
   "outputs": [
    {
     "name": "stderr",
     "output_type": "stream",
     "text": [
      "Vendor:  Continuum Analytics, Inc.\n",
      "Package: mkl\n",
      "Message: trial mode expires in 6 days\n",
      "\n",
      "    After the trial mode has expired, if you want to use mkl thereafter,\n",
      "    please purchase a license at http://continuum.io\n",
      "    \n"
     ]
    }
   ],
   "source": [
    "import pandas as pd\n",
    "import numpy as np\n",
    "from scipy import stats as scistats\n",
    "import matplotlib.pyplot as plt\n",
    "import matplotlib.mlab as mlab\n",
    "from IPython.display import Image\n",
    "from scipy.sparse import csr_matrix\n",
    "\n",
    "%matplotlib inline\n",
    "\n"
   ]
  },
  {
   "cell_type": "code",
   "execution_count": 2,
   "metadata": {
    "collapsed": true
   },
   "outputs": [],
   "source": [
    "from CTM import CTM\n",
    "from CTMParallel import CTMParallel\n",
    "import csv"
   ]
  },
  {
   "cell_type": "code",
   "execution_count": 3,
   "metadata": {
    "collapsed": false
   },
   "outputs": [],
   "source": [
    "features =  pd.read_table(\"GSE60361_C1-3005-Expression.txt\", sep='\\t', usecols=range(3006)).set_index('cell_id').T\n"
   ]
  },
  {
   "cell_type": "code",
   "execution_count": 4,
   "metadata": {
    "collapsed": false
   },
   "outputs": [
    {
     "name": "stderr",
     "output_type": "stream",
     "text": [
      "/n/regal/scrb152/Software/Python/pyscrb152/lib/python2.7/site-packages/IPython/kernel/__main__.py:1: FutureWarning: sort is deprecated, use sort_values(inplace=True) for for INPLACE sorting\n",
      "  if __name__ == '__main__':\n"
     ]
    },
    {
     "data": {
      "text/plain": [
       "(3005, 12883)"
      ]
     },
     "execution_count": 4,
     "metadata": {},
     "output_type": "execute_result"
    }
   ],
   "source": [
    "genes_of_interest = (-features.sum()).sort(inplace=False)[20:].index\n",
    "remove_low_expression_genes = features.sum() > 100\n",
    "genes_wanted = remove_low_expression_genes[remove_low_expression_genes].index.intersection(genes_of_interest)\n",
    "#genes_of_interest = genes_of_interest & remove_low_expression_genes\n",
    "features = features.ix[:, genes_wanted]\n",
    "vocab = features.columns\n",
    "compressed_features = csr_matrix(features)\n",
    "compressed_features.shape"
   ]
  },
  {
   "cell_type": "code",
   "execution_count": 5,
   "metadata": {
    "collapsed": false
   },
   "outputs": [
    {
     "data": {
      "text/plain": [
       "76"
      ]
     },
     "execution_count": 5,
     "metadata": {},
     "output_type": "execute_result"
    }
   ],
   "source": [
    "len(set(map(lambda x: x.split('_')[0], features.index.tolist())))"
   ]
  },
  {
   "cell_type": "code",
   "execution_count": 6,
   "metadata": {
    "collapsed": false
   },
   "outputs": [
    {
     "data": {
      "text/plain": [
       "cell_id\n",
       "1772071015_C02    1\n",
       "1772071017_G12    1\n",
       "1772071017_A05    1\n",
       "1772071014_B06    1\n",
       "1772067065_H06    1\n",
       "Name: group #, dtype: object"
      ]
     },
     "execution_count": 6,
     "metadata": {},
     "output_type": "execute_result"
    }
   ],
   "source": [
    "lines = []\n",
    "with open(\"expression_mRNA_17-Aug-2014.txt\", 'r') as f:\n",
    "    reader = csv.reader(f, delimiter='\\t')\n",
    "    for line in reader:\n",
    "        lines.append(line)\n",
    "metadata = pd.DataFrame(lines)\n",
    "metadata = metadata.set_index(0)\n",
    "metadata.columns = metadata.ix['cell_id', :]\n",
    "#metadata.columns = metadata.ix[7, :]\n",
    "#metadata.rename(columns={'cell_id':'info'}).set_index('info')\n",
    "classification = metadata.ix['group #', :]\n",
    "\n",
    "# This contains the classification for each gene into 9 major classes of genes.\n",
    "# We can compare the classification problem using standard SVM to that with LDA, and later with Pachinko Allocation.\n",
    "classification.head()"
   ]
  },
  {
   "cell_type": "code",
   "execution_count": null,
   "metadata": {
    "collapsed": true
   },
   "outputs": [],
   "source": [
    "numTopicsWanted = 4\n",
    "ctm = CTMParallel(compressed_features.shape[0], numTopicsWanted, compressed_features.shape[1],compressed_features.todense(), 10, .001)"
   ]
  },
  {
   "cell_type": "code",
   "execution_count": null,
   "metadata": {
    "collapsed": true
   },
   "outputs": [],
   "source": [
    "ctm.EM()"
   ]
  },
  {
   "cell_type": "code",
   "execution_count": 8,
   "metadata": {
    "collapsed": false
   },
   "outputs": [
    {
     "name": "stdout",
     "output_type": "stream",
     "text": [
      "Overwriting ./run_ctm.sh\n"
     ]
    }
   ],
   "source": [
    "%%writefile ./run_ctm.sh\n",
    "#!/bin/bash\n",
    "\n",
    "#SBATCH -n 64                         #Number of cores\n",
    "#SBATCH -N 1                            #Run on 1 node\n",
    "#SBATCH --mem-per-cpu=1000                       #Memory per cpu in MB (see also --mem)\n",
    "\n",
    "#SBATCH -t 12:30:00              #Indicate duration using HH:MM:SS\n",
    "#SBATCH -p general               #Partition to submit to\n",
    "\n",
    "#SBATCH -o ./runctm_output.out            #File to which standard out will be written\n",
    "#SBATCH -e ./runctm_error.err             #File to which standard err will be written\n",
    "#SBATCH --mail-type=ALL                 #Type of email notification- BEGIN,END,FAIL,ALL\n",
    "#SBATCH --mail-user=ankitgupta@college.harvard.edu  #Email to which notifications will be sent\n",
    "\n",
    "#This job will print the name of the host on which the job is executed, and exit\n",
    "source /n/regal/scrb152/setup.sh\n",
    "source activate /n/regal/scrb152/Software/Python/pyscrb152\n",
    "python ~/281FinalProj/RunCTM.py "
   ]
  },
  {
   "cell_type": "code",
   "execution_count": 2,
   "metadata": {
    "collapsed": false
   },
   "outputs": [
    {
     "name": "stdout",
     "output_type": "stream",
     "text": [
      "Submitted batch job 52400478\n"
     ]
    }
   ],
   "source": [
    "%%bash\n",
    "sbatch ./run_ctm.sh"
   ]
  },
  {
   "cell_type": "code",
   "execution_count": 11,
   "metadata": {
    "collapsed": false
   },
   "outputs": [
    {
     "name": "stdout",
     "output_type": "stream",
     "text": [
      "       JobID    JobName  Partition    Account  AllocCPUS      State ExitCode \n",
      "------------ ---------- ---------- ---------- ---------- ---------- -------- \n",
      "52396240           bash   interact    scrb152          1    RUNNING      0:0 \n",
      "52400478     run_ctm.sh    general    scrb152          0    PENDING      0:0 \n"
     ]
    }
   ],
   "source": [
    "%%bash\n",
    "sacct"
   ]
  },
  {
   "cell_type": "code",
   "execution_count": 58,
   "metadata": {
    "collapsed": false
   },
   "outputs": [
    {
     "name": "stdout",
     "output_type": "stream",
     "text": [
      "64\n"
     ]
    }
   ],
   "source": [
    "%%bash\n",
    "head cpucount_output.out"
   ]
  },
  {
   "cell_type": "code",
   "execution_count": 2,
   "metadata": {
    "collapsed": false
   },
   "outputs": [
    {
     "name": "stderr",
     "output_type": "stream",
     "text": [
      "/n/regal/scrb152/Software/Python/pyscrb152/lib/python2.7/site-packages/IPython/kernel/__main__.py:3: FutureWarning: sort is deprecated, use sort_values(inplace=True) for for INPLACE sorting\n",
      "  app.launch_new_instance()\n"
     ]
    }
   ],
   "source": [
    "data = pd.read_csv('/n/regal/scrb152/Data/Yu_et_al/full_counts_matrix.csv').set_index('GeneID')\n",
    "genes_wanted = (data > 1).sum(axis=1) > 5\n",
    "genes_wanted = data.var(axis=1).sort(inplace=False, ascending=False)[:1000].index\n",
    "counts_newsetup = data.ix[genes_wanted, :].T\n",
    "classes = np.array(map(lambda x: x.split(\"_\")[0], counts_newsetup.index))\n",
    "vocab = counts_newsetup.columns\n",
    "counts = counts_newsetup.values.astype(float)\n",
    "\n",
    "\n"
   ]
  },
  {
   "cell_type": "code",
   "execution_count": 3,
   "metadata": {
    "collapsed": false
   },
   "outputs": [
    {
     "data": {
      "text/plain": [
       "array([[  1.34660000e+04,   1.10000000e+02,   7.04200000e+03, ...,\n",
       "          1.98000000e+02,   6.00000000e+00,   1.26000000e+03],\n",
       "       [  9.60400000e+03,   1.68000000e+02,   4.49000000e+03, ...,\n",
       "          2.01000000e+02,   1.10000000e+01,   1.26500000e+03],\n",
       "       [  8.06050000e+04,   3.07000000e+02,   4.39400000e+04, ...,\n",
       "          2.26000000e+02,   2.10000000e+01,   1.63100000e+03],\n",
       "       ..., \n",
       "       [  7.14000000e+02,   3.46000000e+02,   1.71300000e+03, ...,\n",
       "          6.44000000e+02,   6.72000000e+02,   1.34500000e+03],\n",
       "       [  5.47000000e+02,   1.60000000e+01,   2.95300000e+03, ...,\n",
       "          1.05800000e+03,   3.54000000e+02,   1.65900000e+03],\n",
       "       [  3.51100000e+03,   7.16000000e+02,   3.52300000e+03, ...,\n",
       "          7.34000000e+02,   6.78000000e+02,   1.52600000e+03]])"
      ]
     },
     "execution_count": 3,
     "metadata": {},
     "output_type": "execute_result"
    }
   ],
   "source": [
    "counts"
   ]
  },
  {
   "cell_type": "code",
   "execution_count": 50,
   "metadata": {
    "collapsed": false
   },
   "outputs": [
    {
     "name": "stdout",
     "output_type": "stream",
     "text": [
      "[2441423, 2427537, 3362342, 2853928, 3530845, 3417612, 3256738, 3252264, 4568991, 5233018, 2682579, 3794314, 4089150, 3053003, 2435673, 3209993, 3087052, 2514413, 4245024, 4500273, 3662535, 3214467, 4959194, 4212112, 3246084, 3476428, 4618937, 3379640, 2733839, 5277261, 2258185, 2776530, 2712649, 3617210, 3563450, 3007373, 2395869, 2786964, 2931230, 3065518, 1953705, 3633475, 2447805, 1762799, 3325562, 3036156, 4273425, 4177864, 1963212, 3492567, 3765014, 2136996, 2870640, 3449677, 2231835, 2264054, 2836709, 2169731, 2608958, 2190182, 2503692, 2590740, 2217677, 2582135, 7033721, 3357200, 5101137, 3877679, 5446963, 4172625, 6044253, 5350023, 3921826, 4651472, 3293405, 5166709, 5379199, 3883509, 4051687, 4303711, 5100715, 5870042, 4517536, 4859873, 5687663, 3385185, 3908306, 4863893, 5543654, 3647695, 5203330, 5877767, 5678698, 4096189, 3946856, 5302400, 4568016, 2385343, 3335733, 4237382, 3719973, 4270805, 4358213, 4691173, 5237328, 4461651, 4137684, 4541414, 4074212, 3740726, 4938670, 4169550, 3814550, 3281278, 3820875, 3863409, 3724272, 2654757, 6080537, 4072084, 4401134, 4362814, 4070490, 2728540, 5227627, 7449325, 6498102, 4055504, 3799920, 4190169, 5002655, 4079260, 5645653, 4888331, 3163197, 4365981, 2677176, 4172797, 4330301, 3155009, 4665252, 3628871, 4609287, 3385009, 4942210, 5519035, 4390361, 5495678, 3527237, 2947951, 3743070, 5002862, 4599519, 3193484, 4896593, 2491940, 5200958, 3202842, 4564186, 4464962, 7663481, 6048733, 5667349, 10330674, 5118014, 7907131, 7660066, 6889349, 6479582, 5952641, 6953374, 7278630, 8034223, 8189902, 3221117, 3434058, 5941368, 4643665, 5248618, 5305336, 5982535, 6598223, 5724211, 6471745, 3511887, 7414968, 5987384, 7300778, 8556603, 7487182, 16224162, 6041129, 7168710, 6164729, 6077063, 5870058, 4985485, 6400488, 10513837, 5683981, 7156778, 6478078, 5525695, 6886890, 5846152, 3941182, 4634286, 4957692, 5669286, 5637361, 4293410, 4627471, 5094574, 4667637, 4127194, 5090186, 5525224, 2593774, 4610766, 6249986, 5128084, 5501340, 4715106, 5826848, 2479700, 3260706, 3036460, 4302354, 5135765, 3197067, 4314772, 3139382, 2562908, 2760897, 2432330, 4437884, 3099013, 3312105, 5714617, 6284304, 3457947, 3508647, 3592520, 3946427, 4089825, 3324388, 4386684, 3704342, 2722503, 2607961, 6163612, 4999667, 3366111, 3803171, 2766300, 3975116, 2954799, 2283306, 2959512, 1925145, 2340596, 2779947, 1932051, 2106544, 3303307, 2344764, 2250620, 2527760, 3095492, 2172605, 3369698, 3455043, 2991302, 2701840, 2109182, 2698765, 2513737, 3226616, 4799899, 2557536, 2051125, 1694170, 2556392, 2287015, 3543732, 2860917, 4500008, 2144357, 2168613, 2663790, 3213295, 2224989, 2566400, 2793102, 4883995, 3583170, 3830074, 3946713, 2829587, 4495702, 2982674, 2748917, 3344706, 3774428, 3008626, 2573910, 2214608, 2994347, 2061392, 3957814, 3153858, 3267191, 1370836, 4602293, 5009867, 3998542, 3675190, 3551040, 4510553, 4020908]\n"
     ]
    },
    {
     "data": {
      "image/png": "[encoded data removed]",
      "text/plain": [
       "<matplotlib.figure.Figure at 0x2afdb615c110>"
      ]
     },
     "metadata": {},
     "output_type": "display_data"
    }
   ],
   "source": [
    "plt.hist(counts_newsetup.sum(axis=1))\n",
    "print list(counts_newsetup.sum(axis=1))"
   ]
  },
  {
   "cell_type": "code",
   "execution_count": null,
   "metadata": {
    "collapsed": false
   },
   "outputs": [],
   "source": []
  },
  {
   "cell_type": "code",
   "execution_count": null,
   "metadata": {
    "collapsed": false
   },
   "outputs": [],
   "source": []
  },
  {
   "cell_type": "code",
   "execution_count": null,
   "metadata": {
    "collapsed": false
   },
   "outputs": [],
   "source": []
  },
  {
   "cell_type": "code",
   "execution_count": null,
   "metadata": {
    "collapsed": true
   },
   "outputs": [],
   "source": []
  }
 ],
 "metadata": {
  "kernelspec": {
   "display_name": "Python 2",
   "language": "python",
   "name": "python2"
  },
  "language_info": {
   "codemirror_mode": {
    "name": "ipython",
    "version": 2
   },
   "file_extension": ".py",
   "mimetype": "text/x-python",
   "name": "python",
   "nbconvert_exporter": "python",
   "pygments_lexer": "ipython2",
   "version": "2.7.9"
  }
 },
 "nbformat": 4,
 "nbformat_minor": 0
}
