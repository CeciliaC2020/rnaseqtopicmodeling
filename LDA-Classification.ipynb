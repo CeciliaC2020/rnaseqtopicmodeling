{
 "metadata": {
  "kernelspec": {
   "display_name": "Python 2",
   "language": "python",
   "name": "python2"
  },
  "language_info": {
   "codemirror_mode": {
    "name": "ipython",
    "version": 2
   },
   "file_extension": ".py",
   "mimetype": "text/x-python",
   "name": "python",
   "nbconvert_exporter": "python",
   "pygments_lexer": "ipython2",
   "version": "2.7.10"
  },
  "name": "",
  "signature": "sha256:a895c70d28ccf823509e3a406a199c10f763a8ca6290c26cd2965eca0cf73e83"
 },
 "nbformat": 3,
 "nbformat_minor": 0,
 "worksheets": [
  {
   "cells": [
    {
     "cell_type": "heading",
     "level": 1,
     "metadata": {},
     "source": [
      "This file was used to run the classification algorithms on the fitted (and pickled) LDA models, and inspect the models directly."
     ]
    },
    {
     "cell_type": "markdown",
     "metadata": {},
     "source": [
      "Ankit Gupta"
     ]
    },
    {
     "cell_type": "code",
     "collapsed": false,
     "input": [
      "import pandas as pd\n",
      "import numpy as np\n",
      "from scipy import stats as scistats\n",
      "import matplotlib.pyplot as plt\n",
      "import matplotlib.mlab as mlab\n",
      "from IPython.display import Image\n",
      "import lda\n",
      "from scipy.sparse import csr_matrix\n",
      "\n",
      "%matplotlib inline\n",
      "from CTM import CTM\n",
      "from CTMParallel import CTMParallel\n",
      "from sklearn.cross_validation import train_test_split"
     ],
     "language": "python",
     "metadata": {},
     "outputs": [],
     "prompt_number": 2
    },
    {
     "cell_type": "code",
     "collapsed": false,
     "input": [
      "import pickle\n",
      "import sys"
     ],
     "language": "python",
     "metadata": {},
     "outputs": [],
     "prompt_number": 3
    },
    {
     "cell_type": "code",
     "collapsed": false,
     "input": [
      "import csv\n",
      "import pickle\n",
      "import numpy as np\n",
      "from sklearn.svm import SVC\n",
      "from sklearn.metrics import accuracy_score\n",
      "from sklearn.linear_model import LogisticRegression\n",
      "from sklearn.cross_validation import train_test_split\n",
      "from sklearn.decomposition import PCA\n",
      "from sklearn.cross_validation import KFold\n",
      "\n"
     ],
     "language": "python",
     "metadata": {},
     "outputs": [],
     "prompt_number": 4
    },
    {
     "cell_type": "code",
     "collapsed": false,
     "input": [
      "# Returns the min, max, and average accuracy across the folds\n",
      "def KFoldCrossValidation(X, Y, num_folds, print_outputs=True):\n",
      "    accuracies = []\n",
      "    for train, test in KFold(X.shape[0], num_folds, shuffle=True):\n",
      "        X_train, X_test, Y_train, Y_test = X[train], X[test], Y[train], Y[test]\n",
      "        logistic_classifier = LogisticRegression()\n",
      "        logistic_classifier.fit(X_train, Y_train)\n",
      "        accuracies.append(accuracy_score(logistic_classifier.predict(X_test), Y_test))\n",
      "    if print_outputs:\n",
      "        print \"Max Accuracy: \", max(accuracies), \"\\nMin Accuracy: \", min(accuracies), \"\\nAverage Accuracy: \", sum(accuracies)/len(accuracies)\n",
      "    return max(accuracies), min(accuracies), sum(accuracies)/len(accuracies)"
     ],
     "language": "python",
     "metadata": {},
     "outputs": [],
     "prompt_number": 5
    },
    {
     "cell_type": "code",
     "collapsed": false,
     "input": [
      "# source can be either rat or neuron\n",
      "def loadSavedModel(numTopics, source):\n",
      "    # Load the trained model\n",
      "    model = pickle.load(open(\"pickled_objects/lda_model_\" + source + \"_\" + str(numTopics) + \"topics.p\", \"rb\"))\n",
      "    classes = pickle.load(open(\"pickled_objects/lda_classes_\" + source + \"_\" + str(numTopics) + \"topics.p\", \"rb\"))\n",
      "    vocab = pickle.load(open(\"pickled_objects/lda_vocab_\" + source + \"_\" + str(numTopics) + \"topics.p\", \"rb\"))\n",
      "    counts = pickle.load(open(\"pickled_objects/lda_counts_\" + source + \"_\" + str(numTopics) + \"topics.p\", \"rb\"))\n",
      "    return model, classes, vocab, counts\n",
      "\n",
      "\n"
     ],
     "language": "python",
     "metadata": {},
     "outputs": [],
     "prompt_number": 6
    },
    {
     "cell_type": "code",
     "collapsed": false,
     "input": [
      "rat_topics_options = [5, 15, 25, 35, 45]\n",
      "for topic in rat_topics_options:\n",
      "    model, classes, vocab, counts = loadSavedModel(topic, \"rat\")\n",
      "    print \"Rat Classification with numTopics = \", topic\n",
      "    print \"Accuracy with original features\"\n",
      "    KFoldCrossValidation(model.doc_topic_, classes, 5) \n",
      "    #getClassificationAccuracy(model, classes, vocab, counts)\n",
      "    print\n",
      "    #print \"Accuracy with PCA Features\"\n",
      "    #pca_rat = PCA(n_components=topic)\n",
      "    #pca_features = pca_rat.fit_transform(counts)\n",
      "    #min_acc, max_acc, avg_acc = KFoldCrossValidation(pca_features, classes, 5)\n",
      "    #print\n",
      "    print\n",
      "    print\n"
     ],
     "language": "python",
     "metadata": {},
     "outputs": [
      {
       "output_type": "stream",
       "stream": "stdout",
       "text": [
        "Rat Classification with numTopics =  5\n",
        "Accuracy with original features\n",
        "Max Accuracy: "
       ]
      },
      {
       "output_type": "stream",
       "stream": "stdout",
       "text": [
        " 0.734375 \n",
        "Min Accuracy:  0.546875 \n",
        "Average Accuracy:  0.628125\n",
        "\n",
        "\n",
        "\n",
        "Rat Classification with numTopics = "
       ]
      },
      {
       "output_type": "stream",
       "stream": "stdout",
       "text": [
        " 15\n",
        "Accuracy with original features\n",
        "Max Accuracy:  0.9375 \n",
        "Min Accuracy:  0.84375 \n",
        "Average Accuracy:  0.878125\n",
        "\n",
        "\n",
        "\n",
        "Rat Classification with numTopics = "
       ]
      },
      {
       "output_type": "stream",
       "stream": "stdout",
       "text": [
        " 25\n",
        "Accuracy with original features\n",
        "Max Accuracy:  0.984375 \n",
        "Min Accuracy:  0.9375 \n",
        "Average Accuracy:  0.96875\n",
        "\n",
        "\n",
        "\n",
        "Rat Classification with numTopics = "
       ]
      },
      {
       "output_type": "stream",
       "stream": "stdout",
       "text": [
        " 35\n",
        "Accuracy with original features\n",
        "Max Accuracy: "
       ]
      },
      {
       "output_type": "stream",
       "stream": "stdout",
       "text": [
        " 0.984375 \n",
        "Min Accuracy:  0.9375 \n",
        "Average Accuracy:  0.971875\n",
        "\n",
        "\n",
        "\n",
        "Rat Classification with numTopics = "
       ]
      },
      {
       "output_type": "stream",
       "stream": "stdout",
       "text": [
        " 45\n",
        "Accuracy with original features\n",
        "Max Accuracy: "
       ]
      },
      {
       "output_type": "stream",
       "stream": "stdout",
       "text": [
        " 0.984375 \n",
        "Min Accuracy:  0.875 \n",
        "Average Accuracy:  0.95625\n",
        "\n",
        "\n",
        "\n"
       ]
      }
     ],
     "prompt_number": 51
    },
    {
     "cell_type": "code",
     "collapsed": false,
     "input": [
      "neuron_topics_options = [5, 15, 25, 35, 45, 55]\n",
      "for topic in neuron_topics_options:\n",
      "    model, classes, vocab, counts = loadSavedModel(topic, \"neuron\")\n",
      "    print \"Neuron Classification with numTopics = \", topic\n",
      "    print \"Accuracy with original features\"\n",
      "    KFoldCrossValidation(model.doc_topic_, classes, 5) \n",
      "    #getClassificationAccuracy(model, classes, vocab, counts)\n",
      "    print\n",
      "    #print \"Accuracy with PCA Features\"\n",
      "    #pca_rat = PCA(n_components=topic)\n",
      "    #pca_features = pca_rat.fit_transform(counts)\n",
      "    #min_acc, max_acc, avg_acc = KFoldCrossValidation(pca_features, classes, 5)\n",
      "    #print\n",
      "    print\n",
      "    print\n",
      "\n"
     ],
     "language": "python",
     "metadata": {},
     "outputs": [
      {
       "output_type": "stream",
       "stream": "stdout",
       "text": [
        "Neuron Classification with numTopics =  5\n",
        "Accuracy with original features\n",
        "Max Accuracy:  0.75 \n",
        "Min Accuracy:  0.69 \n",
        "Average Accuracy:  0.724\n",
        "\n",
        "\n",
        "\n",
        "Neuron Classification with numTopics = "
       ]
      },
      {
       "output_type": "stream",
       "stream": "stdout",
       "text": [
        " 15\n",
        "Accuracy with original features\n",
        "Max Accuracy:  0.94 \n",
        "Min Accuracy:  0.9 \n",
        "Average Accuracy:  0.918\n",
        "\n",
        "\n",
        "\n",
        "Neuron Classification with numTopics = "
       ]
      },
      {
       "output_type": "stream",
       "stream": "stdout",
       "text": [
        " 25\n",
        "Accuracy with original features\n",
        "Max Accuracy:  0.93 \n",
        "Min Accuracy:  0.88 \n",
        "Average Accuracy:  0.908\n",
        "\n",
        "\n",
        "\n",
        "Neuron Classification with numTopics = "
       ]
      },
      {
       "output_type": "stream",
       "stream": "stdout",
       "text": [
        " 35\n",
        "Accuracy with original features\n",
        "Max Accuracy: "
       ]
      },
      {
       "output_type": "stream",
       "stream": "stdout",
       "text": [
        " 0.9 \n",
        "Min Accuracy:  0.85 \n",
        "Average Accuracy:  0.882\n",
        "\n",
        "\n",
        "\n",
        "Neuron Classification with numTopics = "
       ]
      },
      {
       "output_type": "stream",
       "stream": "stdout",
       "text": [
        " 45\n",
        "Accuracy with original features\n",
        "Max Accuracy: "
       ]
      },
      {
       "output_type": "stream",
       "stream": "stdout",
       "text": [
        " 0.9 \n",
        "Min Accuracy:  0.76 \n",
        "Average Accuracy:  0.836\n",
        "\n",
        "\n",
        "\n",
        "Neuron Classification with numTopics = "
       ]
      },
      {
       "output_type": "stream",
       "stream": "stdout",
       "text": [
        " 55\n",
        "Accuracy with original features\n",
        "Max Accuracy: "
       ]
      },
      {
       "output_type": "stream",
       "stream": "stdout",
       "text": [
        " 0.88 \n",
        "Min Accuracy:  0.7 \n",
        "Average Accuracy:  0.774\n",
        "\n",
        "\n",
        "\n"
       ]
      }
     ],
     "prompt_number": 54
    },
    {
     "cell_type": "code",
     "collapsed": false,
     "input": [
      "model, classes, vocab, counts = loadSavedModel(5, \"rat\")"
     ],
     "language": "python",
     "metadata": {},
     "outputs": [],
     "prompt_number": 7
    },
    {
     "cell_type": "code",
     "collapsed": false,
     "input": [
      "model.doc_topic_"
     ],
     "language": "python",
     "metadata": {},
     "outputs": [
      {
       "metadata": {},
       "output_type": "pyout",
       "prompt_number": 9,
       "text": [
        "array([[  4.13720342e-04,   4.05067216e-02,   7.80653037e-03,\n",
        "          8.56550286e-01,   9.47227415e-02],\n",
        "       [  5.31981896e-04,   2.88805388e-02,   8.29199116e-03,\n",
        "          8.76497160e-01,   8.57983284e-02],\n",
        "       [  5.72651237e-04,   1.62960895e-01,   6.50540681e-03,\n",
        "          7.62609107e-01,   6.73519395e-02],\n",
        "       ..., \n",
        "       [  3.03430064e-02,   3.31960734e-03,   1.33822935e-02,\n",
        "          8.36235504e-02,   8.69331542e-01],\n",
        "       [  1.67540123e-02,   3.11001092e-03,   2.03479779e-02,\n",
        "          8.24379159e-02,   8.77350083e-01],\n",
        "       [  2.40210879e-02,   7.38940350e-03,   1.78789466e-02,\n",
        "          8.43356753e-02,   8.66374887e-01]])"
       ]
      }
     ],
     "prompt_number": 9
    },
    {
     "cell_type": "code",
     "collapsed": false,
     "input": [],
     "language": "python",
     "metadata": {},
     "outputs": []
    }
   ],
   "metadata": {}
  }
 ]
}