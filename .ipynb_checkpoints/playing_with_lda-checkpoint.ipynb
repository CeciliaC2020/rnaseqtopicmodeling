{
 "metadata": {
  "kernelspec": {
   "display_name": "Python 2",
   "language": "python",
   "name": "python2"
  },
  "language_info": {
   "codemirror_mode": {
    "name": "ipython",
    "version": 2
   },
   "file_extension": ".py",
   "mimetype": "text/x-python",
   "name": "python",
   "nbconvert_exporter": "python",
   "pygments_lexer": "ipython2",
   "version": "2.7.10"
  },
  "name": ""
 },
 "nbformat": 3,
 "nbformat_minor": 0,
 "worksheets": [
  {
   "cells": [
    {
     "cell_type": "heading",
     "level": 1,
     "metadata": {},
     "source": [
      "SCRB 152"
     ]
    },
    {
     "cell_type": "markdown",
     "metadata": {},
     "source": [
      "Eran Hodis & Adrian Veres"
     ]
    },
    {
     "cell_type": "heading",
     "level": 2,
     "metadata": {},
     "source": [
      "Problem Set 3"
     ]
    },
    {
     "cell_type": "markdown",
     "metadata": {},
     "source": [
      "Please type your name below:"
     ]
    },
    {
     "cell_type": "markdown",
     "metadata": {},
     "source": [
      "Ankit Gupta"
     ]
    },
    {
     "cell_type": "heading",
     "level": 3,
     "metadata": {},
     "source": [
      "Introduction"
     ]
    },
    {
     "cell_type": "markdown",
     "metadata": {},
     "source": [
      "Welcome to Problem Set 3 of SCRB152.\n",
      "\n",
      "In this Problem Set, we will explore 'differential expression'.\n",
      "\n",
      "We will ask 'Which genes are differentially expressed between human females and males?'\n",
      "\n",
      "`voom` and `limma` are two standard algorithms for analyzing differential expression in RNA-seq data. Here you will prove to yourself that you understand how `voom` and `limma` work by re-implementing their algorithms yourself. \n",
      "\n",
      "Once you see that your results match the results you get from running `voom` and `limma`, you should feel confident running `voom` and `limma` whenever you analyze RNA-seq data in the future, with the knowledge that you have, at one point, re-implemented these algorithms yourself.\n",
      "\n",
      "Though you should not need to read them to complete this Problem Set, below we provide references to the primary literature describing the methods and data sets that this Problem Set covers. The references are provided for completeness and to allow you to easily refer to them either now, or after the course, should you so desire."
     ]
    },
    {
     "cell_type": "heading",
     "level": 4,
     "metadata": {},
     "source": [
      "Method References"
     ]
    },
    {
     "cell_type": "markdown",
     "metadata": {},
     "source": [
      "1. Law et al., \"voom: precision weights unlock linear model analysis tools for RNA-seq read counts.\u201d Genome Biology, 2014. [link](http://genomebiology.com/2014/15/2/R29)\n",
      "2. Smyth, \"Linear models and empirical bayes methods for assessing differential expression in microarray experiments.\u201d Statistical Applications in Genetics and Molecular Biology, 2004. [link](http://rileylab.bio.umb.edu/sites/g/files/g1314676/f/201403/ebayes.pdf)\n",
      "3. Smyth et al., \"Limma Users Guide\", 2014. [link](http://www.bioconductor.org/packages/release/bioc/vignettes/limma/inst/doc/usersguide.pdf)\n"
     ]
    },
    {
     "cell_type": "heading",
     "level": 4,
     "metadata": {},
     "source": [
      "Data Set References"
     ]
    },
    {
     "cell_type": "markdown",
     "metadata": {},
     "source": [
      "1. Pickrell et al., \"Understanding mechanisms underlying human gene expression variation with RNA sequencing.\" Nature, 2010. [link](http://www.nature.com/nature/journal/v464/n7289/full/nature08872.html)"
     ]
    },
    {
     "cell_type": "heading",
     "level": 3,
     "metadata": {},
     "source": [
      "Import Statements"
     ]
    },
    {
     "cell_type": "markdown",
     "metadata": {},
     "source": [
      "Run the below import statements, and add your own as needed."
     ]
    },
    {
     "cell_type": "code",
     "collapsed": false,
     "input": [
      "import pandas as pd\n",
      "import numpy as np\n",
      "from scipy import stats as scistats\n",
      "import matplotlib.pyplot as plt\n",
      "import matplotlib.mlab as mlab\n",
      "from IPython.display import Image\n",
      "import lda\n",
      "\n",
      "%matplotlib inline\n"
     ],
     "language": "python",
     "metadata": {},
     "outputs": [],
     "prompt_number": 2
    },
    {
     "cell_type": "heading",
     "level": 3,
     "metadata": {},
     "source": [
      "Problem 1. Estimating the variance of observations"
     ]
    },
    {
     "cell_type": "markdown",
     "metadata": {},
     "source": [
      "Which genes are differentially expressed between male and females in humans?\n",
      "\n",
      "In Problem 3 and 4, we'll develop the analyses that will enable us to answer this question. Our analyses will then apply quite generally to any differential expression experiment.\n",
      "\n",
      "The data set we will work with in Problems 3 and 4 is generated by the following experimental design:\n",
      "    \n",
      "    B-cells were isolated from the blood of four humans, two male and two female. \n",
      "    \n",
      "    Each person's B-cells were separately infected with Epstein-Barr virus (EBV) to immortalize the cells and allow them to\n",
      "    grow indefinitely in the lab.\n",
      "    \n",
      "    RNA was isolated once from all four samples, separately, and sequenced after library preparation.\n",
      "    \n",
      "    The result was four FASTQ files of raw reads.\n",
      "    \n",
      "Thus, there are two biological replicates of female gene expression and two biological replicates of male gene expression."
     ]
    },
    {
     "cell_type": "markdown",
     "metadata": {},
     "source": [
      "The counts data as output by featureCounts can be found in the tab-delimited file:\n",
      "\n",
      "    Data/Pickrell_et_al/featureCounts_output_yaleOnly_noDuplicates_fixedNames_subsetForProb1and2.txt\n",
      "\n",
      "Here is the mapping of SampleID to Sex:\n",
      "\n",
      "    NA18486 - male\n",
      "    NA18498 - male\n",
      "    NA18502 - female\n",
      "    NA18505 - female"
     ]
    },
    {
     "cell_type": "heading",
     "level": 4,
     "metadata": {},
     "source": [
      "1.1"
     ]
    },
    {
     "cell_type": "markdown",
     "metadata": {},
     "source": [
      "Read in the counts data into a `pandas` `DataFrame` named `counts`.\n",
      "\n",
      "Reindex `counts` using the values in the `Geneid` column, but maintain the column. You'll want to use the function `set_index` with `drop=False`.\n",
      "\n",
      "Print `counts` to check you've read the data in correctly. You should have separate columns for various annotations and for each SampleID (NA18486, NA18498, NA18502, NA18505)."
     ]
    },
    {
     "cell_type": "code",
     "collapsed": false,
     "input": [
      "#Your code here\n",
      "counts = pd.read_csv(\"Data/Pickrell_et_al/featureCounts_output_yaleOnly_noDuplicates_fixedNames_subsetForProb1and2.txt\", sep='\\t')\n",
      "counts = counts.set_index('Geneid', drop=False)\n",
      "counts.head()\n"
     ],
     "language": "python",
     "metadata": {},
     "outputs": [
      {
       "html": [
        "<div>\n",
        "<table border=\"1\" class=\"dataframe\">\n",
        "  <thead>\n",
        "    <tr style=\"text-align: right;\">\n",
        "      <th></th>\n",
        "      <th>Geneid</th>\n",
        "      <th>Chr</th>\n",
        "      <th>Start</th>\n",
        "      <th>End</th>\n",
        "      <th>Strand</th>\n",
        "      <th>Length</th>\n",
        "      <th>NA18486</th>\n",
        "      <th>NA18498</th>\n",
        "      <th>NA18502</th>\n",
        "      <th>NA18505</th>\n",
        "    </tr>\n",
        "    <tr>\n",
        "      <th>Geneid</th>\n",
        "      <th></th>\n",
        "      <th></th>\n",
        "      <th></th>\n",
        "      <th></th>\n",
        "      <th></th>\n",
        "      <th></th>\n",
        "      <th></th>\n",
        "      <th></th>\n",
        "      <th></th>\n",
        "      <th></th>\n",
        "    </tr>\n",
        "  </thead>\n",
        "  <tbody>\n",
        "    <tr>\n",
        "      <th>PKP1</th>\n",
        "      <td>PKP1</td>\n",
        "      <td>chr1;chr1;chr1;chr1;chr1;chr1;chr1;chr1;chr1;c...</td>\n",
        "      <td>201283452;201293942;201313166;201316553;201317...</td>\n",
        "      <td>201283904;201294045;201313560;201316697;201317...</td>\n",
        "      <td>+;+;+;+;+;+;+;+;+;+;+;+;+;+;+</td>\n",
        "      <td>5447</td>\n",
        "      <td>0</td>\n",
        "      <td>0</td>\n",
        "      <td>0</td>\n",
        "      <td>0</td>\n",
        "    </tr>\n",
        "    <tr>\n",
        "      <th>RERE</th>\n",
        "      <td>RERE</td>\n",
        "      <td>chr1;chr1;chr1;chr1;chr1;chr1;chr1;chr1;chr1;c...</td>\n",
        "      <td>8352404;8355419;8356100;8358196;8359764;836011...</td>\n",
        "      <td>8355120;8355599;8356246;8358916;8359986;836149...</td>\n",
        "      <td>-;-;-;-;-;-;-;-;-;-;-;-;-;-;-;-;-;-;-;-;-;-;-;-;-</td>\n",
        "      <td>8321</td>\n",
        "      <td>0</td>\n",
        "      <td>1</td>\n",
        "      <td>1</td>\n",
        "      <td>0</td>\n",
        "    </tr>\n",
        "    <tr>\n",
        "      <th>HIVEP3</th>\n",
        "      <td>HIVEP3</td>\n",
        "      <td>chr1;chr1;chr1;chr1;chr1;chr1;chr1;chr1;chr1;c...</td>\n",
        "      <td>41506365;41512816;41518402;41524735;41575544;4...</td>\n",
        "      <td>41511266;41513750;41518488;41524910;41575689;4...</td>\n",
        "      <td>-;-;-;-;-;-;-;-;-;-;-;-</td>\n",
        "      <td>14115</td>\n",
        "      <td>1414</td>\n",
        "      <td>1176</td>\n",
        "      <td>924</td>\n",
        "      <td>1302</td>\n",
        "    </tr>\n",
        "    <tr>\n",
        "      <th>CSMD2</th>\n",
        "      <td>CSMD2</td>\n",
        "      <td>chr1;chr1;chr1;chr1;chr1;chr1;chr1;chr1;chr1;c...</td>\n",
        "      <td>33513999;33519465;33519812;33521463;33523307;3...</td>\n",
        "      <td>33516570;33519677;33519950;33521550;33523419;3...</td>\n",
        "      <td>-;-;-;-;-;-;-;-;-;-;-;-;-;-;-;-;-;-;-;-;-;-;-;...</td>\n",
        "      <td>13920</td>\n",
        "      <td>475</td>\n",
        "      <td>358</td>\n",
        "      <td>513</td>\n",
        "      <td>457</td>\n",
        "    </tr>\n",
        "    <tr>\n",
        "      <th>SLC44A5</th>\n",
        "      <td>SLC44A5</td>\n",
        "      <td>chr1;chr1;chr1;chr1;chr1;chr1;chr1;chr1;chr1;c...</td>\n",
        "      <td>75202131;75206390;75211468;75213705;75213919;7...</td>\n",
        "      <td>75203833;75206719;75211552;75213793;75213989;7...</td>\n",
        "      <td>-;-;-;-;-;-;-;-;-;-;-;-;-;-;-;-;-;-;-;-;-;-;-;-;-</td>\n",
        "      <td>4224</td>\n",
        "      <td>1</td>\n",
        "      <td>2</td>\n",
        "      <td>1</td>\n",
        "      <td>2</td>\n",
        "    </tr>\n",
        "  </tbody>\n",
        "</table>\n",
        "</div>"
       ],
       "metadata": {},
       "output_type": "pyout",
       "prompt_number": 3,
       "text": [
        "          Geneid                                                Chr  \\\n",
        "Geneid                                                                \n",
        "PKP1        PKP1  chr1;chr1;chr1;chr1;chr1;chr1;chr1;chr1;chr1;c...   \n",
        "RERE        RERE  chr1;chr1;chr1;chr1;chr1;chr1;chr1;chr1;chr1;c...   \n",
        "HIVEP3    HIVEP3  chr1;chr1;chr1;chr1;chr1;chr1;chr1;chr1;chr1;c...   \n",
        "CSMD2      CSMD2  chr1;chr1;chr1;chr1;chr1;chr1;chr1;chr1;chr1;c...   \n",
        "SLC44A5  SLC44A5  chr1;chr1;chr1;chr1;chr1;chr1;chr1;chr1;chr1;c...   \n",
        "\n",
        "                                                     Start  \\\n",
        "Geneid                                                       \n",
        "PKP1     201283452;201293942;201313166;201316553;201317...   \n",
        "RERE     8352404;8355419;8356100;8358196;8359764;836011...   \n",
        "HIVEP3   41506365;41512816;41518402;41524735;41575544;4...   \n",
        "CSMD2    33513999;33519465;33519812;33521463;33523307;3...   \n",
        "SLC44A5  75202131;75206390;75211468;75213705;75213919;7...   \n",
        "\n",
        "                                                       End  \\\n",
        "Geneid                                                       \n",
        "PKP1     201283904;201294045;201313560;201316697;201317...   \n",
        "RERE     8355120;8355599;8356246;8358916;8359986;836149...   \n",
        "HIVEP3   41511266;41513750;41518488;41524910;41575689;4...   \n",
        "CSMD2    33516570;33519677;33519950;33521550;33523419;3...   \n",
        "SLC44A5  75203833;75206719;75211552;75213793;75213989;7...   \n",
        "\n",
        "                                                    Strand  Length  NA18486  \\\n",
        "Geneid                                                                        \n",
        "PKP1                         +;+;+;+;+;+;+;+;+;+;+;+;+;+;+    5447        0   \n",
        "RERE     -;-;-;-;-;-;-;-;-;-;-;-;-;-;-;-;-;-;-;-;-;-;-;-;-    8321        0   \n",
        "HIVEP3                             -;-;-;-;-;-;-;-;-;-;-;-   14115     1414   \n",
        "CSMD2    -;-;-;-;-;-;-;-;-;-;-;-;-;-;-;-;-;-;-;-;-;-;-;...   13920      475   \n",
        "SLC44A5  -;-;-;-;-;-;-;-;-;-;-;-;-;-;-;-;-;-;-;-;-;-;-;-;-    4224        1   \n",
        "\n",
        "         NA18498  NA18502  NA18505  \n",
        "Geneid                              \n",
        "PKP1           0        0        0  \n",
        "RERE           1        1        0  \n",
        "HIVEP3      1176      924     1302  \n",
        "CSMD2        358      513      457  \n",
        "SLC44A5        2        1        2  "
       ]
      }
     ],
     "prompt_number": 3
    },
    {
     "cell_type": "heading",
     "level": 4,
     "metadata": {},
     "source": [
      "1.2"
     ]
    },
    {
     "cell_type": "markdown",
     "metadata": {},
     "source": [
      "Compute the effective library size for each sample using TMM normalization -- use `calcNormFactors()` in `edgeR`.\n",
      "\n",
      "You'll need to pass the Counts and Sex data to `R`, create a `DGEList`, run `calcNormFactors()` on that `DGEList`, and then use `Rpull` to load the resulting `yourDGEList$samples` and proper row names data back into Python as a `pandas DataFrame` that you should name `libraries`. \n",
      "\n",
      "`libraries` will have a row for each `SampleID`, a column for `group` (Sex), a column for `lib.size` (the sum of all counts for that sample), and a column for `norm.factors` (your newly-computed TMM normalization factors). \n",
      "\n",
      "Add a column to `libraries` named `effective.lib.size` that contains the effective library size for each sample. Effective library size is equal to the library size multipled by the TMM normalization factor.\n",
      "\n",
      "Print `libraries`."
     ]
    },
    {
     "cell_type": "code",
     "collapsed": false,
     "input": [
      "#Your code here\n",
      "countsMatrix = counts.ix[:,'NA18486':]\n",
      "\n",
      "ind = ['NA18486','NA18498','NA18502','NA18505']\n",
      "sex = [0, 0, 1, 1]\n",
      "groups = pd.Series(sex, index=ind)\n",
      "\n",
      "%Rpush countsMatrix\n",
      "%Rpush groups\n",
      "%R library(limma)\n",
      "%R library(edgeR)\n",
      "%R myDGEList <- DGEList(counts=countsMatrix, group=groups)\n",
      "%R myDGEList <- calcNormFactors(myDGEList)\n",
      "%R calcNormFactorsResults <- myDGEList$samples\n",
      "%R rowNames <- rownames(calcNormFactorsResults)\n",
      "%Rpull calcNormFactorsResults\n",
      "%Rpull rowNames\n",
      "\n",
      "# We explicitly pull and re-set row names for our dataframe because the R-python interface is imperfect for the time being \n",
      "\n",
      "libraries = calcNormFactorsResults.set_index(rowNames)\n",
      "libraries['effective.lib.size'] = libraries['lib.size']*libraries['norm.factors']\n",
      "libraries.head()"
     ],
     "language": "python",
     "metadata": {},
     "outputs": [
      {
       "html": [
        "<div>\n",
        "<table border=\"1\" class=\"dataframe\">\n",
        "  <thead>\n",
        "    <tr style=\"text-align: right;\">\n",
        "      <th></th>\n",
        "      <th>group</th>\n",
        "      <th>lib.size</th>\n",
        "      <th>norm.factors</th>\n",
        "      <th>effective.lib.size</th>\n",
        "    </tr>\n",
        "  </thead>\n",
        "  <tbody>\n",
        "    <tr>\n",
        "      <th>NA18486</th>\n",
        "      <td>1</td>\n",
        "      <td>3631964</td>\n",
        "      <td>0.948101</td>\n",
        "      <td>3443469.190577</td>\n",
        "    </tr>\n",
        "    <tr>\n",
        "      <th>NA18498</th>\n",
        "      <td>1</td>\n",
        "      <td>6192848</td>\n",
        "      <td>1.053917</td>\n",
        "      <td>6526746.887266</td>\n",
        "    </tr>\n",
        "    <tr>\n",
        "      <th>NA18502</th>\n",
        "      <td>2</td>\n",
        "      <td>5468961</td>\n",
        "      <td>0.972641</td>\n",
        "      <td>5319337.696064</td>\n",
        "    </tr>\n",
        "    <tr>\n",
        "      <th>NA18505</th>\n",
        "      <td>2</td>\n",
        "      <td>5243690</td>\n",
        "      <td>1.028931</td>\n",
        "      <td>5395395.140641</td>\n",
        "    </tr>\n",
        "  </tbody>\n",
        "</table>\n",
        "</div>"
       ],
       "metadata": {},
       "output_type": "pyout",
       "prompt_number": 4,
       "text": [
        "         group  lib.size  norm.factors  effective.lib.size\n",
        "NA18486      1   3631964      0.948101      3443469.190577\n",
        "NA18498      1   6192848      1.053917      6526746.887266\n",
        "NA18502      2   5468961      0.972641      5319337.696064\n",
        "NA18505      2   5243690      1.028931      5395395.140641"
       ]
      }
     ],
     "prompt_number": 4
    },
    {
     "cell_type": "heading",
     "level": 4,
     "metadata": {},
     "source": [
      "1.3"
     ]
    },
    {
     "cell_type": "markdown",
     "metadata": {},
     "source": [
      "Now make a copy of the `DataFrame counts` called `log_cpm`:\n",
      "\n",
      "    log_cpm = pd.DataFrame.copy(counts)\n",
      "\n",
      "Update each of the SampleID ('NA18486', 'NA18498', 'NA18502', 'NA18505') columns of `log_cpm` so that they contain the log-counts per million (log-cpm) values for each gene.\n",
      "\n",
      "Calculate log-cpm values in the following way for each gene in each sample:\n",
      "    1. First, add a pseudo-count of 0.5 to the number of counts obtained for the gene.\n",
      "    2. Then, add a pseudo-count of 1 to the effective library size obtained after TMM normalization.\n",
      "    3. Divide (1) by (2) and multiply by 10^6.\n",
      "    4. Take log2 of (3). This is now the log-cpm value.\n",
      "    \n",
      "Here's a formula for log-cpm as computed above:\n",
      "\n",
      "$$y_{gi}=log_{2}(\\frac{r_{gi}+0.5}{R_{i}+1.0}*10^{6})$$\n",
      "\n",
      "Where $y_{gi}$ is the log-cpm, $r_{gi}$ is the number of counts for gene *g* in sample *i*, and $R_{i}$ is the effective library size of sample *i* after TMM normalization.\n",
      "\n",
      "Print `log_cpm`."
     ]
    },
    {
     "cell_type": "code",
     "collapsed": false,
     "input": [
      "#Your code here\n",
      "log_cpm = pd.DataFrame.copy(counts)\n",
      "\n",
      "for sample in ind:\n",
      "    log_cpm[sample] = np.log2(1000000*(log_cpm[sample] + .5)/(libraries.ix[sample, 'effective.lib.size'] + 1))\n",
      " \n",
      "    \n",
      "log_cpm.head()"
     ],
     "language": "python",
     "metadata": {},
     "outputs": [
      {
       "html": [
        "<div>\n",
        "<table border=\"1\" class=\"dataframe\">\n",
        "  <thead>\n",
        "    <tr style=\"text-align: right;\">\n",
        "      <th></th>\n",
        "      <th>Geneid</th>\n",
        "      <th>Chr</th>\n",
        "      <th>Start</th>\n",
        "      <th>End</th>\n",
        "      <th>Strand</th>\n",
        "      <th>Length</th>\n",
        "      <th>NA18486</th>\n",
        "      <th>NA18498</th>\n",
        "      <th>NA18502</th>\n",
        "      <th>NA18505</th>\n",
        "    </tr>\n",
        "    <tr>\n",
        "      <th>Geneid</th>\n",
        "      <th></th>\n",
        "      <th></th>\n",
        "      <th></th>\n",
        "      <th></th>\n",
        "      <th></th>\n",
        "      <th></th>\n",
        "      <th></th>\n",
        "      <th></th>\n",
        "      <th></th>\n",
        "      <th></th>\n",
        "    </tr>\n",
        "  </thead>\n",
        "  <tbody>\n",
        "    <tr>\n",
        "      <th>PKP1</th>\n",
        "      <td>PKP1</td>\n",
        "      <td>chr1;chr1;chr1;chr1;chr1;chr1;chr1;chr1;chr1;c...</td>\n",
        "      <td>201283452;201293942;201313166;201316553;201317...</td>\n",
        "      <td>201283904;201294045;201313560;201316697;201317...</td>\n",
        "      <td>+;+;+;+;+;+;+;+;+;+;+;+;+;+;+</td>\n",
        "      <td>5447</td>\n",
        "      <td>-2.783863</td>\n",
        "      <td>-3.706364</td>\n",
        "      <td>-3.411247</td>\n",
        "      <td>-3.431729</td>\n",
        "    </tr>\n",
        "    <tr>\n",
        "      <th>RERE</th>\n",
        "      <td>RERE</td>\n",
        "      <td>chr1;chr1;chr1;chr1;chr1;chr1;chr1;chr1;chr1;c...</td>\n",
        "      <td>8352404;8355419;8356100;8358196;8359764;836011...</td>\n",
        "      <td>8355120;8355599;8356246;8358916;8359986;836149...</td>\n",
        "      <td>-;-;-;-;-;-;-;-;-;-;-;-;-;-;-;-;-;-;-;-;-;-;-;-;-</td>\n",
        "      <td>8321</td>\n",
        "      <td>-2.783863</td>\n",
        "      <td>-2.121402</td>\n",
        "      <td>-1.826284</td>\n",
        "      <td>-3.431729</td>\n",
        "    </tr>\n",
        "    <tr>\n",
        "      <th>HIVEP3</th>\n",
        "      <td>HIVEP3</td>\n",
        "      <td>chr1;chr1;chr1;chr1;chr1;chr1;chr1;chr1;chr1;c...</td>\n",
        "      <td>41506365;41512816;41518402;41524735;41575544;4...</td>\n",
        "      <td>41511266;41513750;41518488;41524910;41575689;4...</td>\n",
        "      <td>-;-;-;-;-;-;-;-;-;-;-;-</td>\n",
        "      <td>14115</td>\n",
        "      <td>8.682213</td>\n",
        "      <td>7.493921</td>\n",
        "      <td>7.441283</td>\n",
        "      <td>7.915339</td>\n",
        "    </tr>\n",
        "    <tr>\n",
        "      <th>CSMD2</th>\n",
        "      <td>CSMD2</td>\n",
        "      <td>chr1;chr1;chr1;chr1;chr1;chr1;chr1;chr1;chr1;c...</td>\n",
        "      <td>33513999;33519465;33519812;33521463;33523307;3...</td>\n",
        "      <td>33516570;33519677;33519950;33521550;33523419;3...</td>\n",
        "      <td>-;-;-;-;-;-;-;-;-;-;-;-;-;-;-;-;-;-;-;-;-;-;-;...</td>\n",
        "      <td>13920</td>\n",
        "      <td>7.109438</td>\n",
        "      <td>5.779465</td>\n",
        "      <td>6.592974</td>\n",
        "      <td>6.405899</td>\n",
        "    </tr>\n",
        "    <tr>\n",
        "      <th>SLC44A5</th>\n",
        "      <td>SLC44A5</td>\n",
        "      <td>chr1;chr1;chr1;chr1;chr1;chr1;chr1;chr1;chr1;c...</td>\n",
        "      <td>75202131;75206390;75211468;75213705;75213919;7...</td>\n",
        "      <td>75203833;75206719;75211552;75213793;75213989;7...</td>\n",
        "      <td>-;-;-;-;-;-;-;-;-;-;-;-;-;-;-;-;-;-;-;-;-;-;-;-;-</td>\n",
        "      <td>4224</td>\n",
        "      <td>-1.198901</td>\n",
        "      <td>-1.384436</td>\n",
        "      <td>-1.826284</td>\n",
        "      <td>-1.109801</td>\n",
        "    </tr>\n",
        "  </tbody>\n",
        "</table>\n",
        "</div>"
       ],
       "metadata": {},
       "output_type": "pyout",
       "prompt_number": 5,
       "text": [
        "          Geneid                                                Chr  \\\n",
        "Geneid                                                                \n",
        "PKP1        PKP1  chr1;chr1;chr1;chr1;chr1;chr1;chr1;chr1;chr1;c...   \n",
        "RERE        RERE  chr1;chr1;chr1;chr1;chr1;chr1;chr1;chr1;chr1;c...   \n",
        "HIVEP3    HIVEP3  chr1;chr1;chr1;chr1;chr1;chr1;chr1;chr1;chr1;c...   \n",
        "CSMD2      CSMD2  chr1;chr1;chr1;chr1;chr1;chr1;chr1;chr1;chr1;c...   \n",
        "SLC44A5  SLC44A5  chr1;chr1;chr1;chr1;chr1;chr1;chr1;chr1;chr1;c...   \n",
        "\n",
        "                                                     Start  \\\n",
        "Geneid                                                       \n",
        "PKP1     201283452;201293942;201313166;201316553;201317...   \n",
        "RERE     8352404;8355419;8356100;8358196;8359764;836011...   \n",
        "HIVEP3   41506365;41512816;41518402;41524735;41575544;4...   \n",
        "CSMD2    33513999;33519465;33519812;33521463;33523307;3...   \n",
        "SLC44A5  75202131;75206390;75211468;75213705;75213919;7...   \n",
        "\n",
        "                                                       End  \\\n",
        "Geneid                                                       \n",
        "PKP1     201283904;201294045;201313560;201316697;201317...   \n",
        "RERE     8355120;8355599;8356246;8358916;8359986;836149...   \n",
        "HIVEP3   41511266;41513750;41518488;41524910;41575689;4...   \n",
        "CSMD2    33516570;33519677;33519950;33521550;33523419;3...   \n",
        "SLC44A5  75203833;75206719;75211552;75213793;75213989;7...   \n",
        "\n",
        "                                                    Strand  Length   NA18486  \\\n",
        "Geneid                                                                         \n",
        "PKP1                         +;+;+;+;+;+;+;+;+;+;+;+;+;+;+    5447 -2.783863   \n",
        "RERE     -;-;-;-;-;-;-;-;-;-;-;-;-;-;-;-;-;-;-;-;-;-;-;-;-    8321 -2.783863   \n",
        "HIVEP3                             -;-;-;-;-;-;-;-;-;-;-;-   14115  8.682213   \n",
        "CSMD2    -;-;-;-;-;-;-;-;-;-;-;-;-;-;-;-;-;-;-;-;-;-;-;...   13920  7.109438   \n",
        "SLC44A5  -;-;-;-;-;-;-;-;-;-;-;-;-;-;-;-;-;-;-;-;-;-;-;-;-    4224 -1.198901   \n",
        "\n",
        "          NA18498   NA18502   NA18505  \n",
        "Geneid                                 \n",
        "PKP1    -3.706364 -3.411247 -3.431729  \n",
        "RERE    -2.121402 -1.826284 -3.431729  \n",
        "HIVEP3   7.493921  7.441283  7.915339  \n",
        "CSMD2    5.779465  6.592974  6.405899  \n",
        "SLC44A5 -1.384436 -1.826284 -1.109801  "
       ]
      }
     ],
     "prompt_number": 5
    },
    {
     "cell_type": "heading",
     "level": 4,
     "metadata": {},
     "source": [
      "1.4"
     ]
    },
    {
     "cell_type": "markdown",
     "metadata": {},
     "source": [
      "Filter out genes that don't have at least 8 counts per million reads in at least 2 of the 4 samples, creating a new `DataFrame` with fewer rows that you name `log_cpm_filtered`.\n",
      "\n",
      "Note that a cpm of 8 is equivalent to a log-cpm of 3, since $log_{2}(8)=log_{2}(2^{3})=3$.\n",
      "\n",
      "Print the number of genes before and after the filtration."
     ]
    },
    {
     "cell_type": "code",
     "collapsed": false,
     "input": [
      "#Your code here\n",
      "gene_picker = log_cpm[ind]\\\n",
      "                .applymap(lambda x: 1 if x >= 3 else 0)\\\n",
      "                .sum(axis=1)\\\n",
      "                .apply(lambda x: x >= 2)\n",
      "log_cpm_filtered = log_cpm[gene_picker]\n",
      "\n",
      "print \"Before: \", log_cpm.count()['Start']\n",
      "print \"After: \", log_cpm_filtered.count()['Start']\n",
      "\n"
     ],
     "language": "python",
     "metadata": {},
     "outputs": [
      {
       "output_type": "stream",
       "stream": "stdout",
       "text": [
        "Before:  26327\n",
        "After:  9917\n"
       ]
      }
     ],
     "prompt_number": 6
    },
    {
     "cell_type": "heading",
     "level": 4,
     "metadata": {},
     "source": [
      "1.5"
     ]
    },
    {
     "cell_type": "markdown",
     "metadata": {},
     "source": [
      "For each gene that survived the above filtering, fit a linear model to its four log-cpm values $\\mathbf{y_{g}}$, taking into account the experimental design $\\mathbf{X}$. \n",
      "\n",
      "$$\\mathbf{y_{g}}=\\mathbf{X}\\boldsymbol{\\beta_{g}}+\\boldsymbol{\\epsilon_{g}}$$\n",
      "\n",
      "For each gene, this will give us regression coefficient estimates $\\boldsymbol{\\hat{\\beta}_{g}}$, predicted log-cpm values $\\boldsymbol{\\hat{\\mu}_{g}}=\\mathbf{X}\\boldsymbol{\\hat{\\beta}_{g}}$, and residual standard deviations $s_{g}$.\n",
      "\n",
      "First, create and print the design matrix $\\mathbf{X}$ using the treatment-contrasts parameterization -- that is, let's set up our linear model such that for each gene $g$ we estimate two regression coefficients: $\\beta_{g,1} = Male $ and $\\beta_{g,2} = Female - Male$. With this formulation, the second regression coefficient, $\\beta_{g,2}$, will allow us to test the differential expression that interests us.\n",
      "\n",
      "$\\mathbf{X}$ will be a $4 x 2$ matrix."
     ]
    },
    {
     "cell_type": "code",
     "collapsed": false,
     "input": [
      "#Your code here\n",
      "\n",
      "X = np.column_stack((np.ones(4), np.array(sex)))\n",
      "moore_penrose = (np.linalg.inv((X.T).dot(X))).dot(X.T)\n",
      "print X"
     ],
     "language": "python",
     "metadata": {},
     "outputs": [
      {
       "output_type": "stream",
       "stream": "stdout",
       "text": [
        "[[ 1.  0.]\n",
        " [ 1.  0.]\n",
        " [ 1.  1.]\n",
        " [ 1.  1.]]\n"
       ]
      }
     ],
     "prompt_number": 7
    },
    {
     "cell_type": "heading",
     "level": 4,
     "metadata": {},
     "source": [
      "1.6"
     ]
    },
    {
     "cell_type": "markdown",
     "metadata": {},
     "source": [
      "Now fit a linear model for each gene in `log_cpm_filtered` by computing the ordinary least squares estimator $\\boldsymbol{\\hat{\\beta}_{g}}$ for $\\boldsymbol{\\beta_{g}}$ for each gene:\n",
      "\n",
      "$$\\boldsymbol{\\hat{\\beta}_{g}} = \\mathbf{(X^{T}X)^{-1}X^{T}y_{g}}$$\n",
      "\n",
      "Then, use $\\boldsymbol{\\hat{\\beta}_{g}}$ to compute the predicted log-cpm values $\\boldsymbol{\\hat{\\mu}_{g}}$:\n",
      "\n",
      "$$\\boldsymbol{\\hat{\\mu}_{g}}=\\mathbf{X}\\boldsymbol{\\hat{\\beta}_{g}}$$\n",
      "\n",
      "Finally, compute an estimate, $s^{2}_{g}$, of the residual variance for each gene, $\\sigma^{2}_{g}$: \n",
      "\n",
      "$$s^{2}_{g}=\\frac{\\Sigma_{i}(y_{g,i}-\\mathbf{x_{i}}\\boldsymbol{\\hat{\\beta}_{g}})^{2}}{(n-p)}$$\n",
      "\n",
      "where $y_{g,i}$ is the *i*-th row of $\\mathbf{y_{g}}$; $\\mathbf{x_{i}}$ is the *i*-th row of $\\mathbf{X}$; and $n-p$ is the number of degrees of freedom, calculated by subtracting the number regression coefficients we are estimating, $p$, from the number of samples/observations $n$.\n",
      "\n",
      "Store these in a new `pandas DataFrame` named `lin_model_1` with `Geneid` as indices, and with columns: `[Geneid, y_g, B_hat_g, mu_hat_g, s2_g]`.\n",
      "\n",
      "Print `lin_model_1`."
     ]
    },
    {
     "cell_type": "code",
     "collapsed": false,
     "input": [
      "#Your code here\n",
      "\n",
      "Y = log_cpm_filtered[ind].T\n",
      "b_hat = np.dot(moore_penrose, log_cpm_filtered[ind].T)\n",
      "mu_hat = X.dot(b_hat)\n",
      "residuals = Y-mu_hat\n",
      "sq_residuals = residuals.applymap(lambda x: x**2)\n",
      "n = 4.0\n",
      "p = 2.0\n",
      "residual_variances = sq_residuals.sum()/(n - p)\n",
      "\n",
      "lin_model_1 = pd.DataFrame(index=log_cpm_filtered.index)\n",
      "lin_model_1['Geneid'] = log_cpm_filtered['Geneid']\n",
      "lin_model_1['y_g'] = pd.Series((list(v.values) for k,v in Y.T.iterrows()), index=lin_model_1.index)\n",
      "lin_model_1['B_hat_g'] = pd.Series((list(v.values) for k,v in pd.DataFrame(b_hat.T).iterrows()), index=lin_model_1.index)\n",
      "lin_model_1['mu_hat_g'] = pd.Series((list(v.values) for k,v in pd.DataFrame(mu_hat.T).iterrows()), index=lin_model_1.index)\n",
      "lin_model_1['s2_g'] = residual_variances\n",
      "\n",
      "lin_model_1.head()\n"
     ],
     "language": "python",
     "metadata": {},
     "outputs": [
      {
       "html": [
        "<div>\n",
        "<table border=\"1\" class=\"dataframe\">\n",
        "  <thead>\n",
        "    <tr style=\"text-align: right;\">\n",
        "      <th></th>\n",
        "      <th>Geneid</th>\n",
        "      <th>y_g</th>\n",
        "      <th>B_hat_g</th>\n",
        "      <th>mu_hat_g</th>\n",
        "      <th>s2_g</th>\n",
        "    </tr>\n",
        "    <tr>\n",
        "      <th>Geneid</th>\n",
        "      <th></th>\n",
        "      <th></th>\n",
        "      <th></th>\n",
        "      <th></th>\n",
        "      <th></th>\n",
        "    </tr>\n",
        "  </thead>\n",
        "  <tbody>\n",
        "    <tr>\n",
        "      <th>HIVEP3</th>\n",
        "      <td>HIVEP3</td>\n",
        "      <td>[8.68221327343, 7.49392129272, 7.44128260939, ...</td>\n",
        "      <td>[8.08806728308, -0.409756594357]</td>\n",
        "      <td>[8.08806728308, 8.08806728308, 7.67831068872, ...</td>\n",
        "      <td>0.409192</td>\n",
        "    </tr>\n",
        "    <tr>\n",
        "      <th>CSMD2</th>\n",
        "      <td>CSMD2</td>\n",
        "      <td>[7.1094383429, 5.7794649962, 6.59297356631, 6....</td>\n",
        "      <td>[6.44445166955, 0.0549846356321]</td>\n",
        "      <td>[6.44445166955, 6.44445166955, 6.49943630518, ...</td>\n",
        "      <td>0.450956</td>\n",
        "    </tr>\n",
        "    <tr>\n",
        "      <th>TTLL7</th>\n",
        "      <td>TTLL7</td>\n",
        "      <td>[4.65076503967, 4.88982544364, 4.86952387012, ...</td>\n",
        "      <td>[4.77029524166, 0.125175661592]</td>\n",
        "      <td>[4.77029524166, 4.77029524166, 4.89547090325, ...</td>\n",
        "      <td>0.014961</td>\n",
        "    </tr>\n",
        "    <tr>\n",
        "      <th>ANXA9</th>\n",
        "      <td>ANXA9</td>\n",
        "      <td>[6.20197874904, 5.73865053337, 5.82954443215, ...</td>\n",
        "      <td>[5.9703146412, -0.165462722413]</td>\n",
        "      <td>[5.9703146412, 5.9703146412, 5.80485191879, 5....</td>\n",
        "      <td>0.054278</td>\n",
        "    </tr>\n",
        "    <tr>\n",
        "      <th>LINC01032</th>\n",
        "      <td>LINC01032</td>\n",
        "      <td>[4.33507788476, 5.2964507031, 5.08460812688, 5...</td>\n",
        "      <td>[4.81576429393, 0.352172616788]</td>\n",
        "      <td>[4.81576429393, 4.81576429393, 5.16793691072, ...</td>\n",
        "      <td>0.238003</td>\n",
        "    </tr>\n",
        "  </tbody>\n",
        "</table>\n",
        "</div>"
       ],
       "metadata": {},
       "output_type": "pyout",
       "prompt_number": 8,
       "text": [
        "              Geneid                                                y_g  \\\n",
        "Geneid                                                                    \n",
        "HIVEP3        HIVEP3  [8.68221327343, 7.49392129272, 7.44128260939, ...   \n",
        "CSMD2          CSMD2  [7.1094383429, 5.7794649962, 6.59297356631, 6....   \n",
        "TTLL7          TTLL7  [4.65076503967, 4.88982544364, 4.86952387012, ...   \n",
        "ANXA9          ANXA9  [6.20197874904, 5.73865053337, 5.82954443215, ...   \n",
        "LINC01032  LINC01032  [4.33507788476, 5.2964507031, 5.08460812688, 5...   \n",
        "\n",
        "                                    B_hat_g  \\\n",
        "Geneid                                        \n",
        "HIVEP3     [8.08806728308, -0.409756594357]   \n",
        "CSMD2      [6.44445166955, 0.0549846356321]   \n",
        "TTLL7       [4.77029524166, 0.125175661592]   \n",
        "ANXA9       [5.9703146412, -0.165462722413]   \n",
        "LINC01032   [4.81576429393, 0.352172616788]   \n",
        "\n",
        "                                                    mu_hat_g      s2_g  \n",
        "Geneid                                                                  \n",
        "HIVEP3     [8.08806728308, 8.08806728308, 7.67831068872, ...  0.409192  \n",
        "CSMD2      [6.44445166955, 6.44445166955, 6.49943630518, ...  0.450956  \n",
        "TTLL7      [4.77029524166, 4.77029524166, 4.89547090325, ...  0.014961  \n",
        "ANXA9      [5.9703146412, 5.9703146412, 5.80485191879, 5....  0.054278  \n",
        "LINC01032  [4.81576429393, 4.81576429393, 5.16793691072, ...  0.238003  "
       ]
      }
     ],
     "prompt_number": 8
    },
    {
     "cell_type": "heading",
     "level": 4,
     "metadata": {},
     "source": [
      "1.7"
     ]
    },
    {
     "cell_type": "markdown",
     "metadata": {},
     "source": [
      "Compute the average log-cpm for each gene:\n",
      "\n",
      "$$\\bar{y}_{g}=\\frac{\\underset{i}{\\sum}y_{gi}}{n}$$\n",
      "\n",
      "Convert the average log-cpm $\\bar{y}_{g}$ to an average log-count value $\\tilde{r}_{g}$ by:\n",
      "\n",
      "$$\\tilde{r}_{g}=\\bar{y}_{g}+log_{2}(\\tilde{R})-log_{2}(10^{6})$$\n",
      "\n",
      "where $\\tilde{R}$ equals the [geometric mean](http://en.wikipedia.org/wiki/Geometric_mean) of (each library size plus\n",
      "1) -- the extra 1 is a pseudo-count.\n",
      "\n",
      "Add $\\tilde{r}_{g}$ as a column `r_tilde_g` in `lin_model_1`.\n",
      "\n",
      "Print `lin_model_1`."
     ]
    },
    {
     "cell_type": "code",
     "collapsed": false,
     "input": [
      "#Your code here\n",
      "\n",
      "# The log geo mean of library sizes is the same as the arithmetic mean of log library sizes.\n",
      "log_R_tilde = (libraries['effective.lib.size'] + 1).apply(np.log2).mean()\n",
      "\n",
      "y_g_bar = Y.mean()\n",
      "r_g_tilde = y_g_bar + log_R_tilde - np.log2(1000000)\n",
      "lin_model_1['r_tilde_g'] = r_g_tilde\n",
      "\n",
      "\n",
      "lin_model_1.head()"
     ],
     "language": "python",
     "metadata": {},
     "outputs": [
      {
       "html": [
        "<div>\n",
        "<table border=\"1\" class=\"dataframe\">\n",
        "  <thead>\n",
        "    <tr style=\"text-align: right;\">\n",
        "      <th></th>\n",
        "      <th>Geneid</th>\n",
        "      <th>y_g</th>\n",
        "      <th>B_hat_g</th>\n",
        "      <th>mu_hat_g</th>\n",
        "      <th>s2_g</th>\n",
        "      <th>r_tilde_g</th>\n",
        "    </tr>\n",
        "    <tr>\n",
        "      <th>Geneid</th>\n",
        "      <th></th>\n",
        "      <th></th>\n",
        "      <th></th>\n",
        "      <th></th>\n",
        "      <th></th>\n",
        "      <th></th>\n",
        "    </tr>\n",
        "  </thead>\n",
        "  <tbody>\n",
        "    <tr>\n",
        "      <th>HIVEP3</th>\n",
        "      <td>HIVEP3</td>\n",
        "      <td>[8.68221327343, 7.49392129272, 7.44128260939, ...</td>\n",
        "      <td>[8.08806728308, -0.409756594357]</td>\n",
        "      <td>[8.08806728308, 8.08806728308, 7.67831068872, ...</td>\n",
        "      <td>0.409192</td>\n",
        "      <td>10.216490</td>\n",
        "    </tr>\n",
        "    <tr>\n",
        "      <th>CSMD2</th>\n",
        "      <td>CSMD2</td>\n",
        "      <td>[7.1094383429, 5.7794649962, 6.59297356631, 6....</td>\n",
        "      <td>[6.44445166955, 0.0549846356321]</td>\n",
        "      <td>[6.44445166955, 6.44445166955, 6.49943630518, ...</td>\n",
        "      <td>0.450956</td>\n",
        "      <td>8.805245</td>\n",
        "    </tr>\n",
        "    <tr>\n",
        "      <th>TTLL7</th>\n",
        "      <td>TTLL7</td>\n",
        "      <td>[4.65076503967, 4.88982544364, 4.86952387012, ...</td>\n",
        "      <td>[4.77029524166, 0.125175661592]</td>\n",
        "      <td>[4.77029524166, 4.77029524166, 4.89547090325, ...</td>\n",
        "      <td>0.014961</td>\n",
        "      <td>7.166184</td>\n",
        "    </tr>\n",
        "    <tr>\n",
        "      <th>ANXA9</th>\n",
        "      <td>ANXA9</td>\n",
        "      <td>[6.20197874904, 5.73865053337, 5.82954443215, ...</td>\n",
        "      <td>[5.9703146412, -0.165462722413]</td>\n",
        "      <td>[5.9703146412, 5.9703146412, 5.80485191879, 5....</td>\n",
        "      <td>0.054278</td>\n",
        "      <td>8.220884</td>\n",
        "    </tr>\n",
        "    <tr>\n",
        "      <th>LINC01032</th>\n",
        "      <td>LINC01032</td>\n",
        "      <td>[4.33507788476, 5.2964507031, 5.08460812688, 5...</td>\n",
        "      <td>[4.81576429393, 0.352172616788]</td>\n",
        "      <td>[4.81576429393, 4.81576429393, 5.16793691072, ...</td>\n",
        "      <td>0.238003</td>\n",
        "      <td>7.325151</td>\n",
        "    </tr>\n",
        "  </tbody>\n",
        "</table>\n",
        "</div>"
       ],
       "metadata": {},
       "output_type": "pyout",
       "prompt_number": 9,
       "text": [
        "              Geneid                                                y_g  \\\n",
        "Geneid                                                                    \n",
        "HIVEP3        HIVEP3  [8.68221327343, 7.49392129272, 7.44128260939, ...   \n",
        "CSMD2          CSMD2  [7.1094383429, 5.7794649962, 6.59297356631, 6....   \n",
        "TTLL7          TTLL7  [4.65076503967, 4.88982544364, 4.86952387012, ...   \n",
        "ANXA9          ANXA9  [6.20197874904, 5.73865053337, 5.82954443215, ...   \n",
        "LINC01032  LINC01032  [4.33507788476, 5.2964507031, 5.08460812688, 5...   \n",
        "\n",
        "                                    B_hat_g  \\\n",
        "Geneid                                        \n",
        "HIVEP3     [8.08806728308, -0.409756594357]   \n",
        "CSMD2      [6.44445166955, 0.0549846356321]   \n",
        "TTLL7       [4.77029524166, 0.125175661592]   \n",
        "ANXA9       [5.9703146412, -0.165462722413]   \n",
        "LINC01032   [4.81576429393, 0.352172616788]   \n",
        "\n",
        "                                                    mu_hat_g      s2_g  \\\n",
        "Geneid                                                                   \n",
        "HIVEP3     [8.08806728308, 8.08806728308, 7.67831068872, ...  0.409192   \n",
        "CSMD2      [6.44445166955, 6.44445166955, 6.49943630518, ...  0.450956   \n",
        "TTLL7      [4.77029524166, 4.77029524166, 4.89547090325, ...  0.014961   \n",
        "ANXA9      [5.9703146412, 5.9703146412, 5.80485191879, 5....  0.054278   \n",
        "LINC01032  [4.81576429393, 4.81576429393, 5.16793691072, ...  0.238003   \n",
        "\n",
        "           r_tilde_g  \n",
        "Geneid                \n",
        "HIVEP3     10.216490  \n",
        "CSMD2       8.805245  \n",
        "TTLL7       7.166184  \n",
        "ANXA9       8.220884  \n",
        "LINC01032   7.325151  "
       ]
      }
     ],
     "prompt_number": 9
    },
    {
     "cell_type": "heading",
     "level": 4,
     "metadata": {},
     "source": [
      "1.8"
     ]
    },
    {
     "cell_type": "markdown",
     "metadata": {},
     "source": [
      "Make a scatter plot of the square root residual standard deviations, $s_{g}^{1/2}$ (Y-axis), as a function of the average log-count for each gene, $\\tilde{r}_{g}$ (X-axis).\n",
      "\n",
      "Use `R` to fit a LOWESS curve `l` to this data, as below: \n",
      "\n",
      "    %Rpush x y\n",
      "    %R l <- lowess(x, y, f=0.5)\n",
      "    %Rpull l\n",
      "\n",
      "    x = [float(i) for i in l[0]]\n",
      "    y = [float(i) for i in l[1]]\n",
      "\n",
      "\n",
      "Plot the LOWESS curve `l`, whose x-coordinates are held in `x` and y-coordinates are held in `y`, as a blue line overlaid on the scatter plot described above.\n",
      "\n",
      "Later, we will return to our LOWESS curve, and use it to create a function that we will call $lo()$ that takes as input a log-count and produces as output a predicted square root standard deviation."
     ]
    },
    {
     "cell_type": "code",
     "collapsed": false,
     "input": [
      "#Your code here\n",
      "root_resid_std_devs = np.sqrt(np.sqrt(residual_variances))\n",
      "\n",
      "%Rpush r_g_tilde root_resid_std_devs\n",
      "%R l <- lowess(r_g_tilde, root_resid_std_devs, f=0.5)\n",
      "%Rpull l\n",
      "\n",
      "x = [float(i) for i in l[0]]\n",
      "y = [float(i) for i in l[1]]\n",
      "plt.figure()\n",
      "plt.scatter(r_g_tilde, root_resid_std_devs, c='gray', s=.1)\n",
      "plt.plot(x, y, c='blue')\n",
      "plt.show()"
     ],
     "language": "python",
     "metadata": {},
     "outputs": [
      {
       "metadata": {},
       "output_type": "display_data",
       "png": "[encoded data removed]",
       "text": [
        "<matplotlib.figure.Figure at 0x2b167eaeef50>"
       ]
      }
     ],
     "prompt_number": 10
    },
    {
     "cell_type": "heading",
     "level": 4,
     "metadata": {},
     "source": [
      "1.9"
     ]
    },
    {
     "cell_type": "markdown",
     "metadata": {},
     "source": [
      "Convert the fitted log-cpm values $\\hat{\\mu}_{gi}$ into fitted log-counts $\\hat{\\lambda}_{gi}$ by:\n",
      "\n",
      "$$\\hat{\\lambda}_{gi}=\\hat{\\mu}_{gi}+log_{2}(R_{i}+1)-log_{2}(10^{6})$$"
     ]
    },
    {
     "cell_type": "code",
     "collapsed": false,
     "input": [
      "#Your code here\n",
      "lambda_g_hat =  mu_hat.T + np.log2(libraries['effective.lib.size'] + 1).as_matrix() - np.log2(1000000)\n"
     ],
     "language": "python",
     "metadata": {},
     "outputs": [],
     "prompt_number": 11
    },
    {
     "cell_type": "heading",
     "level": 4,
     "metadata": {},
     "source": [
      "1.10"
     ]
    },
    {
     "cell_type": "markdown",
     "metadata": {},
     "source": [
      "Calculate the predicted square root standard deviation of the $y_{gi}$'s by taking $lo(\\hat{\\lambda}_{gi})$:\n",
      "\n",
      "$$\\hat{s}_{gi}^{1/2} = lo(\\hat{\\lambda}_{gi})$$\n",
      "\n",
      "Do so by making your LOWESS curve `l` into a function using the `R` function `approxfun()` as below:\n",
      "\n",
      "    %Rpush lambda_hat_g1 lambda_hat_g2 lambda_hat_g3 lambda_hat_g4\n",
      "    %R lo <- approxfun(l, rule = 2)\n",
      "    %R sqrt_s_hat_g1 <- lo(as.matrix(lambda_hat_g1))\n",
      "    %R sqrt_s_hat_g2 <- lo(as.matrix(lambda_hat_g1))\n",
      "    %R sqrt_s_hat_g3 <- lo(as.matrix(lambda_hat_g1))\n",
      "    %R sqrt_s_hat_g4 <- lo(as.matrix(lambda_hat_g1))\n",
      "    %Rpull sqrt_s_hat_g1\n",
      "    %Rpull sqrt_s_hat_g2\n",
      "    %Rpull sqrt_s_hat_g3\n",
      "    %Rpull sqrt_s_hat_g4\n",
      "\n",
      "Generate a `DataFrame` to hold the $\\hat{s}_{gi}^{1/2}$ values named `sqrt_s_hat_gi` indexed by `Geneid` with columns for each of the samples `NA18486`, `NA18498`, `NA18502`, `NA18505`."
     ]
    },
    {
     "cell_type": "code",
     "collapsed": false,
     "input": [
      "#Your code here\n",
      "lambda_hat_g1 = lambda_g_hat.T[0]\n",
      "lambda_hat_g2 = lambda_g_hat.T[1]\n",
      "lambda_hat_g3 = lambda_g_hat.T[2]\n",
      "lambda_hat_g4 = lambda_g_hat.T[3]\n",
      "\n",
      "%Rpush lambda_hat_g1 lambda_hat_g2 lambda_hat_g3 lambda_hat_g4\n",
      "%R lo <- approxfun(l, rule = 2)\n",
      "%R sqrt_s_hat_g1 <- lo(as.matrix(lambda_hat_g1))\n",
      "%R sqrt_s_hat_g2 <- lo(as.matrix(lambda_hat_g2))\n",
      "%R sqrt_s_hat_g3 <- lo(as.matrix(lambda_hat_g3))\n",
      "%R sqrt_s_hat_g4 <- lo(as.matrix(lambda_hat_g4))\n",
      "%Rpull sqrt_s_hat_g1\n",
      "%Rpull sqrt_s_hat_g2\n",
      "%Rpull sqrt_s_hat_g3\n",
      "%Rpull sqrt_s_hat_g4\n",
      "\n",
      "sqrt_s_hat_gi = pd.DataFrame(np.array([sqrt_s_hat_g1,sqrt_s_hat_g2, sqrt_s_hat_g3, sqrt_s_hat_g4]).T, \n",
      "                             index=residual_variances.index,\n",
      "                             columns=['NA18486', 'NA18498', 'NA18502', 'NA18505'])\n",
      "sqrt_s_hat_gi.head(10)"
     ],
     "language": "python",
     "metadata": {},
     "outputs": [
      {
       "html": [
        "<div>\n",
        "<table border=\"1\" class=\"dataframe\">\n",
        "  <thead>\n",
        "    <tr style=\"text-align: right;\">\n",
        "      <th></th>\n",
        "      <th>NA18486</th>\n",
        "      <th>NA18498</th>\n",
        "      <th>NA18502</th>\n",
        "      <th>NA18505</th>\n",
        "    </tr>\n",
        "    <tr>\n",
        "      <th>Geneid</th>\n",
        "      <th></th>\n",
        "      <th></th>\n",
        "      <th></th>\n",
        "      <th></th>\n",
        "    </tr>\n",
        "  </thead>\n",
        "  <tbody>\n",
        "    <tr>\n",
        "      <th>HIVEP3</th>\n",
        "      <td>0.560658</td>\n",
        "      <td>0.567827</td>\n",
        "      <td>0.562288</td>\n",
        "      <td>0.562465</td>\n",
        "    </tr>\n",
        "    <tr>\n",
        "      <th>CSMD2</th>\n",
        "      <td>0.558332</td>\n",
        "      <td>0.556603</td>\n",
        "      <td>0.555269</td>\n",
        "      <td>0.555413</td>\n",
        "    </tr>\n",
        "    <tr>\n",
        "      <th>TTLL7</th>\n",
        "      <td>0.638374</td>\n",
        "      <td>0.582075</td>\n",
        "      <td>0.590774</td>\n",
        "      <td>0.589673</td>\n",
        "    </tr>\n",
        "    <tr>\n",
        "      <th>ANXA9</th>\n",
        "      <td>0.570928</td>\n",
        "      <td>0.553777</td>\n",
        "      <td>0.558591</td>\n",
        "      <td>0.558156</td>\n",
        "    </tr>\n",
        "    <tr>\n",
        "      <th>LINC01032</th>\n",
        "      <td>0.635029</td>\n",
        "      <td>0.580056</td>\n",
        "      <td>0.577522</td>\n",
        "      <td>0.576683</td>\n",
        "    </tr>\n",
        "    <tr>\n",
        "      <th>HSD11B1</th>\n",
        "      <td>0.689025</td>\n",
        "      <td>0.613491</td>\n",
        "      <td>0.602953</td>\n",
        "      <td>0.601767</td>\n",
        "    </tr>\n",
        "    <tr>\n",
        "      <th>CAMTA1</th>\n",
        "      <td>0.555713</td>\n",
        "      <td>0.560844</td>\n",
        "      <td>0.553887</td>\n",
        "      <td>0.553867</td>\n",
        "    </tr>\n",
        "    <tr>\n",
        "      <th>AGRN</th>\n",
        "      <td>0.709253</td>\n",
        "      <td>0.625852</td>\n",
        "      <td>0.604444</td>\n",
        "      <td>0.603258</td>\n",
        "    </tr>\n",
        "    <tr>\n",
        "      <th>PLEKHM2</th>\n",
        "      <td>0.560137</td>\n",
        "      <td>0.567265</td>\n",
        "      <td>0.557892</td>\n",
        "      <td>0.558012</td>\n",
        "    </tr>\n",
        "    <tr>\n",
        "      <th>PEX14</th>\n",
        "      <td>0.557420</td>\n",
        "      <td>0.563659</td>\n",
        "      <td>0.559154</td>\n",
        "      <td>0.559282</td>\n",
        "    </tr>\n",
        "  </tbody>\n",
        "</table>\n",
        "</div>"
       ],
       "metadata": {},
       "output_type": "pyout",
       "prompt_number": 12,
       "text": [
        "            NA18486   NA18498   NA18502   NA18505\n",
        "Geneid                                           \n",
        "HIVEP3     0.560658  0.567827  0.562288  0.562465\n",
        "CSMD2      0.558332  0.556603  0.555269  0.555413\n",
        "TTLL7      0.638374  0.582075  0.590774  0.589673\n",
        "ANXA9      0.570928  0.553777  0.558591  0.558156\n",
        "LINC01032  0.635029  0.580056  0.577522  0.576683\n",
        "HSD11B1    0.689025  0.613491  0.602953  0.601767\n",
        "CAMTA1     0.555713  0.560844  0.553887  0.553867\n",
        "AGRN       0.709253  0.625852  0.604444  0.603258\n",
        "PLEKHM2    0.560137  0.567265  0.557892  0.558012\n",
        "PEX14      0.557420  0.563659  0.559154  0.559282"
       ]
      }
     ],
     "prompt_number": 12
    },
    {
     "cell_type": "heading",
     "level": 4,
     "metadata": {},
     "source": [
      "1.11"
     ]
    },
    {
     "cell_type": "markdown",
     "metadata": {},
     "source": [
      "Now we can finally calculate the predicted variance of each observation, $y_{gi}$. This is what we wanted all along as we will use this to compute precision weights for each observation of counts.\n",
      "\n",
      "$$Var(y_{gi}) = \\hat{s}_{gi}^{2} $$\n",
      "\n",
      "Print the `DataFrame` you've made to hold these variances."
     ]
    },
    {
     "cell_type": "code",
     "collapsed": false,
     "input": [
      "#Your code here\n",
      "var_y_gi = sqrt_s_hat_gi.applymap(lambda x: x**4)\n",
      "var_y_gi.head(10)\n"
     ],
     "language": "python",
     "metadata": {},
     "outputs": [
      {
       "html": [
        "<div>\n",
        "<table border=\"1\" class=\"dataframe\">\n",
        "  <thead>\n",
        "    <tr style=\"text-align: right;\">\n",
        "      <th></th>\n",
        "      <th>NA18486</th>\n",
        "      <th>NA18498</th>\n",
        "      <th>NA18502</th>\n",
        "      <th>NA18505</th>\n",
        "    </tr>\n",
        "    <tr>\n",
        "      <th>Geneid</th>\n",
        "      <th></th>\n",
        "      <th></th>\n",
        "      <th></th>\n",
        "      <th></th>\n",
        "    </tr>\n",
        "  </thead>\n",
        "  <tbody>\n",
        "    <tr>\n",
        "      <th>HIVEP3</th>\n",
        "      <td>0.098808</td>\n",
        "      <td>0.103959</td>\n",
        "      <td>0.099962</td>\n",
        "      <td>0.100088</td>\n",
        "    </tr>\n",
        "    <tr>\n",
        "      <th>CSMD2</th>\n",
        "      <td>0.097178</td>\n",
        "      <td>0.095980</td>\n",
        "      <td>0.095063</td>\n",
        "      <td>0.095162</td>\n",
        "    </tr>\n",
        "    <tr>\n",
        "      <th>TTLL7</th>\n",
        "      <td>0.166074</td>\n",
        "      <td>0.114793</td>\n",
        "      <td>0.121811</td>\n",
        "      <td>0.120905</td>\n",
        "    </tr>\n",
        "    <tr>\n",
        "      <th>ANXA9</th>\n",
        "      <td>0.106249</td>\n",
        "      <td>0.094046</td>\n",
        "      <td>0.097359</td>\n",
        "      <td>0.097056</td>\n",
        "    </tr>\n",
        "    <tr>\n",
        "      <th>LINC01032</th>\n",
        "      <td>0.162620</td>\n",
        "      <td>0.113209</td>\n",
        "      <td>0.111244</td>\n",
        "      <td>0.110598</td>\n",
        "    </tr>\n",
        "    <tr>\n",
        "      <th>HSD11B1</th>\n",
        "      <td>0.225393</td>\n",
        "      <td>0.141656</td>\n",
        "      <td>0.132170</td>\n",
        "      <td>0.131133</td>\n",
        "    </tr>\n",
        "    <tr>\n",
        "      <th>CAMTA1</th>\n",
        "      <td>0.095368</td>\n",
        "      <td>0.098939</td>\n",
        "      <td>0.094121</td>\n",
        "      <td>0.094107</td>\n",
        "    </tr>\n",
        "    <tr>\n",
        "      <th>AGRN</th>\n",
        "      <td>0.253049</td>\n",
        "      <td>0.153422</td>\n",
        "      <td>0.133482</td>\n",
        "      <td>0.132438</td>\n",
        "    </tr>\n",
        "    <tr>\n",
        "      <th>PLEKHM2</th>\n",
        "      <td>0.098441</td>\n",
        "      <td>0.103549</td>\n",
        "      <td>0.096873</td>\n",
        "      <td>0.096956</td>\n",
        "    </tr>\n",
        "    <tr>\n",
        "      <th>PEX14</th>\n",
        "      <td>0.096545</td>\n",
        "      <td>0.100941</td>\n",
        "      <td>0.097752</td>\n",
        "      <td>0.097842</td>\n",
        "    </tr>\n",
        "  </tbody>\n",
        "</table>\n",
        "</div>"
       ],
       "metadata": {},
       "output_type": "pyout",
       "prompt_number": 13,
       "text": [
        "            NA18486   NA18498   NA18502   NA18505\n",
        "Geneid                                           \n",
        "HIVEP3     0.098808  0.103959  0.099962  0.100088\n",
        "CSMD2      0.097178  0.095980  0.095063  0.095162\n",
        "TTLL7      0.166074  0.114793  0.121811  0.120905\n",
        "ANXA9      0.106249  0.094046  0.097359  0.097056\n",
        "LINC01032  0.162620  0.113209  0.111244  0.110598\n",
        "HSD11B1    0.225393  0.141656  0.132170  0.131133\n",
        "CAMTA1     0.095368  0.098939  0.094121  0.094107\n",
        "AGRN       0.253049  0.153422  0.133482  0.132438\n",
        "PLEKHM2    0.098441  0.103549  0.096873  0.096956\n",
        "PEX14      0.096545  0.100941  0.097752  0.097842"
       ]
      }
     ],
     "prompt_number": 13
    },
    {
     "cell_type": "heading",
     "level": 4,
     "metadata": {},
     "source": [
      "1.12"
     ]
    },
    {
     "cell_type": "markdown",
     "metadata": {},
     "source": [
      "We take the inverse of each predicted variance to arrive at a precision weight for each observation:\n",
      "    \n",
      "$$w_{gi} = \\frac{1}{Var(y_{gi})}$$\n",
      "\n",
      "Compute the precision weights. Print the `DataFrame` you've made to store these weights."
     ]
    },
    {
     "cell_type": "code",
     "collapsed": false,
     "input": [
      "#Your code here\n",
      "\n",
      "w_gi = var_y_gi.applymap(lambda x: 1.0/x)\n",
      "w_gi.head(10)"
     ],
     "language": "python",
     "metadata": {},
     "outputs": [
      {
       "html": [
        "<div>\n",
        "<table border=\"1\" class=\"dataframe\">\n",
        "  <thead>\n",
        "    <tr style=\"text-align: right;\">\n",
        "      <th></th>\n",
        "      <th>NA18486</th>\n",
        "      <th>NA18498</th>\n",
        "      <th>NA18502</th>\n",
        "      <th>NA18505</th>\n",
        "    </tr>\n",
        "    <tr>\n",
        "      <th>Geneid</th>\n",
        "      <th></th>\n",
        "      <th></th>\n",
        "      <th></th>\n",
        "      <th></th>\n",
        "    </tr>\n",
        "  </thead>\n",
        "  <tbody>\n",
        "    <tr>\n",
        "      <th>HIVEP3</th>\n",
        "      <td>10.120618</td>\n",
        "      <td>9.619160</td>\n",
        "      <td>10.003786</td>\n",
        "      <td>9.991196</td>\n",
        "    </tr>\n",
        "    <tr>\n",
        "      <th>CSMD2</th>\n",
        "      <td>10.290379</td>\n",
        "      <td>10.418823</td>\n",
        "      <td>10.519293</td>\n",
        "      <td>10.508360</td>\n",
        "    </tr>\n",
        "    <tr>\n",
        "      <th>TTLL7</th>\n",
        "      <td>6.021409</td>\n",
        "      <td>8.711329</td>\n",
        "      <td>8.209471</td>\n",
        "      <td>8.270932</td>\n",
        "    </tr>\n",
        "    <tr>\n",
        "      <th>ANXA9</th>\n",
        "      <td>9.411867</td>\n",
        "      <td>10.633113</td>\n",
        "      <td>10.271276</td>\n",
        "      <td>10.303331</td>\n",
        "    </tr>\n",
        "    <tr>\n",
        "      <th>LINC01032</th>\n",
        "      <td>6.149309</td>\n",
        "      <td>8.833253</td>\n",
        "      <td>8.989279</td>\n",
        "      <td>9.041722</td>\n",
        "    </tr>\n",
        "    <tr>\n",
        "      <th>HSD11B1</th>\n",
        "      <td>4.436701</td>\n",
        "      <td>7.059368</td>\n",
        "      <td>7.565997</td>\n",
        "      <td>7.625817</td>\n",
        "    </tr>\n",
        "    <tr>\n",
        "      <th>CAMTA1</th>\n",
        "      <td>10.485726</td>\n",
        "      <td>10.107252</td>\n",
        "      <td>10.624643</td>\n",
        "      <td>10.626183</td>\n",
        "    </tr>\n",
        "    <tr>\n",
        "      <th>AGRN</th>\n",
        "      <td>3.951802</td>\n",
        "      <td>6.517980</td>\n",
        "      <td>7.491635</td>\n",
        "      <td>7.550720</td>\n",
        "    </tr>\n",
        "    <tr>\n",
        "      <th>PLEKHM2</th>\n",
        "      <td>10.158360</td>\n",
        "      <td>9.657284</td>\n",
        "      <td>10.322814</td>\n",
        "      <td>10.313982</td>\n",
        "    </tr>\n",
        "    <tr>\n",
        "      <th>PEX14</th>\n",
        "      <td>10.357835</td>\n",
        "      <td>9.906787</td>\n",
        "      <td>10.229978</td>\n",
        "      <td>10.220599</td>\n",
        "    </tr>\n",
        "  </tbody>\n",
        "</table>\n",
        "</div>"
       ],
       "metadata": {},
       "output_type": "pyout",
       "prompt_number": 14,
       "text": [
        "             NA18486    NA18498    NA18502    NA18505\n",
        "Geneid                                               \n",
        "HIVEP3     10.120618   9.619160  10.003786   9.991196\n",
        "CSMD2      10.290379  10.418823  10.519293  10.508360\n",
        "TTLL7       6.021409   8.711329   8.209471   8.270932\n",
        "ANXA9       9.411867  10.633113  10.271276  10.303331\n",
        "LINC01032   6.149309   8.833253   8.989279   9.041722\n",
        "HSD11B1     4.436701   7.059368   7.565997   7.625817\n",
        "CAMTA1     10.485726  10.107252  10.624643  10.626183\n",
        "AGRN        3.951802   6.517980   7.491635   7.550720\n",
        "PLEKHM2    10.158360   9.657284  10.322814  10.313982\n",
        "PEX14      10.357835   9.906787  10.229978  10.220599"
       ]
      }
     ],
     "prompt_number": 14
    },
    {
     "cell_type": "heading",
     "level": 4,
     "metadata": {},
     "source": [
      "1.13"
     ]
    },
    {
     "cell_type": "markdown",
     "metadata": {},
     "source": [
      "The calculations you've done in this problem are exactly how a method called `voom` estimates the variance of each observed count value and computes precision weights for each observed count value.\n",
      "\n",
      "Run `voom` in `R` and retrieve the precision weights computed by `voom` by calling:\n",
      "\n",
      "    %Rpush countsMatrix_filtered sex design normFactors\n",
      "    %R library(edgeR)\n",
      "    %R library(limma)\n",
      "    %R x <- DGEList(counts=countsMatrix_filtered, group=sex)\n",
      "    %R x$samples$norm.factors <- as.numeric(normFactors)\n",
      "    %R voomResults <- voom(x,design,plot=TRUE)\n",
      "    %R voomWeights <- voomResults[['weights']]\n",
      "    %Rpull voomWeights\n",
      "    \n",
      "where,\n",
      "\n",
      "1. `countsMatrix_filtered` contains our original, unaltered counts, but filtered to only include those `Geneid`'s that are present in `log_cpm_filtered`.\n",
      "2. `sex` is a `list` defining the sex of each sample.\n",
      "3. `design` is the design matrix, as a `pandas DataFrame`.\n",
      "4. `normFactors` are the library normalization factors we calculated by TMM: `libraries['norm.factors']`.\n",
      "\n",
      "In future problems, you can set plot=FALSE if you don't want to display the mean-variance plot. Notice that the plot you get should look similar to the plot you made in problem 1.7."
     ]
    },
    {
     "cell_type": "code",
     "collapsed": false,
     "input": [
      "#Your code here\n",
      "\n",
      "countsMatrix_filtered = countsMatrix[gene_picker]\n",
      "sex = np.array(sex)\n",
      "design = pd.DataFrame(X)\n",
      "normFactors = libraries['norm.factors']\n",
      "\n",
      "%Rpush countsMatrix_filtered sex design normFactors\n",
      "%R library(edgeR)\n",
      "%R library(limma)\n",
      "%R x <- DGEList(counts=countsMatrix_filtered, group=sex)\n",
      "%R x$samples$norm.factors <- as.numeric(normFactors)\n",
      "%R voomResults <- voom(x,design,plot=TRUE)\n",
      "%R voomWeights <- voomResults[['weights']]\n",
      "%Rpull voomWeights\n",
      "\n",
      "print voomWeights"
     ],
     "language": "python",
     "metadata": {},
     "outputs": [
      {
       "metadata": {},
       "output_type": "display_data",
       "png": "[encoded data removed]"
      },
      {
       "output_type": "stream",
       "stream": "stdout",
       "text": [
        "[[ 10.14880699   9.65534512  10.03366267  10.02292511]\n",
        " [ 10.29689635  10.43849767  10.53454461  10.52534406]\n",
        " [  6.01758776   8.7036692    8.207339     8.26053896]\n",
        " ..., \n",
        " [  4.11426629   6.69880386   0.63109678   0.63109678]\n",
        " [  2.74793244   4.84216918   1.93184063   1.95216504]\n",
        " [  3.68556196   6.19817794   5.03670648   5.08966537]]\n"
       ]
      }
     ],
     "prompt_number": 15
    },
    {
     "cell_type": "heading",
     "level": 4,
     "metadata": {},
     "source": [
      "1.14"
     ]
    },
    {
     "cell_type": "markdown",
     "metadata": {},
     "source": [
      "Prove to yourself that the variance estimates you computed, $Var(y_{gi})$, match what `voom` gives by plotting them against each other in a scatter plot and observing that all the points lie on the line $y=x$.\n",
      "\n",
      "Use `plt.subplot` to show four scatter plots, one for each sample.\n",
      "\n",
      "**Going forward, we will use the weights we got from running `voom`, as opposed to the ones we calculated ourselves, as there may be small differences in the computed values.**"
     ]
    },
    {
     "cell_type": "code",
     "collapsed": false,
     "input": [
      "#Your code here\n",
      "fig = plt.figure(figsize=(3, 10))\n",
      "\n",
      "plt.subplot(411)\n",
      "plt.title('NA18486 Weight Comparison')\n",
      "plt.xlabel('Variance Estimate')\n",
      "plt.ylabel('Voom Variance Estimate')\n",
      "plt.scatter(w_gi['NA18486'], voomWeights[:,0])\n",
      "\n",
      "plt.subplot(412)\n",
      "plt.title('NA18498 Weight Comparison')\n",
      "plt.xlabel('Variance Estimate')\n",
      "plt.ylabel('Voom Variance Estimate')\n",
      "plt.scatter(w_gi['NA18498'], voomWeights[:,1])\n",
      "\n",
      "plt.subplot(413)\n",
      "plt.title('NA18502 Weight Comparison')\n",
      "plt.xlabel('Variance Estimate')\n",
      "plt.ylabel('Voom Variance Estimate')\n",
      "plt.scatter(w_gi['NA18502'], voomWeights[:,2])\n",
      "\n",
      "plt.subplot(414)\n",
      "plt.title('NA18505 Weight Comparison')\n",
      "plt.xlabel('Variance Estimate')\n",
      "plt.ylabel('Voom Variance Estimate')\n",
      "plt.scatter(w_gi['NA18505'], voomWeights[:,3])\n",
      "\n",
      "fig.subplots_adjust(hspace=.5)\n",
      "plt.show()\n"
     ],
     "language": "python",
     "metadata": {},
     "outputs": [
      {
       "metadata": {},
       "output_type": "display_data",
       "png": "[encoded data removed]",
       "text": [
        "<matplotlib.figure.Figure at 0x2b16a2647210>"
       ]
      }
     ],
     "prompt_number": 16
    },
    {
     "cell_type": "heading",
     "level": 3,
     "metadata": {},
     "source": [
      "Problem 2. Linear models for ascertaining differential expression"
     ]
    },
    {
     "cell_type": "markdown",
     "metadata": {},
     "source": [
      "Now that we have a way to estimate a variance for each counts observation, $y_{gi}$, we can fit a linear model to the counts data. \n",
      "\n",
      "$$\\mathbf{y_{g}}=\\mathbf{X}\\boldsymbol{\\beta_{g}}+\\boldsymbol{\\epsilon_{g}}$$\n",
      "\n",
      "\n",
      "This time, however, we will minimize a weighted sum of the squared residuals (instead of the sum of the squared residuals). We will use the inverse of our estimated variances as weights:\n",
      "\n",
      "$$S_{g}=\\sum_{i}\\frac{1}{Var(y_{gi})}r_{gi}^{2}$$\n",
      "\n",
      "Notice that observations with a higher variance will thus be weighted lower and thus contribute less to the sum."
     ]
    },
    {
     "cell_type": "heading",
     "level": 4,
     "metadata": {},
     "source": [
      "2.1"
     ]
    },
    {
     "cell_type": "markdown",
     "metadata": {},
     "source": [
      "To find the regression coefficient estimates $\\boldsymbol{\\hat{\\beta}}_{g}$ that minimize the weighted sum of the squared residuals, $S_{g}$, do the following:\n",
      "\n",
      "1. For each gene, create a diagonal $i\\,x\\,i$ matrix $\\mathbf{W_{g}}$ where $W_{g,ii} = w_{gi} = \\frac{1}{Var(y_{gi})}$. That is, the element in row *i* and column *i* in the matrix $\\mathbf{W_{g}}$ is set to be one over the estimated variance of the *i*th observation of gene *g* (i.e., the precision weights we calculated earlier in the Problem Set -- **use the weights you got from `voom`, not the ones you calculated yourself**).\n",
      "2. For each gene, calculate $\\boldsymbol{\\hat{\\beta}}_{g}$ by the following matrix multiplication: \n",
      "$$\\boldsymbol{\\hat{\\beta}_{g}} = (\\mathbf{X^{T}W_{g}X})^{-1}\\mathbf{X^{T}W_{g}y_{g}}$$\n",
      "\n",
      "3. Then, use $\\boldsymbol{\\hat{\\beta}_{g}}$ to compute the predicted log-cpm values $\\boldsymbol{\\hat{\\mu}_{g}}$:\n",
      "$$\\boldsymbol{\\hat{\\mu}_{g}}=\\mathbf{X}\\boldsymbol{\\hat{\\beta}_{g}}$$\n",
      "\n",
      "4. Finally, calculate $s^{2}_{g}$, an estimator of the residual variance $\\sigma^{2}_{g}$: \n",
      "\n",
      "$$s^{2}_{g} = \\frac{S_{g,\\boldsymbol{\\hat{\\beta}_{g}}}}{(n-p)}$$\n",
      "\n",
      "where $S_{g,\\boldsymbol{\\hat{\\beta}_{g}}}$ is the weighted sum of the squared residuals $S_{g}$ when $\\boldsymbol{\\beta_{g}}$ is set to $\\boldsymbol{\\hat{\\beta}_{g}}$,\n",
      "\n",
      "and $n-p$ is the number of degrees of freedom, calculated by subtracting the number regression coefficients we are estimating, $p$, from the number of samples/observations $n$.\n",
      "\n",
      "\n",
      "Create and print a `DataFrame` called `lin_model_2` that holds `Geneid`, $y_g$, $\\boldsymbol{\\hat{\\beta}_{g}}$, $\\boldsymbol{\\hat{\\mu}_{g}}$, and $s^{2}_{g}$ for each gene, and is indexed by `Geneid`.\n",
      "\n",
      "Notice this problem is similar to problem 1.5, and you may be able to re-use some code, but be careful to notice the changes introduced by the weights, especially in calculating $\\boldsymbol{\\hat{\\beta}_{g}}$ and $s^{2}_{g}$."
     ]
    },
    {
     "cell_type": "code",
     "collapsed": false,
     "input": [
      "#Your code here\n",
      "W = np.array(map(np.diag, np.array(voomWeights)))\n",
      "\n",
      "multiplier = np.array(map(lambda w_g: np.linalg.inv(X.T.dot(w_g).dot(X)).dot(X.T).dot(w_g), W))\n",
      "beta_hat_g = np.array([a.dot(b) for a, b in zip(multiplier, log_cpm_filtered[ind].as_matrix())])\n",
      "mu_g_hat = np.array(map(lambda b: X.dot(b), beta_hat_g))\n",
      "sq_residuals = (log_cpm_filtered[ind] - mu_g_hat).applymap(lambda x: x**2)\n",
      "\n",
      "n = 4\n",
      "p = 2\n",
      "s_g_sq = np.array([sum(a.dot(b)) for a,b in zip(W, sq_residuals.as_matrix())])/(n-p)\n",
      "\n",
      "lin_model_2 = pd.DataFrame(index=log_cpm_filtered.index)\n",
      "lin_model_2['Geneid'] = log_cpm_filtered['Geneid']\n",
      "lin_model_2['y_g'] = pd.Series((list(v.values) for k,v in log_cpm_filtered[ind].iterrows()), index=lin_model_2.index)\n",
      "lin_model_2['B_hat_g'] = pd.Series((list(v.values) for k,v in pd.DataFrame(beta_hat_g).iterrows()), index=lin_model_2.index)\n",
      "lin_model_2['mu_hat_g'] = pd.Series((list(v.values) for k,v in pd.DataFrame(mu_g_hat).iterrows()), index=lin_model_2.index)\n",
      "lin_model_2['s2_g'] = pd.Series(s_g_sq, index=lin_model_1.index)\n",
      "\n",
      "lin_model_2.head()\n"
     ],
     "language": "python",
     "metadata": {},
     "outputs": [
      {
       "html": [
        "<div>\n",
        "<table border=\"1\" class=\"dataframe\">\n",
        "  <thead>\n",
        "    <tr style=\"text-align: right;\">\n",
        "      <th></th>\n",
        "      <th>Geneid</th>\n",
        "      <th>y_g</th>\n",
        "      <th>B_hat_g</th>\n",
        "      <th>mu_hat_g</th>\n",
        "      <th>s2_g</th>\n",
        "    </tr>\n",
        "    <tr>\n",
        "      <th>Geneid</th>\n",
        "      <th></th>\n",
        "      <th></th>\n",
        "      <th></th>\n",
        "      <th></th>\n",
        "      <th></th>\n",
        "    </tr>\n",
        "  </thead>\n",
        "  <tbody>\n",
        "    <tr>\n",
        "      <th>HIVEP3</th>\n",
        "      <td>HIVEP3</td>\n",
        "      <td>[8.68221327343, 7.49392129272, 7.44128260939, ...</td>\n",
        "      <td>[8.10287167321, -0.424687880612]</td>\n",
        "      <td>[8.10287167321, 8.10287167321, 7.6781837926, 7...</td>\n",
        "      <td>4.056769</td>\n",
        "    </tr>\n",
        "    <tr>\n",
        "      <th>CSMD2</th>\n",
        "      <td>CSMD2</td>\n",
        "      <td>[7.1094383429, 5.7794649962, 6.59297356631, 6....</td>\n",
        "      <td>[6.43991049752, 0.0595666718027]</td>\n",
        "      <td>[6.43991049752, 6.43991049752, 6.49947716932, ...</td>\n",
        "      <td>4.676586</td>\n",
        "    </tr>\n",
        "    <tr>\n",
        "      <th>TTLL7</th>\n",
        "      <td>TTLL7</td>\n",
        "      <td>[4.65076503967, 4.88982544364, 4.86952387012, ...</td>\n",
        "      <td>[4.7921050544, 0.1034496715]</td>\n",
        "      <td>[4.7921050544, 4.7921050544, 4.8955547259, 4.8...</td>\n",
        "      <td>0.107207</td>\n",
        "    </tr>\n",
        "    <tr>\n",
        "      <th>ANXA9</th>\n",
        "      <td>ANXA9</td>\n",
        "      <td>[6.20197874904, 5.73865053337, 5.82954443215, ...</td>\n",
        "      <td>[5.95605505089, -0.151236778441]</td>\n",
        "      <td>[5.95605505089, 5.95605505089, 5.80481827245, ...</td>\n",
        "      <td>0.542436</td>\n",
        "    </tr>\n",
        "    <tr>\n",
        "      <th>LINC01032</th>\n",
        "      <td>LINC01032</td>\n",
        "      <td>[4.33507788476, 5.2964507031, 5.08460812688, 5...</td>\n",
        "      <td>[4.90182673367, 0.266320600504]</td>\n",
        "      <td>[4.90182673367, 4.90182673367, 5.16814733417, ...</td>\n",
        "      <td>1.736764</td>\n",
        "    </tr>\n",
        "  </tbody>\n",
        "</table>\n",
        "</div>"
       ],
       "metadata": {},
       "output_type": "pyout",
       "prompt_number": 17,
       "text": [
        "              Geneid                                                y_g  \\\n",
        "Geneid                                                                    \n",
        "HIVEP3        HIVEP3  [8.68221327343, 7.49392129272, 7.44128260939, ...   \n",
        "CSMD2          CSMD2  [7.1094383429, 5.7794649962, 6.59297356631, 6....   \n",
        "TTLL7          TTLL7  [4.65076503967, 4.88982544364, 4.86952387012, ...   \n",
        "ANXA9          ANXA9  [6.20197874904, 5.73865053337, 5.82954443215, ...   \n",
        "LINC01032  LINC01032  [4.33507788476, 5.2964507031, 5.08460812688, 5...   \n",
        "\n",
        "                                    B_hat_g  \\\n",
        "Geneid                                        \n",
        "HIVEP3     [8.10287167321, -0.424687880612]   \n",
        "CSMD2      [6.43991049752, 0.0595666718027]   \n",
        "TTLL7          [4.7921050544, 0.1034496715]   \n",
        "ANXA9      [5.95605505089, -0.151236778441]   \n",
        "LINC01032   [4.90182673367, 0.266320600504]   \n",
        "\n",
        "                                                    mu_hat_g      s2_g  \n",
        "Geneid                                                                  \n",
        "HIVEP3     [8.10287167321, 8.10287167321, 7.6781837926, 7...  4.056769  \n",
        "CSMD2      [6.43991049752, 6.43991049752, 6.49947716932, ...  4.676586  \n",
        "TTLL7      [4.7921050544, 4.7921050544, 4.8955547259, 4.8...  0.107207  \n",
        "ANXA9      [5.95605505089, 5.95605505089, 5.80481827245, ...  0.542436  \n",
        "LINC01032  [4.90182673367, 4.90182673367, 5.16814733417, ...  1.736764  "
       ]
      }
     ],
     "prompt_number": 17
    },
    {
     "cell_type": "heading",
     "level": 4,
     "metadata": {},
     "source": [
      "2.2"
     ]
    },
    {
     "cell_type": "markdown",
     "metadata": {},
     "source": [
      "The unscaled standard deviations, $\\mathbf{v_{g}}$ are the square-roots of the diagonal elements of $(\\mathbf{X^{T}W_{g}X})^{-1}$.\n",
      "\n",
      "Set the *j*-th element of $\\mathbf{v_{g}}$, $v_{gj}$, as equal to square root of the *j*-th diagonal element of $(\\mathbf{X^{T}W_{g}X})^{-1}$.\n",
      "\n",
      "*j* is equal to the number of regression coefficients -- here, 2.\n",
      "\n",
      "Add $\\mathbf{v_{g}}$ to `lin_model_2` under a new column `v_g`.\n",
      "\n",
      "Print `lin_model_2`."
     ]
    },
    {
     "cell_type": "code",
     "collapsed": false,
     "input": [
      "#Your code here\n",
      "\n",
      "v_g = np.array(map(lambda w_g: np.sqrt(np.diag(np.linalg.inv(X.T.dot(w_g).dot(X)))), W))\n",
      "lin_model_2['v_g'] = pd.Series((list(v.values) for k,v in pd.DataFrame(v_g).iterrows()), index=lin_model_2.index)\n",
      "lin_model_2.head()\n"
     ],
     "language": "python",
     "metadata": {},
     "outputs": [
      {
       "html": [
        "<div>\n",
        "<table border=\"1\" class=\"dataframe\">\n",
        "  <thead>\n",
        "    <tr style=\"text-align: right;\">\n",
        "      <th></th>\n",
        "      <th>Geneid</th>\n",
        "      <th>y_g</th>\n",
        "      <th>B_hat_g</th>\n",
        "      <th>mu_hat_g</th>\n",
        "      <th>s2_g</th>\n",
        "      <th>v_g</th>\n",
        "    </tr>\n",
        "    <tr>\n",
        "      <th>Geneid</th>\n",
        "      <th></th>\n",
        "      <th></th>\n",
        "      <th></th>\n",
        "      <th></th>\n",
        "      <th></th>\n",
        "      <th></th>\n",
        "    </tr>\n",
        "  </thead>\n",
        "  <tbody>\n",
        "    <tr>\n",
        "      <th>HIVEP3</th>\n",
        "      <td>HIVEP3</td>\n",
        "      <td>[8.68221327343, 7.49392129272, 7.44128260939, ...</td>\n",
        "      <td>[8.10287167321, -0.424687880612]</td>\n",
        "      <td>[8.10287167321, 8.10287167321, 7.6781837926, 7...</td>\n",
        "      <td>4.056769</td>\n",
        "      <td>[0.224709727634, 0.316786034085]</td>\n",
        "    </tr>\n",
        "    <tr>\n",
        "      <th>CSMD2</th>\n",
        "      <td>CSMD2</td>\n",
        "      <td>[7.1094383429, 5.7794649962, 6.59297356631, 6....</td>\n",
        "      <td>[6.43991049752, 0.0595666718027]</td>\n",
        "      <td>[6.43991049752, 6.43991049752, 6.49947716932, ...</td>\n",
        "      <td>4.676586</td>\n",
        "      <td>[0.219605824116, 0.309370893602]</td>\n",
        "    </tr>\n",
        "    <tr>\n",
        "      <th>TTLL7</th>\n",
        "      <td>TTLL7</td>\n",
        "      <td>[4.65076503967, 4.88982544364, 4.86952387012, ...</td>\n",
        "      <td>[4.7921050544, 0.1034496715]</td>\n",
        "      <td>[4.7921050544, 4.7921050544, 4.8955547259, 4.8...</td>\n",
        "      <td>0.107207</td>\n",
        "      <td>[0.260631889976, 0.358682673313]</td>\n",
        "    </tr>\n",
        "    <tr>\n",
        "      <th>ANXA9</th>\n",
        "      <td>ANXA9</td>\n",
        "      <td>[6.20197874904, 5.73865053337, 5.82954443215, ...</td>\n",
        "      <td>[5.95605505089, -0.151236778441]</td>\n",
        "      <td>[5.95605505089, 5.95605505089, 5.80481827245, ...</td>\n",
        "      <td>0.542436</td>\n",
        "      <td>[0.223291471123, 0.313748007481]</td>\n",
        "    </tr>\n",
        "    <tr>\n",
        "      <th>LINC01032</th>\n",
        "      <td>LINC01032</td>\n",
        "      <td>[4.33507788476, 5.2964507031, 5.08460812688, 5...</td>\n",
        "      <td>[4.90182673367, 0.266320600504]</td>\n",
        "      <td>[4.90182673367, 4.90182673367, 5.16814733417, ...</td>\n",
        "      <td>1.736764</td>\n",
        "      <td>[0.258445587069, 0.349687310833]</td>\n",
        "    </tr>\n",
        "  </tbody>\n",
        "</table>\n",
        "</div>"
       ],
       "metadata": {},
       "output_type": "pyout",
       "prompt_number": 18,
       "text": [
        "              Geneid                                                y_g  \\\n",
        "Geneid                                                                    \n",
        "HIVEP3        HIVEP3  [8.68221327343, 7.49392129272, 7.44128260939, ...   \n",
        "CSMD2          CSMD2  [7.1094383429, 5.7794649962, 6.59297356631, 6....   \n",
        "TTLL7          TTLL7  [4.65076503967, 4.88982544364, 4.86952387012, ...   \n",
        "ANXA9          ANXA9  [6.20197874904, 5.73865053337, 5.82954443215, ...   \n",
        "LINC01032  LINC01032  [4.33507788476, 5.2964507031, 5.08460812688, 5...   \n",
        "\n",
        "                                    B_hat_g  \\\n",
        "Geneid                                        \n",
        "HIVEP3     [8.10287167321, -0.424687880612]   \n",
        "CSMD2      [6.43991049752, 0.0595666718027]   \n",
        "TTLL7          [4.7921050544, 0.1034496715]   \n",
        "ANXA9      [5.95605505089, -0.151236778441]   \n",
        "LINC01032   [4.90182673367, 0.266320600504]   \n",
        "\n",
        "                                                    mu_hat_g      s2_g  \\\n",
        "Geneid                                                                   \n",
        "HIVEP3     [8.10287167321, 8.10287167321, 7.6781837926, 7...  4.056769   \n",
        "CSMD2      [6.43991049752, 6.43991049752, 6.49947716932, ...  4.676586   \n",
        "TTLL7      [4.7921050544, 4.7921050544, 4.8955547259, 4.8...  0.107207   \n",
        "ANXA9      [5.95605505089, 5.95605505089, 5.80481827245, ...  0.542436   \n",
        "LINC01032  [4.90182673367, 4.90182673367, 5.16814733417, ...  1.736764   \n",
        "\n",
        "                                        v_g  \n",
        "Geneid                                       \n",
        "HIVEP3     [0.224709727634, 0.316786034085]  \n",
        "CSMD2      [0.219605824116, 0.309370893602]  \n",
        "TTLL7      [0.260631889976, 0.358682673313]  \n",
        "ANXA9      [0.223291471123, 0.313748007481]  \n",
        "LINC01032  [0.258445587069, 0.349687310833]  "
       ]
      }
     ],
     "prompt_number": 18
    },
    {
     "cell_type": "heading",
     "level": 4,
     "metadata": {},
     "source": [
      "2.3"
     ]
    },
    {
     "cell_type": "markdown",
     "metadata": {},
     "source": [
      "Now we need to calculate our prior estimator of the residual variance, $s^{2}_{0}$, and its degrees of freedom $d_{0}$. \n",
      "\n",
      "To calculate $d_{0}$ and $s^{2}_{0}$, take:\n",
      "\n",
      "1. The vector $\\mathbf{s^{2}}$ whose elements are the gene-wise residual variance estimates $s^{2}_{g}$\n",
      "2. The degrees of freedom, $d=(n-p)$, of the gene-wise residual variance estimates, $s^{2}_{g}$.\n",
      "\n",
      "and input both into the R function `squeezeVar` available in the limma package:\n",
      "\n",
      "`squeezeVar(`$\\mathbf{s^{2}}$,$d_{g}$`)` \n",
      "\n",
      "As output from `squeezeVar`, you will get $d_{0}$ ('df.prior') and $s^{2}_{0}$ ('var.prior'). Print these."
     ]
    },
    {
     "cell_type": "code",
     "collapsed": false,
     "input": [
      "#Your code here\n",
      "\n",
      "#dg = np.array([n-p for i in s_g_sq])\n",
      "dg = n-p\n",
      "%Rpush s_g_sq dg\n",
      "%R library(edgeR)\n",
      "%R library(limma)\n",
      "%R x <- squeezeVar(s_g_sq,dg)\n",
      "%R d0 <- x$df.prior\n",
      "%R s02 <- x$var.prior\n",
      "%R s_g_tilde_sq_pred <- x$var.post\n",
      "%Rpull d0\n",
      "%Rpull s02\n",
      "%Rpull s_g_tilde_sq_pred\n",
      "\n",
      "print d0\n",
      "print s02\n"
     ],
     "language": "python",
     "metadata": {},
     "outputs": [
      {
       "output_type": "stream",
       "stream": "stdout",
       "text": [
        "[ 4.91514304]\n",
        "[ 1.13011578]\n"
       ]
      }
     ],
     "prompt_number": 19
    },
    {
     "cell_type": "heading",
     "level": 4,
     "metadata": {},
     "source": [
      "2.4"
     ]
    },
    {
     "cell_type": "markdown",
     "metadata": {},
     "source": [
      "Calculate the gene-wise posterior variance $\\tilde{s}^{2}_{g}$, by shrinking the gene-wise observed variance $s^{2}_{g}$ toward the prior variance across all genes $s^{2}_{0}$. The degree of shrinkage depends on the relative sizes of the observed ($d = n - p$) and prior ($d_{0}$) degrees of freedom:\n",
      "\n",
      "$$\\tilde{s}^2_{g}=\\frac{d_{0}s^{2}_{0}+ds^{2}_{g}}{d_{0}+d}$$\n",
      "\n",
      "Print $\\tilde{s}^2_{g}$."
     ]
    },
    {
     "cell_type": "code",
     "collapsed": false,
     "input": [
      "#Your code here\n",
      "d = n - p\n",
      "s_g_tilde_sq = (d0*s02 + d*s_g_sq)/(d0 + d) \n",
      "s_g_tilde2 = pd.Series(s_g_tilde_sq, index=lin_model_2.index)\n",
      "\n",
      "s_g_tilde2.head()\n",
      "\n"
     ],
     "language": "python",
     "metadata": {},
     "outputs": [
      {
       "metadata": {},
       "output_type": "pyout",
       "prompt_number": 20,
       "text": [
        "Geneid\n",
        "HIVEP3       1.976563\n",
        "CSMD2        2.155827\n",
        "TTLL7        0.834270\n",
        "ANXA9        0.960147\n",
        "LINC01032    1.305571\n",
        "dtype: float64"
       ]
      }
     ],
     "prompt_number": 20
    },
    {
     "cell_type": "heading",
     "level": 4,
     "metadata": {},
     "source": [
      "2.5"
     ]
    },
    {
     "cell_type": "markdown",
     "metadata": {},
     "source": [
      "`squeezeVar()` also outputs the gene-wise posterior variance $\\tilde{s}^{2}_{g}$ (as `var.post`). \n",
      "\n",
      "Check that your calculation of $\\tilde{s}^{2}_{g}$ agrees with what you get from running `squeezeVar(`$\\mathbf{s^{2}}$,$d_{g}$`)` by plotting them against each other in a scatter plot."
     ]
    },
    {
     "cell_type": "code",
     "collapsed": false,
     "input": [
      "#Your code here\n",
      "plt.figure()\n",
      "plt.title('Comparison of Calculated S_tilde_g^2 Values with SqueezeVar Values')\n",
      "plt.scatter(s_g_tilde_sq, s_g_tilde_sq_pred)\n",
      "plt.xlabel('Calculated Values')\n",
      "plt.ylabel('SqueezeVar Calculated Values')\n",
      "plt.show()\n"
     ],
     "language": "python",
     "metadata": {},
     "outputs": [
      {
       "metadata": {},
       "output_type": "display_data",
       "png": "[encoded data removed]",
       "text": [
        "<matplotlib.figure.Figure at 0x2b16a34136d0>"
       ]
      }
     ],
     "prompt_number": 21
    },
    {
     "cell_type": "heading",
     "level": 4,
     "metadata": {},
     "source": [
      "2.6"
     ]
    },
    {
     "cell_type": "markdown",
     "metadata": {},
     "source": [
      "Now we can finally calculate the moderated t-statistic:\n",
      "    \n",
      "$$\\mathbf{\\tilde{t}_{g}}=\\frac{\\boldsymbol{\\hat{\\beta}_{g}}}{\\tilde{s}_{g}(\\mathbf{v_{g}})}$$\n",
      "\n",
      "or, equivalently, if we write out the moderated t-statistic for each of the $j$ coefficients in $\\boldsymbol{\\hat{\\beta}_{g}}$:\n",
      "\n",
      "$$\\tilde{t}_{gj}=\\frac{\\hat{\\beta}_{gj}}{\\tilde{s}_{g}(v_{gj})}$$\n",
      "\n",
      "Calculate $\\mathbf{\\tilde{t}_{g}}$ for each gene."
     ]
    },
    {
     "cell_type": "code",
     "collapsed": false,
     "input": [
      "#Your code here\n",
      "\n",
      "t_g_tilde = np.array([np.divide(b, np.sqrt(s)*v) for b, s, v in zip(beta_hat_g, s_g_tilde_sq_pred, v_g)])\n",
      "print t_g_tilde\n"
     ],
     "language": "python",
     "metadata": {},
     "outputs": [
      {
       "output_type": "stream",
       "stream": "stdout",
       "text": [
        "[[ 25.648485    -0.95356098]\n",
        " [ 19.97234293   0.13113449]\n",
        " [ 20.1300813    0.31576608]\n",
        " ..., \n",
        " [ 13.31874112  -7.98235427]\n",
        " [  3.07987621  -0.42504052]\n",
        " [ 12.31643769  -0.49156679]]\n"
       ]
      }
     ],
     "prompt_number": 22
    },
    {
     "cell_type": "heading",
     "level": 4,
     "metadata": {},
     "source": [
      "2.7"
     ]
    },
    {
     "cell_type": "markdown",
     "metadata": {},
     "source": [
      "Now that we have the moderated t-statistics for each of the two regression coefficients, we can compute the probability of seeing a t-statistic at least as extreme as the one we observe. We will do this only for the second regression coefficient, which represents the difference between female and male gene expression: $\\beta_{g,2} = Female - Male$.\n",
      "\n",
      "You can compute the probability $P(T>\\tilde{t}_{g,2})$ using `scipy.stats.t.sf(abs(t),df_total)`, where t is the observed moderated t-statistic and df_total is the total degrees of freedom: $d_{total} = d_{0} + d = d_{0} + (n-p)$. We have already imported `scipy.stats` as `scistats` so you can run `scistats.t.sf()`.\n",
      "\n",
      "But, we want a two-tailed p-value to capture both extremes, so make sure to take the values you get from `scistats.t.sf(abs(t),df_total)` and multiply them by 2.\n",
      "\n",
      "Print your computed p-values."
     ]
    },
    {
     "cell_type": "code",
     "collapsed": false,
     "input": [
      "#Your code here\n",
      "df_total = d0 + (n-p)\n",
      "\n",
      "p_values = 2*scistats.t.sf(abs(t_g_tilde[:,1]),df_total)\n",
      "print p_values\n"
     ],
     "language": "python",
     "metadata": {},
     "outputs": [
      {
       "output_type": "stream",
       "stream": "stdout",
       "text": [
        "[  3.72440209e-01   8.99402362e-01   7.61496547e-01 ...,   9.86717917e-05\n",
        "   6.83719966e-01   6.38242709e-01]\n"
       ]
      }
     ],
     "prompt_number": 23
    },
    {
     "cell_type": "heading",
     "level": 4,
     "metadata": {},
     "source": [
      "2.8"
     ]
    },
    {
     "cell_type": "markdown",
     "metadata": {},
     "source": [
      "Adjust your p-values for multiple hypothesis testing using the Benjamini-Hochberg method.\n",
      "\n",
      "Do this by running:\n",
      "\n",
      "    import statsmodels.sandbox.stats.multicomp as sm\n",
      "\n",
      "And then feed the p-values you previously computed into the function `sm.multipletests()`.\n",
      "\n",
      "Print the minimum of your adjusted p-values. Is it less than 0.05?"
     ]
    },
    {
     "cell_type": "code",
     "collapsed": false,
     "input": [
      "#Your code here\n",
      "import statsmodels.sandbox.stats.multicomp as sm\n",
      "res = sm.multipletests(p_values, method='fdr_bh')[1]\n",
      "print 'Minimum P-value: ', min(res)\n",
      "print \"No, it is not less than .05\"\n",
      "#print res\n",
      "p_val_adjusteds = pd.Series(res, index=log_cpm_filtered.index)\n"
     ],
     "language": "python",
     "metadata": {},
     "outputs": [
      {
       "output_type": "stream",
       "stream": "stdout",
       "text": [
        "Minimum P-value:  0.130519485039\n",
        "No, it is not less than .05\n"
       ]
      }
     ],
     "prompt_number": 24
    },
    {
     "cell_type": "heading",
     "level": 4,
     "metadata": {},
     "source": [
      "2.9"
     ]
    },
    {
     "cell_type": "markdown",
     "metadata": {},
     "source": [
      "What gene did you discover to have the smallest p-value, even though it didn't make the cut-off of being significantly differentially expressed (Benjamini-Hochberg adjusted p-value < 0.05) between our male and female samples?\n",
      "\n",
      "What is its Hugo Symbol ('common' gene name)?\n",
      "\n",
      "What is this gene's fold change in gene expression between female and male samples? In which sex is the gene more highly expressed?\n",
      "\n",
      "What does this gene do? Does its function appear to match up with being differentially expressed in females vs. males?\n",
      "\n",
      "Isn't this cool??\n",
      "\n",
      "*When we examine a larger data set in Problem 3, we will see that this gene emerges as significantly differentially expressed between male and female samples.*"
     ]
    },
    {
     "cell_type": "code",
     "collapsed": false,
     "input": [
      "#Your code here\n",
      "lowest = p_val_adjusteds.idxmin()\n",
      "print 'The lowest one is ', lowest\n",
      "print \"It's Hugo symbol is X-inactive specific transcript\"\n",
      "log_fc = lin_model_2.ix[lowest, 'B_hat_g'][1]\n",
      "fc = 2**log_fc\n",
      "print \"\\n\\nThe log fold change is \", log_fc, '\\nThe fold change is ', fc\n",
      "print \"\\n\\nIt is much more highly expressed in females. This makes sense, as the gene is involved in X-inactivation, so we would expect the gene to predominantly be expressed in females! Cool!\""
     ],
     "language": "python",
     "metadata": {},
     "outputs": [
      {
       "output_type": "stream",
       "stream": "stdout",
       "text": [
        "The lowest one is  XIST\n",
        "It's Hugo symbol is X-inactive specific transcript\n",
        "\n",
        "\n",
        "The log fold change is  9.21144912474 \n",
        "The fold change is  592.819512751\n",
        "\n",
        "\n",
        "It is much more highly expressed in females. This makes sense, as the gene is involved in X-inactivation, so we would expect the gene to predominantly be expressed in females! Cool!\n"
       ]
      }
     ],
     "prompt_number": 25
    },
    {
     "cell_type": "heading",
     "level": 4,
     "metadata": {},
     "source": [
      "2.10"
     ]
    },
    {
     "cell_type": "markdown",
     "metadata": {},
     "source": [
      "Now run `limma`:\n",
      "\n",
      "The calculations you've done in this problem are exactly how a method called `limma` assesses differential gene expression and computes p-values for each gene.\n",
      "\n",
      "Run `limma` in `R` and retrieve the results:\n",
      "\n",
      "    %Rpush countsMatrix_filtered sex design annotation normFactors\n",
      "    %R library(edgeR)\n",
      "    %R library(limma)\n",
      "    %R x <- DGEList(counts=countsMatrix_filtered, group=sex, genes=annotation)\n",
      "    %R x$samples$norm.factors <- as.numeric(normFactors)\n",
      "    %R voomResults <- voom(x,design)\n",
      "    %R lm <- lmFit(voomResults,design)\n",
      "    %R fit <- eBayes(lm)\n",
      "    %R tLimma <- as.matrix(fit$t)\n",
      "%R pLimma <- as.matrix(fit$p.value)\n",
      "    \n",
      "    # Now some acrobatics to pull the data back from R into Python. \n",
      "    # We expect the R-Python interface will improve in future versions, allowing for cleaner code. \n",
      "    # Or perhaps there is also a better way to do this that we are not yet aware of!\n",
      "    \n",
      "    %R tLimma_column1 <- tLimma[,1]\n",
      "    %R tLimma_column2 <- tLimma[,2]\n",
      "    %R pLimma_column1 <- pLimma[,1]\n",
      "    %R pLimma_column2 <- pLimma[,2]\n",
      "    %Rpull tLimma_column1\n",
      "    %Rpull tLimma_column2\n",
      "    %Rpull pLimma_column1\n",
      "    %Rpull pLimma_column2\n",
      "    \n",
      "where,\n",
      "\n",
      "1. `countsMatrix_filtered` contains our original, unaltered counts, but filtered to only include those `Geneid`s that are present in `log_cpm_filtered`.\n",
      "2. `sex` is a `list` defining the sex of each sample.\n",
      "3. `design` is the design matrix, as a `pandas DataFrame`.\n",
      "4. `normFactors` are the library normalization factors we calculated by TMM: `libraries['norm.factors']`.\n",
      "5. `annotation` is a `pandas DataFrame` containing the `Geneid`s in `log_cpm_filtered`.\n",
      "\n",
      "Demonstrate by plotting two scatter plots that you get the same p-values and moderated t-statistics as `limma` does. Based on the above code, `tLimma` will hold the moderated t-statistics and `pLimma` will hold the p-values output from `limma`.\n"
     ]
    },
    {
     "cell_type": "code",
     "collapsed": false,
     "input": [
      "#Your code here\n",
      "annotation = log_cpm_filtered\n",
      "\n",
      "%Rpush countsMatrix_filtered sex design annotation normFactors\n",
      "%R library(edgeR)\n",
      "%R library(limma)\n",
      "%R x <- DGEList(counts=countsMatrix_filtered, group=sex, genes=annotation)\n",
      "%R x$samples$norm.factors <- as.numeric(normFactors)\n",
      "%R voomResults <- voom(x,design)\n",
      "%R lm <- lmFit(voomResults,design)\n",
      "%R fit <- eBayes(lm)\n",
      "%R tLimma <- as.matrix(fit$t)\n",
      "%R pLimma <- as.matrix(fit$p.value)\n",
      "\n",
      "# Now some acrobatics to pull the data back from R into Python. \n",
      "# We expect the R-Python interface will improve in future versions, allowing for cleaner code. \n",
      "# Or perhaps there is also a better way to do this that we are not yet aware of!\n",
      "\n",
      "%R tLimma_column1 <- tLimma[,1]\n",
      "%R tLimma_column2 <- tLimma[,2]\n",
      "%R pLimma_column1 <- pLimma[,1]\n",
      "%R pLimma_column2 <- pLimma[,2]\n",
      "%Rpull tLimma_column1\n",
      "%Rpull tLimma_column2\n",
      "%Rpull pLimma_column1\n",
      "%Rpull pLimma_column2\n",
      "\n",
      "plt.figure()\n",
      "plt.title('Comparison of Calculated and Limma-Calculated P-values')\n",
      "plt.xlabel('Calculated P-value')\n",
      "plt.ylabel('Limma-Calculated P-value')\n",
      "\n",
      "plt.scatter(pLimma_column2, p_values)\n",
      "plt.show()\n",
      "plt.figure()\n",
      "plt.title('Comparison of Calculated and Limma-Calculated T-statistics')\n",
      "plt.xlabel('Calculated T-statistic')\n",
      "plt.ylabel('Limma-Calculated T-statistic')\n",
      "plt.scatter(tLimma_column2,t_g_tilde[:,1] )\n",
      "plt.show()\n"
     ],
     "language": "python",
     "metadata": {},
     "outputs": [
      {
       "metadata": {},
       "output_type": "display_data",
       "png": "[encoded data removed]",
       "text": [
        "<matplotlib.figure.Figure at 0x2b16a2679910>"
       ]
      },
      {
       "metadata": {},
       "output_type": "display_data",
       "png": "[encoded data removed]",
       "text": [
        "<matplotlib.figure.Figure at 0x2b16a5029ad0>"
       ]
      }
     ],
     "prompt_number": 26
    },
    {
     "cell_type": "code",
     "collapsed": false,
     "input": [
      "import findspark\n",
      "findspark.init()\n",
      "\n",
      "import pyspark\n",
      "\n",
      "sc = pyspark.SparkContext(appName='testapp')"
     ],
     "language": "python",
     "metadata": {},
     "outputs": [],
     "prompt_number": 8
    },
    {
     "cell_type": "code",
     "collapsed": false,
     "input": [
      "from pyspark.mllib.clustering import LDA, LDAModel\n",
      "from pyspark.mllib.linalg import Vectors"
     ],
     "language": "python",
     "metadata": {},
     "outputs": [],
     "prompt_number": 9
    },
    {
     "cell_type": "heading",
     "level": 3,
     "metadata": {},
     "source": [
      "Problem 3. Differential gene expression in males vs females, with more biological replicates"
     ]
    },
    {
     "cell_type": "markdown",
     "metadata": {},
     "source": [
      "Now that we have a better understanding of how `voom` and `limma` infer differential expression, let's use `voom` and `limma` on a larger data set.\n",
      "\n",
      "Here's an RNA-seq data set generated from 74 human lymphoblastoid cell lines, 33 from males and 41 from females:\n",
      "\n",
      "Counts data:\n",
      "\n",
      "`Data/Pickrell_et_al/featureCounts_output_yaleOnly_noDuplicates_fixedNames.txt`\n",
      "\n",
      "Sample annotation: \n",
      "\n",
      "`Data/Pickrell_et_al/sample_annotations_inPickrell.txt`\n",
      "\n",
      "Again we want to ask which genes are differentially expressed between female and male samples, but this time we have a much larger data set and therefore more statistical power."
     ]
    },
    {
     "cell_type": "heading",
     "level": 4,
     "metadata": {},
     "source": [
      "3.1"
     ]
    },
    {
     "cell_type": "markdown",
     "metadata": {},
     "source": [
      "Read in the counts data and the sample annotation data as `pandas DataFrames`. "
     ]
    },
    {
     "cell_type": "code",
     "collapsed": false,
     "input": [
      "#Your code here\n",
      "counts = pd.read_csv(\"featureCounts_output_yaleOnly_noDuplicates_fixedNames.txt\", sep='\\t')\n",
      "counts = counts.set_index('Geneid', drop=False)\n",
      "annotations = pd.read_csv(\"sample_annotations_inPickrell.txt\", sep='\\t')\n",
      "annotations = annotations.set_index('SampleID', drop=False)\n",
      "\n",
      "countsMat = counts.ix[:, 'NA18486':].T\n",
      "#countsMat.head()\n",
      "\n",
      "# Remove all genes where sum of number of counts per million is not greater than 20 across all samples.\n",
      "countsMat = countsMat.ix[:, countsMat.sum() > 20]\n",
      "countsMat = countsMat.divide(countsMat.sum(axis=1), axis=0)\n",
      "\n",
      "\n",
      "# this is the tf-IDF representation.\n",
      "countsMat = countsMat.divide(countsMat.sum(axis=0))\n",
      "#countsMat = countsMat.ix[:,countsMat.var() > .0001]\n",
      "\n",
      "genes_good = ['XIST', 'UTY', 'RPS4Y2', 'EIF1AY', 'ZFY', 'USP9Y', 'NLGN4Y', 'TTTY15', 'TXLNGY', 'KDM5D', 'DDX3Y', 'RPS4Y1','MIR4260', 'GSTA4', 'CAV1', 'PNPLA4', 'RPS4X', 'HDHD1', 'MSL3', 'LOC389906', 'JPX', 'KDM6A', 'EIF1AX', 'KDM5C', 'ZRSR2', 'ZFX', 'PRKX', 'CD209', 'DDX3X', 'CCDC126', 'EIF2S3', 'CA5BP1', 'P2RY10', 'TXLNG', 'CXorf38', 'MLLT4', 'PRKY']\n",
      "\n",
      "countsMat = countsMat.ix[:, genes_good]\n",
      "\n",
      "\n",
      "print countsMat.head()\n",
      "\n",
      "gene_names = sc.parallelize(np.array(countsMat.columns)).zipWithIndex().map(lambda (x,y): (y,x))\n",
      "print gene_names.take(10)\n",
      "\n",
      "#tst = np.array([[1,.1], [2, .1], [3, .1], [4, .1], [5, .8], [6, .1]])\n",
      "#model = lda.LDA(n_topics=2, n_iter=5, random_state=1)\n",
      "\n",
      "rdd = sc.parallelize(countsMat.as_matrix())\n",
      "rdd = rdd.map(lambda x: Vectors.dense(x))\n",
      "corpus = rdd.zipWithIndex().map(lambda x: [x[1], x[0]]).cache()\n",
      "#print rdd.take(5)\n",
      "#print corpus.take(5)\n",
      "ldaModel = LDA.train(corpus, k=2, docConcentration=1.1, topicConcentration=1.1)\n",
      "print(\"Learned topics (as distributions over vocab of \" + str(ldaModel.vocabSize()) + \" words):\")\n",
      "topics = ldaModel.topicsMatrix()\n",
      "topic_rdd = sc.parallelize(topics).zipWithIndex().map(lambda (x,y): (y,x))\n",
      "print topic_rdd.take(10)\n",
      "\n",
      "\n",
      "\n",
      "\n"
     ],
     "language": "python",
     "metadata": {},
     "outputs": [
      {
       "output_type": "stream",
       "stream": "stdout",
       "text": [
        "Geneid       XIST       UTY    RPS4Y2    EIF1AY       ZFY     USP9Y    NLGN4Y  \\\n",
        "NA18486  0.000050  0.014890  0.010559  0.016334  0.019214  0.018414  0.029261   \n",
        "NA18498  0.000029  0.021070  0.069354  0.040743  0.033430  0.030373  0.029788   \n",
        "NA18499  0.024407  0.002174  0.002158  0.000634  0.000655  0.000706  0.000000   \n",
        "NA18501  0.000000  0.032998  0.032556  0.033824  0.035656  0.034106  0.061473   \n",
        "NA18502  0.028369  0.002197  0.001402  0.000686  0.001276  0.000306  0.000000   \n",
        "\n",
        "Geneid     TTTY15    TXLNGY     KDM5D    ...        CD209     DDX3X   CCDC126  \\\n",
        "NA18486  0.027216  0.014664  0.033613    ...     0.011166  0.011254  0.016330   \n",
        "NA18498  0.028834  0.038816  0.029090    ...     0.008887  0.013858  0.019793   \n",
        "NA18499  0.000000  0.000000  0.000098    ...     0.011412  0.015692  0.017802   \n",
        "NA18501  0.039102  0.048541  0.044711    ...     0.010247  0.015004  0.012122   \n",
        "NA18502  0.000000  0.000000  0.000448    ...     0.010063  0.015032  0.020242   \n",
        "\n",
        "Geneid     EIF2S3    CA5BP1    P2RY10     TXLNG   CXorf38     MLLT4      PRKY  \n",
        "NA18486  0.003641  0.019344  0.008844  0.010727  0.005803  0.022286  0.014187  \n",
        "NA18498  0.010288  0.007679  0.009855  0.011286  0.011662  0.012789  0.013405  \n",
        "NA18499  0.016041  0.012774  0.019151  0.017658  0.013364  0.005337  0.015305  \n",
        "NA18501  0.009415  0.010451  0.014772  0.010731  0.012260  0.027009  0.018339  \n",
        "NA18502  0.017815  0.013438  0.015344  0.013322  0.014951  0.013078  0.011166  \n",
        "\n",
        "[5 rows x 37 columns]\n",
        "[(0, 'XIST'), (1, 'UTY'), (2, 'RPS4Y2'), (3, 'EIF1AY'), (4, 'ZFY'), (5, 'USP9Y'), (6, 'NLGN4Y'), (7, 'TTTY15'), (8, 'TXLNGY'), (9, 'KDM5D')]"
       ]
      },
      {
       "output_type": "stream",
       "stream": "stdout",
       "text": [
        "\n",
        "Learned topics (as distributions over vocab of 37 words):"
       ]
      },
      {
       "output_type": "stream",
       "stream": "stdout",
       "text": [
        "\n",
        "[(0, array([ 0.07480569,  0.92519431])), (1, array([ 0.88398991,  0.11601009])), (2, array([ 0.91827718,  0.08172282])), (3, array([ 0.89943482,  0.10056518])), (4, array([ 0.90336549,  0.09663451])), (5, array([ 0.91239984,  0.08760016])), (6, array([ 0.91480886,  0.08519114])), (7, array([ 0.9199132,  0.0800868])), (8, array([ 0.92518498,  0.07481502])), (9, array([ 0.91666936,  0.08333064]))]"
       ]
      },
      {
       "output_type": "stream",
       "stream": "stdout",
       "text": [
        "\n"
       ]
      }
     ],
     "prompt_number": 19
    },
    {
     "cell_type": "code",
     "collapsed": false,
     "input": [
      "counts = pd.read_csv(\"featureCounts_output_yaleOnly_noDuplicates_fixedNames.txt\", sep='\\t')\n",
      "counts = counts.set_index('Geneid', drop=False)\n",
      "annotations = pd.read_csv(\"sample_annotations_inPickrell.txt\", sep='\\t')\n",
      "annotations = annotations.set_index('SampleID', drop=False)\n",
      "\n",
      "countsMat = counts.ix[:, 'NA18486':].T\n",
      "#countsMat.head()\n",
      "\n",
      "# Remove all genes where sum of number of counts per million is not greater than 20 across all samples.\n",
      "countsMat = countsMat.ix[:, countsMat.sum() > 20]\n",
      "countsMat = countsMat.divide(countsMat.sum(axis=1), axis=0)\n",
      "\n",
      "\n",
      "# this is the tf-IDF representation.\n",
      "countsMat = countsMat.divide(countsMat.sum(axis=0))\n",
      "#countsMat = countsMat.ix[:,countsMat.var() > .0001]\n",
      "\n",
      "genes_good = ['XIST', 'UTY', 'RPS4Y2', 'EIF1AY', 'ZFY', 'USP9Y', 'NLGN4Y', 'TTTY15', 'TXLNGY', 'KDM5D', 'DDX3Y', 'RPS4Y1','MIR4260', 'GSTA4', 'CAV1', 'PNPLA4', 'RPS4X', 'HDHD1', 'MSL3', 'LOC389906', 'JPX', 'KDM6A', 'EIF1AX', 'KDM5C', 'ZRSR2', 'ZFX', 'PRKX', 'CD209', 'DDX3X', 'CCDC126', 'EIF2S3', 'CA5BP1', 'P2RY10', 'TXLNG', 'CXorf38', 'MLLT4', 'PRKY']\n",
      "\n",
      "countsMat = countsMat.ix[:, genes_good]\n",
      "\n",
      "\n"
     ],
     "language": "python",
     "metadata": {},
     "outputs": [],
     "prompt_number": 3
    },
    {
     "cell_type": "code",
     "collapsed": false,
     "input": [],
     "language": "python",
     "metadata": {},
     "outputs": [
      {
       "metadata": {},
       "output_type": "pyout",
       "prompt_number": 13,
       "text": [
        "array([[   50, 14890, 10558, ...,  5802, 22285, 14187],\n",
        "       [   29, 21069, 69353, ..., 11661, 12789, 13404],\n",
        "       [24406,  2174,  2158, ..., 13363,  5337, 15304],\n",
        "       ..., \n",
        "       [39029,  2244,  1542, ..., 18028, 12667, 11034],\n",
        "       [   16, 33810, 36027, ..., 15332, 11641, 19222],\n",
        "       [17830,  2141,     0, ..., 17206,  8997, 16229]])"
       ]
      }
     ],
     "prompt_number": 13
    },
    {
     "cell_type": "code",
     "collapsed": false,
     "input": [
      "ldamod =lda.LDA(n_topics=7, n_iter=500, random_state=1)"
     ],
     "language": "python",
     "metadata": {},
     "outputs": [],
     "prompt_number": 7
    },
    {
     "cell_type": "code",
     "collapsed": false,
     "input": [
      "ldamod.fit((countsMat.as_matrix()*1000000).astype(int))"
     ],
     "language": "python",
     "metadata": {},
     "outputs": [
      {
       "ename": "TypeError",
       "evalue": "Cannot cast array data from dtype('float64') to dtype('int64') according to the rule 'safe'",
       "output_type": "pyerr",
       "traceback": [
        "\u001b[0;31m---------------------------------------------------------------------------\u001b[0m\n\u001b[0;31mTypeError\u001b[0m                                 Traceback (most recent call last)",
        "\u001b[0;32m<ipython-input-8-98af45b2f37f>\u001b[0m in \u001b[0;36m<module>\u001b[0;34m()\u001b[0m\n\u001b[0;32m----> 1\u001b[0;31m \u001b[0mldamod\u001b[0m\u001b[0;34m.\u001b[0m\u001b[0mfit\u001b[0m\u001b[0;34m(\u001b[0m\u001b[0mcountsMat\u001b[0m\u001b[0;34m.\u001b[0m\u001b[0mas_matrix\u001b[0m\u001b[0;34m(\u001b[0m\u001b[0;34m)\u001b[0m\u001b[0;34m)\u001b[0m\u001b[0;34m\u001b[0m\u001b[0m\n\u001b[0m",
        "\u001b[0;32m/Library/Python/2.7/site-packages/lda/lda.pyc\u001b[0m in \u001b[0;36mfit\u001b[0;34m(self, X, y)\u001b[0m\n\u001b[1;32m    118\u001b[0m             \u001b[0mReturns\u001b[0m \u001b[0mthe\u001b[0m \u001b[0minstance\u001b[0m \u001b[0mitself\u001b[0m\u001b[0;34m.\u001b[0m\u001b[0;34m\u001b[0m\u001b[0m\n\u001b[1;32m    119\u001b[0m         \"\"\"\n\u001b[0;32m--> 120\u001b[0;31m         \u001b[0mself\u001b[0m\u001b[0;34m.\u001b[0m\u001b[0m_fit\u001b[0m\u001b[0;34m(\u001b[0m\u001b[0mX\u001b[0m\u001b[0;34m)\u001b[0m\u001b[0;34m\u001b[0m\u001b[0m\n\u001b[0m\u001b[1;32m    121\u001b[0m         \u001b[0;32mreturn\u001b[0m \u001b[0mself\u001b[0m\u001b[0;34m\u001b[0m\u001b[0m\n\u001b[1;32m    122\u001b[0m \u001b[0;34m\u001b[0m\u001b[0m\n",
        "\u001b[0;32m/Library/Python/2.7/site-packages/lda/lda.pyc\u001b[0m in \u001b[0;36m_fit\u001b[0;34m(self, X)\u001b[0m\n\u001b[1;32m    212\u001b[0m         \u001b[0mrandom_state\u001b[0m \u001b[0;34m=\u001b[0m \u001b[0mlda\u001b[0m\u001b[0;34m.\u001b[0m\u001b[0mutils\u001b[0m\u001b[0;34m.\u001b[0m\u001b[0mcheck_random_state\u001b[0m\u001b[0;34m(\u001b[0m\u001b[0mself\u001b[0m\u001b[0;34m.\u001b[0m\u001b[0mrandom_state\u001b[0m\u001b[0;34m)\u001b[0m\u001b[0;34m\u001b[0m\u001b[0m\n\u001b[1;32m    213\u001b[0m         \u001b[0mrands\u001b[0m \u001b[0;34m=\u001b[0m \u001b[0mself\u001b[0m\u001b[0;34m.\u001b[0m\u001b[0m_rands\u001b[0m\u001b[0;34m.\u001b[0m\u001b[0mcopy\u001b[0m\u001b[0;34m(\u001b[0m\u001b[0;34m)\u001b[0m\u001b[0;34m\u001b[0m\u001b[0m\n\u001b[0;32m--> 214\u001b[0;31m         \u001b[0mself\u001b[0m\u001b[0;34m.\u001b[0m\u001b[0m_initialize\u001b[0m\u001b[0;34m(\u001b[0m\u001b[0mX\u001b[0m\u001b[0;34m)\u001b[0m\u001b[0;34m\u001b[0m\u001b[0m\n\u001b[0m\u001b[1;32m    215\u001b[0m         \u001b[0;32mfor\u001b[0m \u001b[0mit\u001b[0m \u001b[0;32min\u001b[0m \u001b[0mrange\u001b[0m\u001b[0;34m(\u001b[0m\u001b[0mself\u001b[0m\u001b[0;34m.\u001b[0m\u001b[0mn_iter\u001b[0m\u001b[0;34m)\u001b[0m\u001b[0;34m:\u001b[0m\u001b[0;34m\u001b[0m\u001b[0m\n\u001b[1;32m    216\u001b[0m             \u001b[0;31m# FIXME: using numpy.roll with a random shift might be faster\u001b[0m\u001b[0;34m\u001b[0m\u001b[0;34m\u001b[0m\u001b[0m\n",
        "\u001b[0;32m/Library/Python/2.7/site-packages/lda/lda.pyc\u001b[0m in \u001b[0;36m_initialize\u001b[0;34m(self, X)\u001b[0m\n\u001b[1;32m    251\u001b[0m         \u001b[0mself\u001b[0m\u001b[0;34m.\u001b[0m\u001b[0mnz_\u001b[0m \u001b[0;34m=\u001b[0m \u001b[0mnz_\u001b[0m \u001b[0;34m=\u001b[0m \u001b[0mnp\u001b[0m\u001b[0;34m.\u001b[0m\u001b[0mzeros\u001b[0m\u001b[0;34m(\u001b[0m\u001b[0mn_topics\u001b[0m\u001b[0;34m,\u001b[0m \u001b[0mdtype\u001b[0m\u001b[0;34m=\u001b[0m\u001b[0mnp\u001b[0m\u001b[0;34m.\u001b[0m\u001b[0mintc\u001b[0m\u001b[0;34m)\u001b[0m\u001b[0;34m\u001b[0m\u001b[0m\n\u001b[1;32m    252\u001b[0m \u001b[0;34m\u001b[0m\u001b[0m\n\u001b[0;32m--> 253\u001b[0;31m         \u001b[0mself\u001b[0m\u001b[0;34m.\u001b[0m\u001b[0mWS\u001b[0m\u001b[0;34m,\u001b[0m \u001b[0mself\u001b[0m\u001b[0;34m.\u001b[0m\u001b[0mDS\u001b[0m \u001b[0;34m=\u001b[0m \u001b[0mWS\u001b[0m\u001b[0;34m,\u001b[0m \u001b[0mDS\u001b[0m \u001b[0;34m=\u001b[0m \u001b[0mlda\u001b[0m\u001b[0;34m.\u001b[0m\u001b[0mutils\u001b[0m\u001b[0;34m.\u001b[0m\u001b[0mmatrix_to_lists\u001b[0m\u001b[0;34m(\u001b[0m\u001b[0mX\u001b[0m\u001b[0;34m)\u001b[0m\u001b[0;34m\u001b[0m\u001b[0m\n\u001b[0m\u001b[1;32m    254\u001b[0m         \u001b[0mself\u001b[0m\u001b[0;34m.\u001b[0m\u001b[0mZS\u001b[0m \u001b[0;34m=\u001b[0m \u001b[0mZS\u001b[0m \u001b[0;34m=\u001b[0m \u001b[0mnp\u001b[0m\u001b[0;34m.\u001b[0m\u001b[0mempty_like\u001b[0m\u001b[0;34m(\u001b[0m\u001b[0mself\u001b[0m\u001b[0;34m.\u001b[0m\u001b[0mWS\u001b[0m\u001b[0;34m,\u001b[0m \u001b[0mdtype\u001b[0m\u001b[0;34m=\u001b[0m\u001b[0mnp\u001b[0m\u001b[0;34m.\u001b[0m\u001b[0mintc\u001b[0m\u001b[0;34m)\u001b[0m\u001b[0;34m\u001b[0m\u001b[0m\n\u001b[1;32m    255\u001b[0m         \u001b[0mnp\u001b[0m\u001b[0;34m.\u001b[0m\u001b[0mtesting\u001b[0m\u001b[0;34m.\u001b[0m\u001b[0massert_equal\u001b[0m\u001b[0;34m(\u001b[0m\u001b[0mN\u001b[0m\u001b[0;34m,\u001b[0m \u001b[0mlen\u001b[0m\u001b[0;34m(\u001b[0m\u001b[0mWS\u001b[0m\u001b[0;34m)\u001b[0m\u001b[0;34m)\u001b[0m\u001b[0;34m\u001b[0m\u001b[0m\n",
        "\u001b[0;32m/Library/Python/2.7/site-packages/lda/utils.pyc\u001b[0m in \u001b[0;36mmatrix_to_lists\u001b[0;34m(doc_word)\u001b[0m\n\u001b[1;32m     60\u001b[0m \u001b[0;34m\u001b[0m\u001b[0m\n\u001b[1;32m     61\u001b[0m     \u001b[0mn_tokens\u001b[0m \u001b[0;34m=\u001b[0m \u001b[0mint\u001b[0m\u001b[0;34m(\u001b[0m\u001b[0mdoc_word\u001b[0m\u001b[0;34m.\u001b[0m\u001b[0msum\u001b[0m\u001b[0;34m(\u001b[0m\u001b[0;34m)\u001b[0m\u001b[0;34m)\u001b[0m\u001b[0;34m\u001b[0m\u001b[0m\n\u001b[0;32m---> 62\u001b[0;31m     \u001b[0mDS\u001b[0m \u001b[0;34m=\u001b[0m \u001b[0mnp\u001b[0m\u001b[0;34m.\u001b[0m\u001b[0mrepeat\u001b[0m\u001b[0;34m(\u001b[0m\u001b[0mii\u001b[0m\u001b[0;34m,\u001b[0m \u001b[0mss\u001b[0m\u001b[0;34m)\u001b[0m\u001b[0;34m.\u001b[0m\u001b[0mastype\u001b[0m\u001b[0;34m(\u001b[0m\u001b[0mnp\u001b[0m\u001b[0;34m.\u001b[0m\u001b[0mintc\u001b[0m\u001b[0;34m)\u001b[0m\u001b[0;34m\u001b[0m\u001b[0m\n\u001b[0m\u001b[1;32m     63\u001b[0m     \u001b[0mWS\u001b[0m \u001b[0;34m=\u001b[0m \u001b[0mnp\u001b[0m\u001b[0;34m.\u001b[0m\u001b[0mempty\u001b[0m\u001b[0;34m(\u001b[0m\u001b[0mn_tokens\u001b[0m\u001b[0;34m,\u001b[0m \u001b[0mdtype\u001b[0m\u001b[0;34m=\u001b[0m\u001b[0mnp\u001b[0m\u001b[0;34m.\u001b[0m\u001b[0mintc\u001b[0m\u001b[0;34m)\u001b[0m\u001b[0;34m\u001b[0m\u001b[0m\n\u001b[1;32m     64\u001b[0m     \u001b[0mstartidx\u001b[0m \u001b[0;34m=\u001b[0m \u001b[0;36m0\u001b[0m\u001b[0;34m\u001b[0m\u001b[0m\n",
        "\u001b[0;32m/Library/Python/2.7/site-packages/numpy/core/fromnumeric.pyc\u001b[0m in \u001b[0;36mrepeat\u001b[0;34m(a, repeats, axis)\u001b[0m\n\u001b[1;32m    391\u001b[0m     \u001b[0;32mexcept\u001b[0m \u001b[0mAttributeError\u001b[0m\u001b[0;34m:\u001b[0m\u001b[0;34m\u001b[0m\u001b[0m\n\u001b[1;32m    392\u001b[0m         \u001b[0;32mreturn\u001b[0m \u001b[0m_wrapit\u001b[0m\u001b[0;34m(\u001b[0m\u001b[0ma\u001b[0m\u001b[0;34m,\u001b[0m \u001b[0;34m'repeat'\u001b[0m\u001b[0;34m,\u001b[0m \u001b[0mrepeats\u001b[0m\u001b[0;34m,\u001b[0m \u001b[0maxis\u001b[0m\u001b[0;34m)\u001b[0m\u001b[0;34m\u001b[0m\u001b[0m\n\u001b[0;32m--> 393\u001b[0;31m     \u001b[0;32mreturn\u001b[0m \u001b[0mrepeat\u001b[0m\u001b[0;34m(\u001b[0m\u001b[0mrepeats\u001b[0m\u001b[0;34m,\u001b[0m \u001b[0maxis\u001b[0m\u001b[0;34m)\u001b[0m\u001b[0;34m\u001b[0m\u001b[0m\n\u001b[0m\u001b[1;32m    394\u001b[0m \u001b[0;34m\u001b[0m\u001b[0m\n\u001b[1;32m    395\u001b[0m \u001b[0;34m\u001b[0m\u001b[0m\n",
        "\u001b[0;31mTypeError\u001b[0m: Cannot cast array data from dtype('float64') to dtype('int64') according to the rule 'safe'"
       ]
      }
     ],
     "prompt_number": 8
    },
    {
     "cell_type": "code",
     "collapsed": false,
     "input": [
      "\n",
      "names_to_distributions = topic_rdd.join(gene_names).map(lambda (index, (dist, name)): (name, dist))\n",
      "topic_for_each_gene = names_to_distributions.mapValues(lambda arr: np.argmax(arr))\n",
      "grouped_by_topic = topic_for_each_gene.map(lambda (gene, topic): (topic, gene)).groupByKey().mapValues(list)\n",
      "print grouped_by_topic.take(1000)\n",
      "\n"
     ],
     "language": "python",
     "metadata": {},
     "outputs": [
      {
       "output_type": "stream",
       "stream": "stdout",
       "text": [
        "[(0, ['TXLNGY', 'UTY', 'KDM5D', 'RPS4Y2', 'DDX3Y', 'RPS4Y1', 'EIF1AY', 'MLLT4', 'ZFY', 'PRKY', 'USP9Y', 'NLGN4Y', 'TTTY15']), (1, ['XIST', 'P2RY10', 'RPS4X', 'ZRSR2', 'TXLNG', 'HDHD1', 'ZFX', 'PRKX', 'CXorf38', 'MSL3', 'LOC389906', 'CD209', 'MIR4260', 'DDX3X', 'JPX', 'CCDC126', 'KDM6A', 'GSTA4', 'EIF1AX', 'EIF2S3', 'CAV1', 'KDM5C', 'CA5BP1', 'PNPLA4'])]\n"
       ]
      }
     ],
     "prompt_number": 20
    },
    {
     "cell_type": "heading",
     "level": 4,
     "metadata": {},
     "source": [
      "3.2"
     ]
    },
    {
     "cell_type": "markdown",
     "metadata": {},
     "source": [
      "What's the design matrix, $\\mathbf{X}$?\n",
      "\n",
      "$\\mathbf{X}$ should be similar to the design matrix in problem 1.4, since we will be estimating the same regression coefficients."
     ]
    },
    {
     "cell_type": "code",
     "collapsed": false,
     "input": [
      "#Your code here\n",
      "\n",
      "sex = map(lambda x: 0 if x == 'Male' else 1, annotations['Sex'])\n",
      "#Let 0 be male and 1 be female.\n",
      "design = np.column_stack((np.ones(len(annotations)), sex))\n",
      "\n",
      "print design.shape\n"
     ],
     "language": "python",
     "metadata": {},
     "outputs": [
      {
       "output_type": "stream",
       "stream": "stdout",
       "text": [
        "(74, 2)\n"
       ]
      }
     ],
     "prompt_number": 28
    },
    {
     "cell_type": "heading",
     "level": 4,
     "metadata": {},
     "source": [
      "3.3"
     ]
    },
    {
     "cell_type": "markdown",
     "metadata": {},
     "source": [
      "Run `voom` and `limma` on these data. \n",
      "\n",
      "\n",
      "Run `limma` in `R` and retrieve the results:\n",
      "\n",
      "    #Push the necessary data to R\n",
      "    %Rpush countsMatrix sex design annotation\n",
      "    \n",
      "    #Load the edgeR and limma libraries\n",
      "    %R library(edgeR)\n",
      "    %R library(limma)\n",
      "    \n",
      "    #Put the counts, groups, and annotation into a 'DGEList' object \n",
      "    %R x <- DGEList(counts=countsMatrix, group=sex, genes=annotation)\n",
      "    \n",
      "    #TMM Normalization\n",
      "    %R x <- calcNormFactors(x)\n",
      "    \n",
      "    #Filter out genes that don't have at least 1 count-per-million in at least 20 samples\n",
      "    %R isexpr <- rowSums(cpm(x) > 1) >= 20\n",
      "    %R x <- x[isexpr,]\n",
      "    \n",
      "    #Run voom\n",
      "    %R voomResults <- voom(x,design)\n",
      "  \n",
      "    #Run limma\n",
      "    %R fit <- eBayes(lmFit(voomResults,design))\n",
      "    \n",
      "    #Save the results\n",
      "    %R limmaResults <- topTable(fit,sort=\"p\",n=Inf,coef=2)\n",
      "    \n",
      "    #Pull the results back to python, dragging the correct row names along by force (ugh, R-Python interface)\n",
      "    %R rowNames <- rownames(limmaResults)\n",
      "    %Rpull limmaResults\n",
      "    %Rpull rowNames\n",
      "    \n",
      "    #Make sure to set the correct row names\n",
      "    limmaResults = limmaResults.set_index(rowNames)\n",
      "    \n",
      "where,\n",
      "\n",
      "1. `countsMatrix` contains our original, unaltered, unfiltered counts for all 74 samples.\n",
      "2. `sex` is a `list` defining the sex of each sample.\n",
      "3. `design` is the design matrix, as a `pandas DataFrame`.\n",
      "5. `annotation` is a `pandas DataFrame` containing the `Geneid`s in the same order as in `countsMatrix`.\n",
      "\n",
      "Print `limmaResults`."
     ]
    },
    {
     "cell_type": "code",
     "collapsed": false,
     "input": [
      "#Your code here\n",
      "countsMatrix = counts.ix[:,'NA18486':]\n",
      "annotation = countsMatrix\n",
      "print countsMatrix.shape\n",
      "\n",
      "\n",
      "#Push the necessary data to R\n",
      "%Rpush countsMatrix sex design annotation\n",
      "\n",
      "#Load the edgeR and limma libraries\n",
      "%R library(edgeR)\n",
      "%R library(limma)\n",
      "\n",
      "#Put the counts, groups, and annotation into a 'DGEList' object \n",
      "%R x <- DGEList(counts=countsMatrix, group=sex, genes=annotation)\n",
      "\n",
      "#TMM Normalization\n",
      "%R x <- calcNormFactors(x)\n",
      "\n",
      "#Filter out genes that don't have at least 1 count-per-million in at least 20 samples\n",
      "%R isexpr <- rowSums(cpm(x) > 1) >= 20\n",
      "%R x <- x[isexpr,]\n",
      "\n",
      "#Run voom\n",
      "%R voomResults <- voom(x,design)\n",
      "\n",
      "#Run limma\n",
      "%R fit <- eBayes(lmFit(voomResults,design))\n",
      "\n",
      "#Save the results\n",
      "%R limmaResults <- topTable(fit,sort=\"p\",n=Inf,coef=2)\n",
      "\n",
      "#Pull the results back to python, dragging the correct row names along by force (ugh, R-Python interface)\n",
      "%R rowNames <- rownames(limmaResults)\n",
      "%Rpull limmaResults\n",
      "%Rpull rowNames\n",
      "\n",
      "#Make sure to set the correct row names\n",
      "limmaResults = limmaResults.set_index(rowNames)\n",
      "limmaResults.head()\n"
     ],
     "language": "python",
     "metadata": {},
     "outputs": [
      {
       "output_type": "stream",
       "stream": "stdout",
       "text": [
        "(26328, 74)\n"
       ]
      },
      {
       "html": [
        "<div>\n",
        "<table border=\"1\" class=\"dataframe\">\n",
        "  <thead>\n",
        "    <tr style=\"text-align: right;\">\n",
        "      <th></th>\n",
        "      <th>NA18486</th>\n",
        "      <th>NA18498</th>\n",
        "      <th>NA18499</th>\n",
        "      <th>NA18501</th>\n",
        "      <th>NA18502</th>\n",
        "      <th>NA18504</th>\n",
        "      <th>NA18505</th>\n",
        "      <th>NA18507</th>\n",
        "      <th>NA18508</th>\n",
        "      <th>NA18510</th>\n",
        "      <th>...</th>\n",
        "      <th>NA19225</th>\n",
        "      <th>NA19238</th>\n",
        "      <th>NA19239</th>\n",
        "      <th>NA19257</th>\n",
        "      <th>logFC</th>\n",
        "      <th>AveExpr</th>\n",
        "      <th>t</th>\n",
        "      <th>P.Value</th>\n",
        "      <th>adj.P.Val</th>\n",
        "      <th>B</th>\n",
        "    </tr>\n",
        "  </thead>\n",
        "  <tbody>\n",
        "    <tr>\n",
        "      <th>TTTY15</th>\n",
        "      <td>31</td>\n",
        "      <td>56</td>\n",
        "      <td>0</td>\n",
        "      <td>52</td>\n",
        "      <td>0</td>\n",
        "      <td>34</td>\n",
        "      <td>1</td>\n",
        "      <td>34</td>\n",
        "      <td>0</td>\n",
        "      <td>32</td>\n",
        "      <td>...</td>\n",
        "      <td>0</td>\n",
        "      <td>0</td>\n",
        "      <td>56</td>\n",
        "      <td>0</td>\n",
        "      <td>-6.239792</td>\n",
        "      <td>-0.268095</td>\n",
        "      <td>-41.267165</td>\n",
        "      <td>2.851872e-54</td>\n",
        "      <td>3.902787e-50</td>\n",
        "      <td>95.006834</td>\n",
        "    </tr>\n",
        "    <tr>\n",
        "      <th>RPS4Y1</th>\n",
        "      <td>289</td>\n",
        "      <td>1250</td>\n",
        "      <td>0</td>\n",
        "      <td>720</td>\n",
        "      <td>0</td>\n",
        "      <td>1006</td>\n",
        "      <td>0</td>\n",
        "      <td>1293</td>\n",
        "      <td>2</td>\n",
        "      <td>618</td>\n",
        "      <td>...</td>\n",
        "      <td>0</td>\n",
        "      <td>1</td>\n",
        "      <td>1034</td>\n",
        "      <td>2</td>\n",
        "      <td>-9.071319</td>\n",
        "      <td>2.404364</td>\n",
        "      <td>-36.590077</td>\n",
        "      <td>1.925952e-50</td>\n",
        "      <td>1.317833e-46</td>\n",
        "      <td>90.920909</td>\n",
        "    </tr>\n",
        "    <tr>\n",
        "      <th>USP9Y</th>\n",
        "      <td>80</td>\n",
        "      <td>225</td>\n",
        "      <td>3</td>\n",
        "      <td>173</td>\n",
        "      <td>2</td>\n",
        "      <td>98</td>\n",
        "      <td>5</td>\n",
        "      <td>131</td>\n",
        "      <td>5</td>\n",
        "      <td>112</td>\n",
        "      <td>...</td>\n",
        "      <td>2</td>\n",
        "      <td>1</td>\n",
        "      <td>285</td>\n",
        "      <td>1</td>\n",
        "      <td>-5.658060</td>\n",
        "      <td>1.957477</td>\n",
        "      <td>-32.754149</td>\n",
        "      <td>5.848289e-47</td>\n",
        "      <td>2.667795e-43</td>\n",
        "      <td>87.663646</td>\n",
        "    </tr>\n",
        "    <tr>\n",
        "      <th>DDX3Y</th>\n",
        "      <td>212</td>\n",
        "      <td>609</td>\n",
        "      <td>2</td>\n",
        "      <td>463</td>\n",
        "      <td>3</td>\n",
        "      <td>546</td>\n",
        "      <td>10</td>\n",
        "      <td>920</td>\n",
        "      <td>4</td>\n",
        "      <td>610</td>\n",
        "      <td>...</td>\n",
        "      <td>10</td>\n",
        "      <td>4</td>\n",
        "      <td>1202</td>\n",
        "      <td>7</td>\n",
        "      <td>-7.657319</td>\n",
        "      <td>2.776433</td>\n",
        "      <td>-32.613131</td>\n",
        "      <td>7.975114e-47</td>\n",
        "      <td>2.728486e-43</td>\n",
        "      <td>87.332252</td>\n",
        "    </tr>\n",
        "    <tr>\n",
        "      <th>KDM5D</th>\n",
        "      <td>349</td>\n",
        "      <td>515</td>\n",
        "      <td>1</td>\n",
        "      <td>542</td>\n",
        "      <td>7</td>\n",
        "      <td>376</td>\n",
        "      <td>2</td>\n",
        "      <td>400</td>\n",
        "      <td>10</td>\n",
        "      <td>378</td>\n",
        "      <td>...</td>\n",
        "      <td>2</td>\n",
        "      <td>4</td>\n",
        "      <td>387</td>\n",
        "      <td>1</td>\n",
        "      <td>-7.137162</td>\n",
        "      <td>2.402318</td>\n",
        "      <td>-32.460295</td>\n",
        "      <td>1.117646e-46</td>\n",
        "      <td>3.058997e-43</td>\n",
        "      <td>86.725441</td>\n",
        "    </tr>\n",
        "  </tbody>\n",
        "</table>\n",
        "<p>5 rows \u00d7 80 columns</p>\n",
        "</div>"
       ],
       "metadata": {},
       "output_type": "pyout",
       "prompt_number": 29,
       "text": [
        "        NA18486  NA18498  NA18499  NA18501  NA18502  NA18504  NA18505  \\\n",
        "TTTY15       31       56        0       52        0       34        1   \n",
        "RPS4Y1      289     1250        0      720        0     1006        0   \n",
        "USP9Y        80      225        3      173        2       98        5   \n",
        "DDX3Y       212      609        2      463        3      546       10   \n",
        "KDM5D       349      515        1      542        7      376        2   \n",
        "\n",
        "        NA18507  NA18508  NA18510    ...      NA19225  NA19238  NA19239  \\\n",
        "TTTY15       34        0       32    ...            0        0       56   \n",
        "RPS4Y1     1293        2      618    ...            0        1     1034   \n",
        "USP9Y       131        5      112    ...            2        1      285   \n",
        "DDX3Y       920        4      610    ...           10        4     1202   \n",
        "KDM5D       400       10      378    ...            2        4      387   \n",
        "\n",
        "        NA19257     logFC   AveExpr          t       P.Value     adj.P.Val  \\\n",
        "TTTY15        0 -6.239792 -0.268095 -41.267165  2.851872e-54  3.902787e-50   \n",
        "RPS4Y1        2 -9.071319  2.404364 -36.590077  1.925952e-50  1.317833e-46   \n",
        "USP9Y         1 -5.658060  1.957477 -32.754149  5.848289e-47  2.667795e-43   \n",
        "DDX3Y         7 -7.657319  2.776433 -32.613131  7.975114e-47  2.728486e-43   \n",
        "KDM5D         1 -7.137162  2.402318 -32.460295  1.117646e-46  3.058997e-43   \n",
        "\n",
        "                B  \n",
        "TTTY15  95.006834  \n",
        "RPS4Y1  90.920909  \n",
        "USP9Y   87.663646  \n",
        "DDX3Y   87.332252  \n",
        "KDM5D   86.725441  \n",
        "\n",
        "[5 rows x 80 columns]"
       ]
      }
     ],
     "prompt_number": 29
    },
    {
     "cell_type": "code",
     "collapsed": false,
     "input": [
      "#print limmaResults"
     ],
     "language": "python",
     "metadata": {},
     "outputs": [],
     "prompt_number": 30
    },
    {
     "cell_type": "heading",
     "level": 4,
     "metadata": {},
     "source": [
      "3.4"
     ]
    },
    {
     "cell_type": "markdown",
     "metadata": {},
     "source": [
      "Plot $-log10(p\\ value)$ on the Y-axis vs $log2(fold change)$ on the X-axis.\n",
      "\n",
      "You should have 'logFC' ( $log2(fold change)$ ) and 'P.Value' as columns in `limmaResults`.\n",
      "\n",
      "This plot is called a 'volcano plot'."
     ]
    },
    {
     "cell_type": "code",
     "collapsed": false,
     "input": [
      "#Your code here\n",
      "\n",
      "#print ((-1)*limmaResults['P.Value'].apply(np.log10)).head()\n",
      "#print limmaResults['logFC'].head()\n",
      "\n",
      "plt.figure()\n",
      "plt.title('Volcano Plot')\n",
      "plt.xlabel('log2(fold change)')\n",
      "plt.ylabel('-log10(p value)')\n",
      "plt.scatter(limmaResults['logFC'],(-1)*limmaResults['P.Value'].apply(np.log10))\n",
      "plt.show()"
     ],
     "language": "python",
     "metadata": {},
     "outputs": [
      {
       "metadata": {},
       "output_type": "display_data",
       "png": "[encoded data removed]",
       "text": [
        "<matplotlib.figure.Figure at 0x2b16a36a5790>"
       ]
      }
     ],
     "prompt_number": 31
    },
    {
     "cell_type": "heading",
     "level": 4,
     "metadata": {},
     "source": [
      "3.5"
     ]
    },
    {
     "cell_type": "markdown",
     "metadata": {},
     "source": [
      "Now look for significantly differentially expressed genes that show a big difference in expression between female and male samples:\n",
      "\n",
      "List all genes with absolute log2 fold change > 2 and Benjamini-Hochberg adjusted p-value < 0.05. Sort by decreasing log2 fold change."
     ]
    },
    {
     "cell_type": "code",
     "collapsed": false,
     "input": [
      "#Your code here\n",
      "gene_picker = (abs(limmaResults['logFC']) > 2) & (limmaResults['P.Value'] < .05)\n",
      "\n",
      "significants = limmaResults[gene_picker]\n",
      "significants_sorted = significants.sort(columns='logFC', inplace=False, ascending=False)\n",
      "print significants_sorted.index.tolist()\n"
     ],
     "language": "python",
     "metadata": {},
     "outputs": [
      {
       "output_type": "stream",
       "stream": "stdout",
       "text": [
        "['XIST', 'UTY', 'RPS4Y2', 'EIF1AY', 'ZFY', 'USP9Y', 'NLGN4Y', 'TTTY15', 'TXLNGY', 'KDM5D', 'DDX3Y', 'RPS4Y1']\n"
       ]
      }
     ],
     "prompt_number": 32
    },
    {
     "cell_type": "heading",
     "level": 4,
     "metadata": {},
     "source": [
      "3.6"
     ]
    },
    {
     "cell_type": "markdown",
     "metadata": {},
     "source": [
      "Examine the list. Search the web to learn more about the listed genes. Think about what they have in common.\n",
      "\n",
      "Can you propose a theory as to why these genes are significantly differentially expressed (p.adjusted < 0.05) with high absolute log-fold change (>2)?"
     ]
    },
    {
     "cell_type": "markdown",
     "metadata": {},
     "source": [
      "***Answer:*** These genes are all located on the sex chromosomes, and most are on the y chromosome. So, we would expect that they are differentially expressed, since the Y-linked genes will only be expressed in males. The X gene is XIST, which is involved in X-inactivation, and we would expect that to occur in females!"
     ]
    },
    {
     "cell_type": "heading",
     "level": 4,
     "metadata": {},
     "source": [
      "3.7"
     ]
    },
    {
     "cell_type": "markdown",
     "metadata": {},
     "source": [
      "Now look for significantly differentially expressed genes that don't show as large a difference in expression between male and female samples:\n",
      "\n",
      "List all genes with absolute log2 fold change < 2 and Benjamini-Hochberg adjusted p-value < 0.05. Sort by decreasing log2 fold change."
     ]
    },
    {
     "cell_type": "code",
     "collapsed": false,
     "input": [
      "#Your code here\n",
      "gene_picker = (abs(limmaResults['logFC']) < 2) & (limmaResults['adj.P.Val'] < .05)\n",
      "\n",
      "significants = limmaResults[gene_picker]\n",
      "significants_sorted = significants.sort(columns='logFC', inplace=False, ascending=False)\n",
      "\n",
      "# These are in sorted order.\n",
      "print significants_sorted.index.tolist()\n"
     ],
     "language": "python",
     "metadata": {},
     "outputs": [
      {
       "output_type": "stream",
       "stream": "stdout",
       "text": [
        "['MIR4260', 'GSTA4', 'CAV1', 'PNPLA4', 'RPS4X', 'HDHD1', 'MSL3', 'LOC389906', 'JPX', 'KDM6A', 'EIF1AX', 'KDM5C', 'ZRSR2', 'ZFX', 'PRKX', 'CD209', 'DDX3X', 'CCDC126', 'EIF2S3', 'CA5BP1', 'P2RY10', 'TXLNG', 'CXorf38', 'MLLT4', 'PRKY']\n"
       ]
      }
     ],
     "prompt_number": 36
    },
    {
     "cell_type": "heading",
     "level": 4,
     "metadata": {},
     "source": [
      "3.8"
     ]
    },
    {
     "cell_type": "markdown",
     "metadata": {},
     "source": [
      "Examine the list. Search the web to learn more about the listed genes. Think about what they have in common.\n",
      "\n",
      "Can you propose a theory as to why the majority of these genes are significantly differentially expressed (p.adjusted < 0.05) with low absolute log-fold change (<2)?"
     ]
    },
    {
     "cell_type": "markdown",
     "metadata": {},
     "source": [
      "***Answer:*** These tend to be X linked genes! This makes sense, since we would expect X linked genes to be expressed more in females, but perhaps not a ton more since males also have X genes! Furthermore, these are genes where some of them are escaping the X inactivation, and thus the fold change is less than 2."
     ]
    },
    {
     "cell_type": "heading",
     "level": 3,
     "metadata": {},
     "source": [
      "Feedback"
     ]
    },
    {
     "cell_type": "markdown",
     "metadata": {},
     "source": [
      "How many hours did this problem set take you?"
     ]
    },
    {
     "cell_type": "markdown",
     "metadata": {},
     "source": [
      "8 hours."
     ]
    },
    {
     "cell_type": "markdown",
     "metadata": {},
     "source": [
      "Any comments you would like to give us as feedback on this problem set?"
     ]
    },
    {
     "cell_type": "markdown",
     "metadata": {},
     "source": [
      "Really liked it overall, especially how we could interpret the findings.\n",
      "\n",
      "One thing that tripped me up is that I was using counts instead of log_cpm in making lin_model_2, and even though it does say to that we are predicting the log_cpm values, it would have been good to reiterate that we are using the log_cpm matrix, not the counts one!"
     ]
    },
    {
     "cell_type": "markdown",
     "metadata": {},
     "source": [
      "***Copyright Eran Hodis and Adrian Veres. Do not distribute.***"
     ]
    },
    {
     "cell_type": "code",
     "collapsed": false,
     "input": [],
     "language": "python",
     "metadata": {},
     "outputs": []
    }
   ],
   "metadata": {}
  }
 ]
}