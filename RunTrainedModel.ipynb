{
 "cells": [
  {
   "cell_type": "code",
   "execution_count": 1,
   "metadata": {
    "collapsed": false
   },
   "outputs": [
    {
     "name": "stderr",
     "output_type": "stream",
     "text": [
      "Vendor:  Continuum Analytics, Inc.\n",
      "Package: mkl\n",
      "Message: trial mode EXPIRED 4 days ago\n",
      "\n",
      "    Your usage of mkl is now out of compliance with the license agreement.\n",
      "    A license for mkl can be purchased at: http://continuum.io\n",
      "    \n"
     ]
    }
   ],
   "source": [
    "import pickle\n",
    "import CTMParallel\n",
    "import numpy as np\n",
    "from sklearn.svm import SVC\n",
    "from sklearn.metrics import accuracy_score\n",
    "from sklearn.linear_model import LogisticRegression\n",
    "\n"
   ]
  },
  {
   "cell_type": "code",
   "execution_count": 2,
   "metadata": {
    "collapsed": true
   },
   "outputs": [],
   "source": [
    "# Returns the min, max, and average accuracy across the folds\n",
    "def KFoldCrossValidation(X, Y, num_folds, print_outputs=True):\n",
    "    accuracies = []\n",
    "    for train, test in KFold(X.shape[0], num_folds, shuffle=True):\n",
    "        X_train, X_test, Y_train, Y_test = X[train], X[test], Y[train], Y[test]\n",
    "        logistic_classifier = LogisticRegression()\n",
    "        logistic_classifier.fit(X_train, Y_train)\n",
    "        accuracies.append(accuracy_score(logistic_classifier.predict(X_test), Y_test))\n",
    "    if print_outputs:\n",
    "        print \"Max Accuracy: \", max(accuracies), \"\\nMin Accuracy: \", min(accuracies), \"\\nAverage Accuracy: \", sum(accuracies)/len(accuracies)\n",
    "    return max(accuracies), min(accuracies), sum(accuracies)/len(accuracies)"
   ]
  },
  {
   "cell_type": "code",
   "execution_count": 2,
   "metadata": {
    "collapsed": true
   },
   "outputs": [],
   "source": [
    "model = pickle.load(open(\"pickled_objects/model2all.p\", \"rb\"))"
   ]
  },
  {
   "cell_type": "code",
   "execution_count": 47,
   "metadata": {
    "collapsed": false
   },
   "outputs": [],
   "source": [
    "classes = pickle.load(open(\"pickled_objects/ytrain2.p\", \"rb\")).astype(int)\n",
    "vocab = pickle.load(open(\"pickled_objects/vocab2.p\", \"rb\"))"
   ]
  },
  {
   "cell_type": "code",
   "execution_count": 21,
   "metadata": {
    "collapsed": false
   },
   "outputs": [
    {
     "data": {
      "text/plain": [
       "array([-0.03702926, -0.03913617, -0.00278356,  0.01772189, -0.01369278,\n",
       "       -0.00544263,  0.02782353,  0.00454954, -0.00705286,  0.01849104])"
      ]
     },
     "execution_count": 21,
     "metadata": {},
     "output_type": "execute_result"
    }
   ],
   "source": [
    "np.sum(model.saved_lambdas, axis=0)/500"
   ]
  },
  {
   "cell_type": "code",
   "execution_count": 4,
   "metadata": {
    "collapsed": false
   },
   "outputs": [],
   "source": [
    "train = model.saved_lambdas[:400]\n",
    "test = model.saved_lambdas[400:]\n",
    "ytrain = classes[:400]\n",
    "ytest = classes[400:]"
   ]
  },
  {
   "cell_type": "code",
   "execution_count": 28,
   "metadata": {
    "collapsed": false
   },
   "outputs": [
    {
     "name": "stdout",
     "output_type": "stream",
     "text": [
      "[3 4 3 3 3 3 3 3 4 3 3 4 3 3 3 3 4 3 4 4 3 4 3 4 3 3 3 4 3 3 4 3 4 3 4 3 3\n",
      " 4 4 3 3 3 3 4 4 3 3 4 3 3 3 4 3 4 3 3 4 3 4 4 3 3 3 3 3 3 3 3 3 4 3 4 3 4\n",
      " 3 3 3 4 3 3 3 4 3 3 3 3 4 4 3 3 3 4 3 3 3 4 4 3 4 4]\n"
     ]
    },
    {
     "data": {
      "text/plain": [
       "0.55000000000000004"
      ]
     },
     "execution_count": 28,
     "metadata": {},
     "output_type": "execute_result"
    }
   ],
   "source": [
    "clf_new = SVC()\n",
    "clf_new.fit(train, ytrain)\n",
    "#accuracy = accuracy_score(clf_new.predict(test), ytest)\n",
    "print clf_new.predict(test)\n",
    "accuracy_score(clf_new.predict(test), ytest)"
   ]
  },
  {
   "cell_type": "code",
   "execution_count": 46,
   "metadata": {
    "collapsed": false
   },
   "outputs": [
    {
     "data": {
      "text/plain": [
       "array([[  1.83980724e-03,   1.54193511e-03,   2.72812643e-03, ...,\n",
       "          5.87663877e-06,   6.98193337e-07,   1.03825588e-06],\n",
       "       [  1.55751903e-03,   3.45780897e-04,   1.76039664e-04, ...,\n",
       "          2.80629787e-06,   1.37861005e-06,   5.47598621e-07],\n",
       "       [  1.23266718e-03,   2.34966054e-03,   1.07062053e-03, ...,\n",
       "          2.08968662e-07,   4.49007654e-07,   1.80547039e-06],\n",
       "       ..., \n",
       "       [  1.89113328e-03,   2.19160621e-03,   3.38549396e-03, ...,\n",
       "          3.85065800e-06,   2.63806369e-06,   1.90606428e-06],\n",
       "       [  2.61815433e-03,   1.02113262e-03,   1.88087681e-03, ...,\n",
       "          4.20443035e-06,   3.55334237e-06,   6.26208429e-06],\n",
       "       [  2.49772898e-03,   3.42468308e-03,   2.18003876e-03, ...,\n",
       "          4.26086897e-06,   5.71613178e-06,   1.11735142e-06]])"
      ]
     },
     "execution_count": 46,
     "metadata": {},
     "output_type": "execute_result"
    }
   ],
   "source": [
    "model.beta"
   ]
  },
  {
   "cell_type": "code",
   "execution_count": 58,
   "metadata": {
    "collapsed": false
   },
   "outputs": [
    {
     "name": "stdout",
     "output_type": "stream",
     "text": [
      "Topic 1: Snhg11 Sub1 Ppp3ca Ddx5 Cpe Slc25a4 Map1b Syt1 Syt11 Serinc1 Rtn1 Itm2b Hspa8 Ndufa4 Snca Ttc3 Kif1b Gstp1 Ywhag\n",
      "Topic 2: Scg5 Nrgn Aldoa Tubb2a Chn1 Stmn3 Itm2b Prnp Rtn1 Ppp3ca Slc25a4 Calm3 Cpe Fkbp1a Snhg11 Tcf4 Mdh1 Cox7c Aplp1\n",
      "Topic 3: Snhg11 Hspa8 Syt11 Scg5 Rtn1 Lars2 Rps29 Mdh1 Slc25a4 Ttc3 Stmn3 Cst3 Dynll1 Cox7c Prnp Atp6v1a Hpca Ndufa4 Mog\n",
      "Topic 4: Cst3 Gstp1 Ndufa4 Serinc1 Syt1 Mdh1 Aplp1 Rtn1 Ddx5 Ttc3 Cpe Atp6v1a Cox8a Itm2b Stmn3 Rps29 Hpca Dynll1 Sst\n",
      "Topic 5: Ttr Aldoa Prkcb Syt1 Rps29 Map1b Atp6v0c-ps2 Actg1 Npy Atp5a1 Snca Ckb Cpe Sparcl1 Gpm6b Sub1 Itm2b Atp5g3 Chn1\n",
      "Topic 6: Ndufa4 Snhg11 Npy Atp6v1a Map1b Actg1 Ywhaz Slc25a4 Ttc3 Cpe Ptgds Tpi1 Syt1 Sub1 Nrgn Scd2 Snurf Cycs Gm5506_loc1\n",
      "Topic 7: Ptgds Rps29 Apod Mbp Cst3 Mdh1 Enpp2 Cd81 Stmn3 Car2 Lars2 Slc25a4 Fkbp1a Rtn1 Tcf4 Syt11 Aldoa Actg1 Ptma\n",
      "Topic 8: Mdh1 Syt1 Snca 2900097C17Rik Lars2 Syt11 Gstp1 Atp6v0c-ps2 Dynll1 Rps29 Ndufa4 Apod Scd2 Chn1 Serinc1 Scg5 Cst3 Calm3 Atp5b\n",
      "Topic 9: Prkcb Ppp3ca Aldoa Gstp1 Rtn1 Ptgds 2900097C17Rik Actg1 Slc25a4 Cox7c Ttc3 Scg5 Atp6v1a Ttr Ywhaz Eif4a2 Stmn3 Cox8a Ndufa4\n",
      "Topic 10: Cst3 Serinc1 Hspa8 2900097C17Rik Itm2b Syt11 Tubb2a Apod Prnp Aldoa Gpm6b Actg1 Ppp3ca Lars2 Mbp Syt1 Calm3 Cox7c Ywhaz\n"
     ]
    }
   ],
   "source": [
    "n_top_words = 20\n",
    "for i, topic_dist in enumerate(model.beta):\n",
    "    topic_words = np.array(vocab)[np.argsort(topic_dist)][:-n_top_words:-1]\n",
    "    print('Topic {}: {}'.format(i+1, ' '.join(topic_words)))"
   ]
  },
  {
   "cell_type": "code",
   "execution_count": 57,
   "metadata": {
    "collapsed": false,
    "scrolled": true
   },
   "outputs": [
    {
     "data": {
      "text/plain": [
       "array([[  6.70421300e-01,   1.72161600e-02,   2.49712578e-03,\n",
       "         -7.84727266e-03,   4.47817979e-03,   9.99664942e-04,\n",
       "         -1.50568785e-02,  -2.51553479e-03,   8.82178073e-04,\n",
       "         -8.30578223e-03],\n",
       "       [  1.72161600e-02,   6.73010341e-01,   2.75443500e-03,\n",
       "         -9.43203810e-03,   4.36411319e-03,   2.21710892e-03,\n",
       "         -1.55654098e-02,  -1.87742585e-03,   1.55915486e-03,\n",
       "         -9.42240774e-03],\n",
       "       [  2.49712578e-03,   2.75443500e-03,   6.54195927e-01,\n",
       "         -8.01985300e-04,   9.38145201e-04,   2.68442707e-05,\n",
       "         -2.75954319e-03,  -2.63659721e-04,  -6.31642978e-04,\n",
       "         -1.00907940e-03],\n",
       "       [ -7.84727266e-03,  -9.43203810e-03,  -8.01985300e-04,\n",
       "          6.58304398e-01,  -1.59756614e-03,  -1.67591357e-03,\n",
       "          6.76596246e-03,   9.23432330e-04,  -1.52662905e-03,\n",
       "          5.00254034e-03],\n",
       "       [  4.47817979e-03,   4.36411319e-03,   9.38145201e-04,\n",
       "         -1.59756614e-03,   6.55571795e-01,   3.81310093e-04,\n",
       "         -4.79687311e-03,  -8.51314625e-04,   7.60684951e-05,\n",
       "         -2.17853186e-03],\n",
       "       [  9.99664942e-04,   2.21710892e-03,   2.68442707e-05,\n",
       "         -1.67591357e-03,   3.81310093e-04,   6.54251697e-01,\n",
       "         -1.36141895e-03,  -7.43936851e-05,   4.64025297e-04,\n",
       "         -1.41246662e-03],\n",
       "       [ -1.50568785e-02,  -1.55654098e-02,  -2.75954319e-03,\n",
       "          6.76596246e-03,  -4.79687311e-03,  -1.36141895e-03,\n",
       "          6.66883738e-01,   1.97691236e-03,  -7.57421916e-04,\n",
       "          7.56965827e-03],\n",
       "       [ -2.51553479e-03,  -1.87742585e-03,  -2.63659721e-04,\n",
       "          9.23432330e-04,  -8.51314625e-04,  -7.43936851e-05,\n",
       "          1.97691236e-03,   6.53343450e-01,  -1.32496885e-04,\n",
       "          1.03563715e-03],\n",
       "       [  8.82178073e-04,   1.55915486e-03,  -6.31642978e-04,\n",
       "         -1.52662905e-03,   7.60684951e-05,   4.64025297e-04,\n",
       "         -7.57421916e-04,  -1.32496885e-04,   6.54004214e-01,\n",
       "         -1.19577239e-03],\n",
       "       [ -8.30578223e-03,  -9.42240774e-03,  -1.00907940e-03,\n",
       "          5.00254034e-03,  -2.17853186e-03,  -1.41246662e-03,\n",
       "          7.56965827e-03,   1.03563715e-03,  -1.19577239e-03,\n",
       "          6.58148394e-01]])"
      ]
     },
     "execution_count": 57,
     "metadata": {},
     "output_type": "execute_result"
    }
   ],
   "source": [
    "model.sigma"
   ]
  },
  {
   "cell_type": "markdown",
   "metadata": {},
   "source": [
    "# Rat Dataset, 10 topics"
   ]
  },
  {
   "cell_type": "code",
   "execution_count": 3,
   "metadata": {
    "collapsed": false
   },
   "outputs": [],
   "source": [
    "import pickle\n",
    "import numpy as np\n",
    "from sklearn.svm import SVC\n",
    "from sklearn.metrics import accuracy_score\n",
    "from sklearn.linear_model import LogisticRegression\n",
    "from sklearn.cross_validation import train_test_split\n",
    "from sklearn.decomposition import PCA\n",
    "from sklearn.cross_validation import KFold\n"
   ]
  },
  {
   "cell_type": "markdown",
   "metadata": {},
   "source": [
    "### Load Model"
   ]
  },
  {
   "cell_type": "code",
   "execution_count": 72,
   "metadata": {
    "collapsed": false
   },
   "outputs": [
    {
     "data": {
      "text/plain": [
       "(1.0, 0.96875, 0.97812500000000002)"
      ]
     },
     "execution_count": 72,
     "metadata": {},
     "output_type": "execute_result"
    }
   ],
   "source": [
    "# Load the trained model\n",
    "model_rat_10topics = pickle.load(open(\"pickled_objects/modelratserial.p\", \"rb\"))\n",
    "classes_rat_10topics = pickle.load(open(\"pickled_objects/classesratserial.p\", \"rb\"))\n",
    "vocab_rat_10topics = pickle.load(open(\"pickled_objects/vocabratserial.p\", \"rb\"))\n",
    "counts_rat_10topics = pickle.load(open(\"pickled_objects/countsratserial.p\", \"rb\"))\n"
   ]
  },
  {
   "cell_type": "markdown",
   "metadata": {},
   "source": [
    "### Determine classification accuracy on CTM features"
   ]
  },
  {
   "cell_type": "code",
   "execution_count": 87,
   "metadata": {
    "collapsed": false
   },
   "outputs": [
    {
     "name": "stdout",
     "output_type": "stream",
     "text": [
      "Max Accuracy:  0.984375 \n",
      "Min Accuracy:  0.953125 \n",
      "Average Accuracy:  0.975\n"
     ]
    }
   ],
   "source": [
    "max_acc, min_acc, avg_acc = KFoldCrossValidation(model_rat_10topics.saved_lambdas, classes, 5)"
   ]
  },
  {
   "cell_type": "markdown",
   "metadata": {},
   "source": [
    "### Get the top genes in each topic"
   ]
  },
  {
   "cell_type": "code",
   "execution_count": 118,
   "metadata": {
    "collapsed": false
   },
   "outputs": [
    {
     "name": "stdout",
     "output_type": "stream",
     "text": [
      "Topic 1: stonee gokla stawflu Spnb2 Col3a1 Mb Eef1a1.1 Atp5a1 Dst Hbb Myh9 Sparc Hba-a2 Ccdc107 Sftpc B2m Ryr2 Gsn Actb\n",
      "Topic 2: Alb Trf Cps1 Apob Ahsg Kng1andKng2 Apoe Rspo3 Rbp4 Rmrp Ttr Gc Cfh Serpinc1 Cyp2e1 Mug1 Itih3 Scd1 Eef1a1.1\n",
      "Topic 3: gokla stonee Eef1a1.1 Eef1a1 Aldob Lyz2 gawkla Rmrp Sepp1 Sftpc Ctsl Eef2 C4aandC4-2 Atp1a1 Pck1 Ubc Ctsb Apoe Aldh6a1\n",
      "Topic 4: Hbb stonee Hba-a2 Rmrp Ccdc107 LOC360504 Eef1a1.1 Eef1a1 MGC72973 Actb gokla Eef2 Amy2 Psap stawflu Ptprc B2m LOC678701 Rpl4\n",
      "Topic 5: gokla stawflu Rmrp stonee Hsd3b1 Ccdc107 Eef1a1.1 Scd1 Eef1a1 Hao2 Plp1 Cyp11a1 Cyp21a1 Umod Spna2 Cyp11b1 Atp5b Dst Syne1\n",
      "Topic 6: Myh6 Atp2a2 Myh7 Atp5b Ryr2 stonee Hbb Actc1 Tnnt2 stawflu gokla Rmrp Myl2 Col3a1 Tnni3 Mybpc3 Myl3 Lpl Atp5a1\n",
      "Topic 7: Myh4 Acta1 Ckm Tpm1 Pkinase.4 snoflu Ttn Tnnt3 Myl1 Myosin_tail_1.1 Actn3 Aldoa Mb Tnni2 Pygm Eno3 fn3.21 I-set.16 I-set.17\n",
      "Topic 8: gokla Hsd3b1 Star stonee Cyp11a1 Col3a1 Atp5b gawkla Aco2 Col1a2 Syne1 Sparc Atp1a2andAtp1a4 Abcc5 nyto Spnb2 Rmrp Dync1h1 Nedd4\n",
      "Topic 9: Alb Trf Apob Ahsg Hp Gc Serpina1 Pzp Apoe Itih4 stonee Fgb Cp Serpina3k Hpx A2m Mug1 Fgg Apoh\n",
      "Topic 10: Rmrp stonee stawflu Eef1a1 Lyz2 Calm1 Spnb2 Ddx5 gokla Ccdc107 Mbp Spna2 Sftpc Plp1 Cltc Col3a1 Flna Odf2 Psap\n"
     ]
    }
   ],
   "source": [
    "# Get the top genes in each topic\n",
    "n_top_words = 20\n",
    "for i, topic_dist in enumerate(model_rat_10topics.beta):\n",
    "    topic_words = np.array(vocab_rat_10topics)[np.argsort(topic_dist)][:-n_top_words:-1]\n",
    "    print('Topic {}: {}'.format(i+1, ' '.join(topic_words)))"
   ]
  },
  {
   "cell_type": "code",
   "execution_count": 77,
   "metadata": {
    "collapsed": false
   },
   "outputs": [
    {
     "data": {
      "text/plain": [
       "array([[ 1.95097003, -1.0838962 ,  0.74885781,  1.11017983,  1.07833787,\n",
       "         1.47515872,  0.69552146,  1.06558292, -1.49773156,  1.06654061],\n",
       "       [-1.0838962 ,  3.81782433,  0.51714093, -0.79596376, -0.18995724,\n",
       "        -1.57807808, -2.23056967, -0.96812839,  3.72590127, -0.81540821],\n",
       "       [ 0.74885781,  0.51714093,  2.27218235,  1.03908524,  1.47909758,\n",
       "         0.24971437, -1.57109743,  0.44130517,  0.51706189,  0.96670897],\n",
       "       [ 1.11017983, -0.79596376,  1.03908524,  3.34037111,  1.1510328 ,\n",
       "         0.74777914, -1.20853617,  0.35554637, -1.18931525,  1.4001093 ],\n",
       "       [ 1.07833787, -0.18995724,  1.47909758,  1.1510328 ,  3.22892075,\n",
       "         0.52085326, -1.33017356,  1.43138838, -0.26380363,  1.92259898],\n",
       "       [ 1.47515872, -1.57807808,  0.24971437,  0.74777914,  0.52085326,\n",
       "         2.62771544,  1.77817785,  1.08844762, -2.07627106,  0.74226708],\n",
       "       [ 0.69552146, -2.23056967, -1.57109743, -1.20853617, -1.33017356,\n",
       "         1.77817785,  6.03194407,  0.97027417, -2.85596618, -0.61441469],\n",
       "       [ 1.06558292, -0.96812839,  0.44130517,  0.35554637,  1.43138838,\n",
       "         1.08844762,  0.97027417,  2.24932305, -1.23740046,  1.16332465],\n",
       "       [-1.49773156,  3.72590127,  0.51706189, -1.18931525, -0.26380363,\n",
       "        -2.07627106, -2.85596618, -1.23740046,  5.36357255, -0.89755915],\n",
       "       [ 1.06654061, -0.81540821,  0.96670897,  1.4001093 ,  1.92259898,\n",
       "         0.74226708, -0.61441469,  1.16332465, -0.89755915,  2.76879336]])"
      ]
     },
     "execution_count": 77,
     "metadata": {},
     "output_type": "execute_result"
    }
   ],
   "source": [
    "# Print the covariance matrix between topics\n",
    "model_rat_10topics.sigma"
   ]
  },
  {
   "cell_type": "code",
   "execution_count": 31,
   "metadata": {
    "collapsed": false
   },
   "outputs": [],
   "source": [
    "# Directly use the original counts to train a LogisticRegression classifier\n",
    "# Split into test and training sets for the original counts\n",
    "#train_x, test_x, train_y, test_y = train_test_split(counts, classes, test_size=.2)"
   ]
  },
  {
   "cell_type": "markdown",
   "metadata": {},
   "source": [
    "### Determine the classification accuracy on the original gene counts"
   ]
  },
  {
   "cell_type": "code",
   "execution_count": 90,
   "metadata": {
    "collapsed": false
   },
   "outputs": [],
   "source": [
    "#rat_original_counts_logistic = LogisticRegression()\n",
    "#rat_original_counts_logistic.fit(train_x, train_y)\n",
    "#accuracy_score(rat_original_counts_logistic.predict(test_x), test_y)\n",
    "# Directly use the original counts to determine the cross-validation accuracy\n"
   ]
  },
  {
   "cell_type": "code",
   "execution_count": 93,
   "metadata": {
    "collapsed": false
   },
   "outputs": [
    {
     "name": "stdout",
     "output_type": "stream",
     "text": [
      "Max Accuracy:  1.0 \n",
      "Min Accuracy:  0.984375 \n",
      "Average Accuracy:  0.996875\n"
     ]
    }
   ],
   "source": [
    "min_acc, max_acc, avg_acc = KFoldCrossValidation(counts, classes, 5)"
   ]
  },
  {
   "cell_type": "markdown",
   "metadata": {},
   "source": [
    "### Determine the classification accuracy on the LDA-based dimensionality reduction"
   ]
  },
  {
   "cell_type": "markdown",
   "metadata": {
    "collapsed": false
   },
   "source": [
    "To do this using LDA, see the other iPython notebook, LDA.ipynb. From there, I found that the accuracy, using the same method, was .875. In other words, this method beats LDA in terms of dimensionality reduction."
   ]
  },
  {
   "cell_type": "markdown",
   "metadata": {},
   "source": [
    "### Determine the classification accuracy by applying PCA to the original counts"
   ]
  },
  {
   "cell_type": "code",
   "execution_count": 92,
   "metadata": {
    "collapsed": false
   },
   "outputs": [
    {
     "name": "stdout",
     "output_type": "stream",
     "text": [
      "Max Accuracy:  0.96875 \n",
      "Min Accuracy:  0.875 \n",
      "Average Accuracy:  0.915625\n"
     ]
    }
   ],
   "source": [
    "pca_rat_ctm = PCA(n_components=10)\n",
    "pca_counts = pca_rat_ctm.fit_transform(counts)\n",
    "min_acc, max_acc, avg_acc = KFoldCrossValidation(pca_counts, classes, 5)"
   ]
  },
  {
   "cell_type": "code",
   "execution_count": 54,
   "metadata": {
    "collapsed": false
   },
   "outputs": [],
   "source": [
    "#train_x, test_x, train_y, test_y = train_test_split(pca_counts, classes, test_size=.2)"
   ]
  },
  {
   "cell_type": "code",
   "execution_count": 55,
   "metadata": {
    "collapsed": false
   },
   "outputs": [
    {
     "data": {
      "text/plain": [
       "0.953125"
      ]
     },
     "execution_count": 55,
     "metadata": {},
     "output_type": "execute_result"
    }
   ],
   "source": [
    "#rat_pca_counts_logistic = LogisticRegression()\n",
    "#rat_pca_counts_logistic.fit(train_x, train_y)\n",
    "#accuracy_score(rat_pca_counts_logistic.predict(test_x), test_y)"
   ]
  },
  {
   "cell_type": "code",
   "execution_count": 56,
   "metadata": {
    "collapsed": false
   },
   "outputs": [
    {
     "data": {
      "text/plain": [
       "(0.9375, 0.890625, 0.90937500000000004)"
      ]
     },
     "execution_count": 56,
     "metadata": {},
     "output_type": "execute_result"
    }
   ],
   "source": []
  },
  {
   "cell_type": "markdown",
   "metadata": {
    "collapsed": false
   },
   "source": [
    "# Neuron Dataset, 10 topics"
   ]
  },
  {
   "cell_type": "code",
   "execution_count": 102,
   "metadata": {
    "collapsed": false
   },
   "outputs": [],
   "source": [
    "model_neuron_10topics = pickle.load(open(\"pickled_objects/model4all.p\", \"rb\"))\n",
    "classes_neuron_10topics = pickle.load(open(\"pickled_objects/ytrain4.p\", \"rb\"))\n",
    "vocab_neuron_10topics = pickle.load(open(\"pickled_objects/vocab4.p\", \"rb\"))\n",
    "counts_neuron_10topics = pickle.load(open(\"pickled_objects/xtrain4.p\", \"rb\"))\n",
    "\n"
   ]
  },
  {
   "cell_type": "markdown",
   "metadata": {},
   "source": [
    "### Determine classification accuracy using CTM Features"
   ]
  },
  {
   "cell_type": "code",
   "execution_count": 103,
   "metadata": {
    "collapsed": false
   },
   "outputs": [
    {
     "name": "stdout",
     "output_type": "stream",
     "text": [
      "Accuracy of Logistic Regression using CTM Features\n",
      "Max Accuracy:  0.69 \n",
      "Min Accuracy:  0.51 \n",
      "Average Accuracy:  0.586\n"
     ]
    }
   ],
   "source": [
    "print \"Accuracy of Logistic Regression using CTM Features\"\n",
    "min_acc, max_acc, avg_acc = KFoldCrossValidation(model_neuron_10topics.saved_lambdas, classes_neuron_10topics, 5)"
   ]
  },
  {
   "cell_type": "code",
   "execution_count": 104,
   "metadata": {
    "collapsed": false
   },
   "outputs": [
    {
     "name": "stdout",
     "output_type": "stream",
     "text": [
      "Accuracy of Logistic Regression using PCA Features with 10 principal components\n",
      "Max Accuracy:  0.94 \n",
      "Min Accuracy:  0.86 \n",
      "Average Accuracy:  0.898\n"
     ]
    }
   ],
   "source": [
    "print \"Accuracy of Logistic Regression using PCA Features with 10 principal components\"\n",
    "pca_neuron_10topics = PCA(n_components=10)\n",
    "pca_features_neuron_10topics = pca_neuron_10topics.fit_transform(counts_neuron_10topics)\n",
    "min_acc, max_acc, avg_acc = KFoldCrossValidation(pca_features_neuron_10topics, classes_neuron_10topics, 5)"
   ]
  },
  {
   "cell_type": "code",
   "execution_count": 106,
   "metadata": {
    "collapsed": false
   },
   "outputs": [
    {
     "name": "stdout",
     "output_type": "stream",
     "text": [
      "Accuracy of Logistic Regression using original counts\n",
      "Max Accuracy:  0.96 \n",
      "Min Accuracy:  0.92 \n",
      "Average Accuracy:  0.936\n"
     ]
    }
   ],
   "source": [
    "print \"Accuracy of Logistic Regression using original counts\"\n",
    "min_acc, max_acc, avg_acc = KFoldCrossValidation(counts_neuron_10topics, classes_neuron_10topics, 5)"
   ]
  },
  {
   "cell_type": "code",
   "execution_count": 65,
   "metadata": {
    "collapsed": false
   },
   "outputs": [],
   "source": [
    "#train_x_neuron, test_x_neuron, train_y_neuron, test_y_neuron = train_test_split(model_neuron.saved_lambdas, classes_neuron, test_size=.2)"
   ]
  },
  {
   "cell_type": "code",
   "execution_count": 66,
   "metadata": {
    "collapsed": false
   },
   "outputs": [],
   "source": [
    "# Train LogisticRegression classifier and make predictions\n",
    "# Accuracy Score is output\n",
    "#neuron_ctm_logistic = LogisticRegression()\n",
    "#neuron_ctm_logistic.fit(train_x_neuron, train_y_neuron)\n",
    "#accuracy_score(neuron_ctm_logistic.predict(test_x_neuron), test_y_neuron)"
   ]
  },
  {
   "cell_type": "markdown",
   "metadata": {},
   "source": [
    "### Get top genes in each topic"
   ]
  },
  {
   "cell_type": "code",
   "execution_count": 117,
   "metadata": {
    "collapsed": false
   },
   "outputs": [
    {
     "name": "stdout",
     "output_type": "stream",
     "text": [
      "Topic 1: Slc25a4 Npy Dynll1 Snca Itm2b Rps29 Gstp1 Prnp Sub1 Syt1 Prkcb Tubb2a Hspa8 Hpca Syt11 Actg1 Atp5j2 Ywhaq Cox8a Camk2b Rplp1 Eef1a1 Gnas Stmn2\n",
      "\n",
      "Topic 2: Ptgds Cst3 Rps29 Actg1 Lars2 Scd2 Mog Dynll1 Syt11 Car2 Usmg5 Apod Cd81 Nrgn Enpp2 Serinc1 Itm2b Arl6ip1 Qk Atp5e Ftl1 Aldoa Tubb2a Cnp\n",
      "\n",
      "Topic 3: Rtn1 Snhg11 Ppp3ca Cpe Prkcb Serinc1 Scg5 Tubb2a Stmn3 Chn1 Tpi1 Olfm1 Nrgn Map1b Pja2 Cycs Rps29 Cox8a Eno2 Ndrg4 Calm3 Scn2a1 Atp6v1e1 Hspa8\n",
      "\n",
      "Topic 4: Gstp1 Mbp Apod Ptma Gpm6b Mog Scd2 Cd81 Ermn Cnp Dynll1 Cst3 Aplp1 Eef1a1 Enpp2 Itm2b Ptn Rtn3 Rpl32 H3f3b Syt11 Taldo1 Atp6v1a Atp5b\n",
      "\n",
      "Topic 5: Cpe Actg1 Slc25a4 Syt1 Mdh1 Ndufa4 Serinc1 Scg5 Ckb Sparcl1 Sub1 Prnp Tcf4 Atp6v0c-ps2 Rplp1 Atp5g3 Aldoa Slc1a2 Chn1 Usmg5 2900097C17Rik Cox7a2 Atp5j2 Ldhb\n",
      "\n",
      "Topic 6: Snhg11 Mdh1 Sub1 Scg5 Atp6v0c-ps2 Ttc3 Nrgn Actg1 Aldoa Tcf4 Serinc1 Ppp3ca 2900097C17Rik Eif4a2 Basp1 Ywhaz Tpi1 Olfm1 Tubb2a Atp5b Cox8a Atp5g3 Prnp Snca\n",
      "\n",
      "Topic 7: Ttr Enpp2 Cst3 Rtn1 Rps29 Snhg11 Syt11 Mdh1 Sub1 Cox7c Cox8a Apod Usmg5 Ugt8a Cpe Atp6v0c-ps2 Mog Ptgds Eif4a2 Lars2 Sep-07 Ckb Cd81 Mbp\n",
      "\n",
      "Topic 8: Cst3 Lars2 Ppp3ca Cpe Hspa8 Aldoa Tcf4 Chn1 Itm2b Map1b Ckb Cox7c Calm3 Atp6v1a Basp1 Eno2 Gdi1 Cox6b1 Dbi Fau Sparcl1 Mdh1 Snhg11 Sep-07\n",
      "\n",
      "Topic 9: Slc25a4 Stmn3 Ppp3ca Prkcb Chn1 Actg1 Pja2 Aldoa Syt1 Ndufa4 Gstp1 Cst3 Hspa8 Itm2b Cox6b1 Ywhaz Hpca Map1b Ttc3 Cpe Rps29 Olfm1 Cycs Cox6c\n",
      "\n",
      "Topic 10: Rtn1 Ttc3 Serinc1 Snca Aldoa Stmn3 Syt1 Ndufa4 Prkcb 2900097C17Rik Sparcl1 Stmn2 Eif4a2 Ywhaz Atp6v1a Ppp3ca Itm2b Cox8a Cpe Camk2n1 Sub1 Apoe Map1b Cox7c\n",
      "\n"
     ]
    }
   ],
   "source": [
    "# Get the top genes in each topic\n",
    "n_top_words = 25\n",
    "for i, topic_dist in enumerate(model_neuron_10topics.beta):\n",
    "    topic_words = np.array(vocab_neuron_10topics)[np.argsort(topic_dist)][:-n_top_words:-1]\n",
    "    print('Topic {}: {}'.format(i+1, ' '.join(topic_words)))\n",
    "    print \"\""
   ]
  },
  {
   "cell_type": "code",
   "execution_count": 115,
   "metadata": {
    "collapsed": false,
    "scrolled": true
   },
   "outputs": [
    {
     "data": {
      "text/plain": [
       "array([[ 0.6793648 , -0.020345  ,  0.03630703, -0.02157605,  0.02073142,\n",
       "         0.0333818 , -0.02719253,  0.0079505 ,  0.01641649,  0.02483679],\n",
       "       [-0.020345  ,  0.71648547, -0.06431401,  0.05732057, -0.03045045,\n",
       "        -0.05616994,  0.03658109, -0.00585334, -0.02133856, -0.03974921],\n",
       "       [ 0.03630703, -0.06431401,  0.77156903, -0.07241253,  0.05463224,\n",
       "         0.08810894, -0.06769471,  0.01858201,  0.03862574,  0.0683182 ],\n",
       "       [-0.02157605,  0.05732057, -0.07241253,  0.73071155, -0.03768986,\n",
       "        -0.05894758,  0.03950568, -0.00546624, -0.0230056 , -0.04379379],\n",
       "       [ 0.02073142, -0.03045045,  0.05463224, -0.03768986,  0.70034074,\n",
       "         0.04326739, -0.03548964,  0.01410758,  0.02109201,  0.03747016],\n",
       "       [ 0.0333818 , -0.05616994,  0.08810894, -0.05894758,  0.04326739,\n",
       "         0.74457972, -0.06022811,  0.0168485 ,  0.03590666,  0.05843572],\n",
       "       [-0.02719253,  0.03658109, -0.06769471,  0.03950568, -0.03548964,\n",
       "        -0.06022811,  0.70879195, -0.01580688, -0.03003908, -0.04651834],\n",
       "       [ 0.0079505 , -0.00585334,  0.01858201, -0.00546624,  0.01410758,\n",
       "         0.0168485 , -0.01580688,  0.67170368,  0.01081365,  0.01606861],\n",
       "       [ 0.01641649, -0.02133856,  0.03862574, -0.0230056 ,  0.02109201,\n",
       "         0.03590666, -0.03003908,  0.01081365,  0.68046194,  0.02738737],\n",
       "       [ 0.02483679, -0.03974921,  0.0683182 , -0.04379379,  0.03747016,\n",
       "         0.05843572, -0.04651834,  0.01606861,  0.02738737,  0.70972295]])"
      ]
     },
     "execution_count": 115,
     "metadata": {},
     "output_type": "execute_result"
    }
   ],
   "source": [
    "model_neuron_10topics.sigma"
   ]
  },
  {
   "cell_type": "markdown",
   "metadata": {},
   "source": [
    "# Rat Dataset 30 topics"
   ]
  },
  {
   "cell_type": "code",
   "execution_count": 107,
   "metadata": {
    "collapsed": false
   },
   "outputs": [],
   "source": [
    "model_rat_30topics = pickle.load(open(\"pickled_objects/modelrat30.p\", \"rb\"))\n",
    "classes_rat_30topics = pickle.load(open(\"pickled_objects/classesrat30.p\", \"rb\"))\n",
    "vocab_rat_30topics = pickle.load(open(\"pickled_objects/vocabrat30.p\", \"rb\"))\n",
    "counts_rat_30topics = pickle.load(open(\"pickled_objects/countsrat30.p\", \"rb\"))\n"
   ]
  },
  {
   "cell_type": "markdown",
   "metadata": {},
   "source": [
    "### Determine classification accuracy on CTM features"
   ]
  },
  {
   "cell_type": "code",
   "execution_count": 108,
   "metadata": {
    "collapsed": false
   },
   "outputs": [
    {
     "name": "stdout",
     "output_type": "stream",
     "text": [
      "Max Accuracy:  1.0 \n",
      "Min Accuracy:  0.96875 \n",
      "Average Accuracy:  0.996875\n"
     ]
    }
   ],
   "source": [
    "min_acc, max_acc, avg_acc = KFoldCrossValidation(model_rat_30topics.saved_lambdas, classes_rat_30topics, 10)\n"
   ]
  },
  {
   "cell_type": "markdown",
   "metadata": {},
   "source": [
    "### Determine classification accuracy on PCA features"
   ]
  },
  {
   "cell_type": "code",
   "execution_count": 109,
   "metadata": {
    "collapsed": false
   },
   "outputs": [
    {
     "name": "stdout",
     "output_type": "stream",
     "text": [
      "Accuracy of Logistic Regression using PCA Features with 10 principal components\n",
      "Max Accuracy:  1.0 \n",
      "Min Accuracy:  0.96875 \n",
      "Average Accuracy:  0.984375\n"
     ]
    }
   ],
   "source": [
    "print \"Accuracy of Logistic Regression using PCA Features with 10 principal components\"\n",
    "pca_rat_30topics = PCA(n_components=30)\n",
    "pca_features_rat_30topics = pca_rat_30topics.fit_transform(counts_rat_30topics)\n",
    "min_acc, max_acc, avg_acc = KFoldCrossValidation(pca_features_rat_30topics, classes_rat_30topics, 5)"
   ]
  },
  {
   "cell_type": "markdown",
   "metadata": {},
   "source": [
    "###Determine accuracy on LDA Features"
   ]
  },
  {
   "cell_type": "code",
   "execution_count": 70,
   "metadata": {
    "collapsed": false
   },
   "outputs": [],
   "source": []
  },
  {
   "cell_type": "markdown",
   "metadata": {},
   "source": [
    "# Rat Data - 5, 15, 25, 35, 45 Topics"
   ]
  },
  {
   "cell_type": "code",
   "execution_count": 9,
   "metadata": {
    "collapsed": true
   },
   "outputs": [],
   "source": [
    "rat_topics_options = [5, 15, 25, 35, 45]\n"
   ]
  },
  {
   "cell_type": "code",
   "execution_count": 10,
   "metadata": {
    "collapsed": true
   },
   "outputs": [],
   "source": [
    "# source can be either rat or neuron\n",
    "def loadSavedModel(numTopics, source):\n",
    "    # Load the trained model\n",
    "    model = pickle.load(open(\"pickled_objects/\" + source + \"/model_\" + source + \"_\" + str(numTopics) + \"topics.p\", \"rb\"))\n",
    "    classes = pickle.load(open(\"pickled_objects/\" + source + \"/classes_\" + source + \"_\" + str(numTopics) + \"topics.p\", \"rb\"))\n",
    "    vocab = pickle.load(open(\"pickled_objects/\" + source + \"/vocab_\" + source + \"_\" + str(numTopics) + \"topics.p\", \"rb\"))\n",
    "    counts = pickle.load(open(\"pickled_objects/\" + source + \"/counts_\" + source + \"_\" + str(numTopics) + \"topics.p\", \"rb\"))\n",
    "    return model, classes, vocab, counts\n",
    "\n"
   ]
  },
  {
   "cell_type": "code",
   "execution_count": 11,
   "metadata": {
    "collapsed": true
   },
   "outputs": [],
   "source": [
    "def getClassificationAccuracy(model,classes, vocab, counts):\n",
    "    return KFoldCrossValidation(model.saved_lambdas, classes, 5)   "
   ]
  },
  {
   "cell_type": "code",
   "execution_count": 12,
   "metadata": {
    "collapsed": false
   },
   "outputs": [
    {
     "name": "stdout",
     "output_type": "stream",
     "text": [
      "Rat Classification accuracy on raw counts\n",
      "Max Accuracy:  1.0 \n",
      "Min Accuracy:  0.984375 \n",
      "Average Accuracy:  0.996875\n",
      "\n",
      "\n",
      "\n",
      "Rat Classification with numTopics =  5\n",
      "Accuracy with original features\n",
      "Max Accuracy:  0.890625 \n",
      "Min Accuracy:  0.828125 \n",
      "Average Accuracy:  0.86875\n",
      "\n",
      "Accuracy with PCA Features\n",
      "Max Accuracy:  0.671875 \n",
      "Min Accuracy:  0.625 \n",
      "Average Accuracy:  0.640625\n",
      "\n",
      "\n",
      "\n",
      "Rat Classification with numTopics =  15\n",
      "Accuracy with original features\n",
      "Max Accuracy:  1.0 \n",
      "Min Accuracy:  0.984375 \n",
      "Average Accuracy:  0.996875\n",
      "\n",
      "Accuracy with PCA Features\n",
      "Max Accuracy:  0.984375 \n",
      "Min Accuracy:  0.953125 \n",
      "Average Accuracy:  0.975\n",
      "\n",
      "\n",
      "\n",
      "Rat Classification with numTopics =  25\n",
      "Accuracy with original features\n",
      "Max Accuracy:  1.0 \n",
      "Min Accuracy:  0.984375 \n",
      "Average Accuracy:  0.99375\n",
      "\n",
      "Accuracy with PCA Features\n",
      "Max Accuracy:  1.0 \n",
      "Min Accuracy:  0.984375 \n",
      "Average Accuracy:  0.99375\n",
      "\n",
      "\n",
      "\n",
      "Rat Classification with numTopics =  35\n",
      "Accuracy with original features\n",
      "Max Accuracy:  1.0 \n",
      "Min Accuracy:  1.0 \n",
      "Average Accuracy:  1.0\n",
      "\n",
      "Accuracy with PCA Features\n",
      "Max Accuracy:  1.0 \n",
      "Min Accuracy:  0.984375 \n",
      "Average Accuracy:  0.99375\n",
      "\n",
      "\n",
      "\n",
      "Rat Classification with numTopics =  45\n",
      "Accuracy with original features\n",
      "Max Accuracy:  1.0 \n",
      "Min Accuracy:  0.953125 \n",
      "Average Accuracy:  0.990625\n",
      "\n",
      "Accuracy with PCA Features\n",
      "Max Accuracy:  1.0 \n",
      "Min Accuracy:  0.984375 \n",
      "Average Accuracy:  0.996875\n",
      "\n",
      "\n",
      "\n"
     ]
    }
   ],
   "source": [
    "# Test for classification accuracy on the rat\n",
    "print \"Rat Classification accuracy on raw counts\"\n",
    "model, classes, vocab, counts = loadSavedModel(5, \"rat\")\n",
    "KFoldCrossValidation(counts, classes, 5)\n",
    "print\n",
    "print\n",
    "print\n",
    "\n",
    "for topic in rat_topics_options:\n",
    "    model, classes, vocab, counts = loadSavedModel(topic, \"rat\")\n",
    "    print \"Rat Classification with numTopics = \", topic\n",
    "    print \"Accuracy with original features\"\n",
    "    getClassificationAccuracy(model, classes, vocab, counts)\n",
    "    print\n",
    "    print \"Accuracy with PCA Features\"\n",
    "    pca_rat = PCA(n_components=topic)\n",
    "    pca_features = pca_rat.fit_transform(counts)\n",
    "    min_acc, max_acc, avg_acc = KFoldCrossValidation(pca_features, classes, 5)\n",
    "    print\n",
    "    print\n",
    "    print"
   ]
  },
  {
   "cell_type": "markdown",
   "metadata": {},
   "source": [
    "# Neuron Dataset - 15, 25, 35 topics"
   ]
  },
  {
   "cell_type": "code",
   "execution_count": 13,
   "metadata": {
    "collapsed": true
   },
   "outputs": [],
   "source": [
    "neuron_topics_options = [5, 15, 25, 35]"
   ]
  },
  {
   "cell_type": "code",
   "execution_count": 14,
   "metadata": {
    "collapsed": false
   },
   "outputs": [
    {
     "name": "stdout",
     "output_type": "stream",
     "text": [
      "Rat Classification accuracy on raw counts\n",
      "Max Accuracy:  0.97 \n",
      "Min Accuracy:  0.91 \n",
      "Average Accuracy:  0.934\n",
      "\n",
      "\n",
      "\n",
      "Neuron Classification with numTopics =  5\n",
      "Accuracy with original features\n",
      "Max Accuracy:  0.84 \n",
      "Min Accuracy:  0.72 \n",
      "Average Accuracy:  0.76\n",
      "\n",
      "Accuracy with PCA Features\n",
      "Max Accuracy:  0.93 \n",
      "Min Accuracy:  0.87 \n",
      "Average Accuracy:  0.91\n",
      "\n",
      "\n",
      "\n",
      "Neuron Classification with numTopics =  15\n",
      "Accuracy with original features\n",
      "Max Accuracy:  0.94 \n",
      "Min Accuracy:  0.9 \n",
      "Average Accuracy:  0.922\n",
      "\n",
      "Accuracy with PCA Features\n",
      "Max Accuracy:  0.94 \n",
      "Min Accuracy:  0.87 \n",
      "Average Accuracy:  0.904\n",
      "\n",
      "\n",
      "\n",
      "Neuron Classification with numTopics =  25\n",
      "Accuracy with original features\n",
      "Max Accuracy:  0.93 \n",
      "Min Accuracy:  0.9 \n",
      "Average Accuracy:  0.916\n",
      "\n",
      "Accuracy with PCA Features\n",
      "Max Accuracy:  0.98 \n",
      "Min Accuracy:  0.85 \n",
      "Average Accuracy:  0.906\n",
      "\n",
      "\n",
      "\n",
      "Neuron Classification with numTopics =  35\n",
      "Accuracy with original features\n",
      "Max Accuracy:  0.96 \n",
      "Min Accuracy:  0.87 \n",
      "Average Accuracy:  0.912\n",
      "\n",
      "Accuracy with PCA Features\n",
      "Max Accuracy:  0.94 \n",
      "Min Accuracy:  0.88 \n",
      "Average Accuracy:  0.912\n",
      "\n",
      "\n",
      "\n"
     ]
    }
   ],
   "source": [
    "print \"Rat Classification accuracy on raw counts\"\n",
    "model, classes, vocab, counts = loadSavedModel(5, \"neuron\")\n",
    "KFoldCrossValidation(counts, classes, 5)\n",
    "print\n",
    "print\n",
    "print\n",
    "\n",
    "for topic in neuron_topics_options:\n",
    "    model, classes, vocab, counts = loadSavedModel(topic, \"neuron\")\n",
    "    print \"Neuron Classification with numTopics = \", topic\n",
    "    print \"Accuracy with original features\"\n",
    "    getClassificationAccuracy(model, classes, vocab, counts)\n",
    "    print\n",
    "    print \"Accuracy with PCA Features\"\n",
    "    pca_neuron = PCA(n_components=topic)\n",
    "    pca_features = pca_rat.fit_transform(counts)\n",
    "    min_acc, max_acc, avg_acc = KFoldCrossValidation(pca_features, classes, 5)\n",
    "    print\n",
    "    print\n",
    "    print"
   ]
  },
  {
   "cell_type": "code",
   "execution_count": 15,
   "metadata": {
    "collapsed": true
   },
   "outputs": [],
   "source": [
    "def explore_relationships(numTopics, source):\n",
    "    model, classes, vocab, counts = loadSavedModel(numTopics, source)\n",
    "    # Get the top genes in each topic\n",
    "    n_top_words = 25\n",
    "    for i, topic_dist in enumerate(model.beta):\n",
    "        topic_words = np.array(vocab)[np.argsort(topic_dist)][:-n_top_words:-1]\n",
    "        print('Topic {}: {}'.format(i+1, ' '.join(topic_words)))\n",
    "        print \"\"\n",
    "    print \"Covariance matrix\"\n",
    "    print model.sigma\n",
    "    "
   ]
  },
  {
   "cell_type": "code",
   "execution_count": 16,
   "metadata": {
    "collapsed": false
   },
   "outputs": [
    {
     "name": "stdout",
     "output_type": "stream",
     "text": [
      "Topic 1: Cst3 Sparcl1 Apoe Slc1a2 Mt1 Atp1a2 Clu Dbi Cpe Rps29 Slc1a3 Prdx6 Sparc Ckb Mt2 Sepp1 Lars2 Rplp1 Aqp4 Actg1 Ptn Prdx1 Glul Itm2b\n",
      "\n",
      "Topic 2: Ttr Usmg5 Cox7c Mdh1 Rps29 Dynll1 Gstp1 Ndufa4 Pcsk2 Slc25a4 Cox6c Atp5e Enpp2 Cox7a2 Atp5g1 Camk2n1 Snca Snhg11 Uqcrh Cycs Scg5 Ttc3 Atp5g3 Atp5j\n",
      "\n",
      "Topic 3: Rps29 Npy Rplp1 Ftl1 Rps28 Rpl32 Rps3 Ndufa4 H3f3b Cox7c Akr1a1 Rpl18a Rpl35 Mdh1 Itm2b Atp6v1a Cox8a Tubb2a Fau Ddx5 Eef1a1 Rpl23 2010107E04Rik Rplp2\n",
      "\n",
      "Topic 4: Slc25a4 Usmg5 Scg5 Stmn3 Mdh1 Cox6b1 Eif4a2 Cox8a Atpif1 Cox4i1 Mif Atp5b Cycs Uqcrq Atp5j2 Tpi1 Atp6v1a Fau Zwint Tecr Rpl4 Atp5f1 Oaz1-ps Ndufa13\n",
      "\n",
      "Topic 5: Nrgn Snhg11 Rtn1 Ppp3ca Aplp1 Prkcb Prnp Camk2n1 Camk2b Nrxn1 Cpe Kif1b Itm2b Camk2a Celf2 Chn1 Lars2 Grin2b Rgs4 Gpm6b 2900097C17Rik Ttc3 Rtn4 Hpca\n",
      "\n",
      "Topic 6: Ndufa4 Mdh1 Cox6c Sub1 Aldoa Cox7a2 Actg1 Cox7b Pcp4 Stmn2 Chn1 Cycs Syt1 Slc25a4 2010107E04Rik Atp5l Uqcrh Lars2 Tagln3 Atp5e Atp6v1d Ndufa5 Atp5c1 Uqcrq\n",
      "\n",
      "Topic 7: Snca Scg5 Dynll1 Fkbp1a Calm3 Sub1 Itm2b Prnp Serinc1 Mdh1 Nsf Ywhah Atp5b Stmn3 Nrgn Atp6v0c-ps2 Prkcb Tubb2a Actg1 Olfm1 Ociad2 Chn1 Pja2 Snurf\n",
      "\n",
      "Topic 8: Snca Ywhaz Actg1 Rtn1 Tubb2a Chn1 3110035E14Rik Dynll1 Aldoa Stmn3 Atp6v1e1 Snurf Hspa8 Serinc1 Sub1 Hpca Ywhah Tpi1 Crym Itm2b Atp6v0c-ps2 Pja2 Syt1 Prnp\n",
      "\n",
      "Topic 9: Sst Vip Ttc3 Syt1 Npy Ndrg4 Aldoa Hspa8 Gad1 Gnas Scg5 Rtn1 Htr3a Atp6v0c-ps2 Tubb2a Serinc1 Snhg11 Slc25a4 Atp6v1a Mdh1 Syt11 Tcf4 Atp5b Rtn3\n",
      "\n",
      "Topic 10: Syt1 Cnr1 Scg2 Mdh1 Npy Slc25a4 Rtn1 Rab3c Htr3a 2900097C17Rik Gad2 Atp6v0c-ps2 Gnas Dner Nrxn3 Calm3 Nap1l5 Snhg11 Cck Atp5b Map1b Ndufa4 Snurf Atp1a3\n",
      "\n",
      "Topic 11: Ppp3ca Snhg11 Olfm1 Map1b Chn1 Cpe Gria1 Basp1 Aldoa Ywhaz Prnp Ttc3 Rtn3 Syt1 Nrgn Rtn1 Nptn Tcf4 Sub1 Calm3 Ppp3r1 Prkcb Tspan13 Dnm1\n",
      "\n",
      "Topic 12: Apod Mbp Ptgds Mog Enpp2 Car2 Gstp1 Cnp Scd2 Ugt8a Cd81 Mobp Ermn Tspan2 Cryab Mag Syt11 Qdpr Qk Ptma Cldn11 Ptn Hmgcs1 Aplp1\n",
      "\n",
      "Topic 13: Prkcb Cpe Ttc3 Rtn1 Ppp3ca D3Bwg0562e Dlgap1 Grm5 Map1b Scn2a1 Slc8a1 Syt1 Grin2b Atp1a3 Rasgrp1 Tcf4 Hpca Serinc1 Calm3 Syt11 Ywhah Trim2 Cadm2 Actg1\n",
      "\n",
      "Topic 14: Dynll1 Itm2a Myl12b Tubb2a Sub1 Cox7c Usmg5 Rps3a1 Stmn2 Tpi1 Rplp1 Rps6 Myl6 Cox7a2 Rpl35 Atp5j Atp5k Cox6b1 Sptbn1 Rps29 Ndufa4 Aldoa Stmn3 Cox4i1\n",
      "\n",
      "Topic 15: Atp6v1a Prkcb Aldoa Serinc1 Atp6v0c-ps2 Actg1 Tubb2a Pja2 Hpca Ywhaz Gria1 Slc8a1 Itm2b 2900097C17Rik Celf2 Tspan13 Snhg11 Syt1 Scg5 Nrgn Ppp3r1 Camta1 Kif1b Thy1\n",
      "\n",
      "Covariance matrix\n",
      "[[ 3.18479332 -0.3975801   0.36339261 -0.45979814 -1.14714679 -0.55513867\n",
      "  -1.24082048 -1.13248272 -1.06754839 -1.31563542 -1.49237668  0.92105309\n",
      "  -1.44531993  0.16712976 -1.23714884]\n",
      " [-0.3975801   1.69097926  0.49997025  1.07649534  0.57871876  1.07040716\n",
      "   1.02691432  1.00262713  0.7651779   0.81803315  0.81213905 -0.45965309\n",
      "   0.68627235  0.82895321  0.65653264]\n",
      " [ 0.36339261  0.49997025  1.97216849  0.89437066 -0.75887488  0.67788236\n",
      "  -0.14826092  0.0260237   0.16410782 -0.07569005 -0.71500011  0.2005211\n",
      "  -0.86159864  0.86769922 -0.47485062]\n",
      " [-0.45979814  1.07649534  0.89437066  2.16520742  0.16239861  1.35508705\n",
      "   0.98233696  1.07282278  0.91474147  0.8412617   0.49175295 -0.37180961\n",
      "   0.25537374  1.04782612  0.41848782]\n",
      " [-1.14714679  0.57871876 -0.75887488  0.16239861  3.33694716  0.66667358\n",
      "   2.17476266  1.76677303  1.48957416  2.11693083  3.05791164 -1.78796518\n",
      "   3.20819414  0.09031946  2.52331948]\n",
      " [-0.55513867  1.07040716  0.67788236  1.35508705  0.66667358  2.0320041\n",
      "   1.29151179  1.28892418  1.21375365  1.27832611  1.04773486 -0.8899285\n",
      "   0.87928793  1.05162968  0.90249006]\n",
      " [-1.24082048  1.02691432 -0.14826092  0.98233696  2.17476266  1.29151179\n",
      "   2.99896898  2.08430544  1.72365632  2.20878292  2.76903095 -1.86349836\n",
      "   2.72258683  0.64647328  2.30000918]\n",
      " [-1.13248272  1.00262713  0.0260237   1.07282278  1.76677303  1.28892418\n",
      "   2.08430544  2.56193985  1.59183765  1.97127455  2.35007614 -1.58927043\n",
      "   2.26363234  0.6993098   1.95122534]\n",
      " [-1.06754839  0.7651779   0.16410782  0.91474147  1.48957416  1.21375365\n",
      "   1.72365632  1.59183765  2.81907428  2.37243663  2.02914353 -1.70458339\n",
      "   2.01271021  0.56963199  1.78090337]\n",
      " [-1.31563542  0.81803315 -0.07569005  0.8412617   2.11693083  1.27832611\n",
      "   2.20878292  1.97127455  2.37243663  3.51234808  2.77827284 -2.29615319\n",
      "   2.80552679  0.54613933  2.4089911 ]\n",
      " [-1.49237668  0.81213905 -0.71500011  0.49175295  3.05791164  1.04773486\n",
      "   2.76903095  2.35007614  2.02914353  2.77827284  4.40871653 -2.52219152\n",
      "   3.84446844  0.32298488  3.10829761]\n",
      " [ 0.92105309 -0.45965309  0.2005211  -0.37180961 -1.78796518 -0.8899285\n",
      "  -1.86349836 -1.58927043 -1.70458339 -2.29615319 -2.52219152  4.58232158\n",
      "  -2.55697857 -0.58593004 -2.22615947]\n",
      " [-1.44531993  0.68627235 -0.86159864  0.25537374  3.20819414  0.87928793\n",
      "   2.72258683  2.26363234  2.01271021  2.80552679  3.84446844 -2.55697857\n",
      "   4.69736129  0.18517678  3.20662541]\n",
      " [ 0.16712976  0.82895321  0.86769922  1.04782612  0.09031946  1.05162968\n",
      "   0.64647328  0.6993098   0.56963199  0.54613933  0.32298488 -0.58593004\n",
      "   0.18517678  1.96839727  0.33033851]\n",
      " [-1.23714884  0.65653264 -0.47485062  0.41848782  2.52331948  0.90249006\n",
      "   2.30000918  1.95122534  1.78090337  2.4089911   3.10829761 -2.22615947\n",
      "   3.20662541  0.33033851  3.28929169]]\n"
     ]
    }
   ],
   "source": [
    "explore_relationships(15, \"neuron\")"
   ]
  },
  {
   "cell_type": "code",
   "execution_count": null,
   "metadata": {
    "collapsed": true
   },
   "outputs": [],
   "source": []
  }
 ],
 "metadata": {
  "kernelspec": {
   "display_name": "Python 2",
   "language": "python",
   "name": "python2"
  },
  "language_info": {
   "codemirror_mode": {
    "name": "ipython",
    "version": 2
   },
   "file_extension": ".py",
   "mimetype": "text/x-python",
   "name": "python",
   "nbconvert_exporter": "python",
   "pygments_lexer": "ipython2",
   "version": "2.7.9"
  }
 },
 "nbformat": 4,
 "nbformat_minor": 0
}
